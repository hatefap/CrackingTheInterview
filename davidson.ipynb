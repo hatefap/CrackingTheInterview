{
  "nbformat": 4,
  "nbformat_minor": 0,
  "metadata": {
    "colab": {
      "name": "davidson.ipynb",
      "provenance": [],
      "collapsed_sections": [],
      "mount_file_id": "14cVu1gQBHQhcR9VYDoZqAI0nO3hHUOYw",
      "authorship_tag": "ABX9TyOQIxIhWn5HrmlLDCAkfDL6",
      "include_colab_link": true
    },
    "kernelspec": {
      "name": "python3",
      "display_name": "Python 3"
    },
    "language_info": {
      "name": "python"
    }
  },
  "cells": [
    {
      "cell_type": "markdown",
      "metadata": {
        "id": "view-in-github",
        "colab_type": "text"
      },
      "source": [
        "<a href=\"https://colab.research.google.com/github/hatefap/CrackingTheInterview/blob/master/davidson.ipynb\" target=\"_parent\"><img src=\"https://colab.research.google.com/assets/colab-badge.svg\" alt=\"Open In Colab\"/></a>"
      ]
    },
    {
      "cell_type": "code",
      "metadata": {
        "id": "1KM2QRTaGSBm"
      },
      "source": [
        "import pandas as pd\n",
        "davidson_path = \"drive/MyDrive/davidson.csv\"\n",
        "dvs = pd.read_csv(davidson_path)"
      ],
      "execution_count": null,
      "outputs": []
    },
    {
      "cell_type": "code",
      "metadata": {
        "id": "SUpHng1XRR83"
      },
      "source": [
        "# https://arxiv.org/pdf/1908.11049v1.pdf\n",
        "# file:///home/hatef/shared_folder_vm/theses/english_dataset/OverviewHasocT3-12.pdf"
      ],
      "execution_count": null,
      "outputs": []
    },
    {
      "cell_type": "code",
      "metadata": {
        "id": "RbRBLYSzsWUJ"
      },
      "source": [
        "pd.set_option('display.max_colwidth', None)\n"
      ],
      "execution_count": null,
      "outputs": []
    },
    {
      "cell_type": "code",
      "metadata": {
        "id": "iEobqSFasDLm"
      },
      "source": [
        "dvs = dvs[[\"tweet\", \"class\"]]\n",
        "hate_df = dvs.loc[dvs['class'] == 0]\n",
        "normal_df = dvs.loc[dvs['class'] == 2]"
      ],
      "execution_count": null,
      "outputs": []
    },
    {
      "cell_type": "code",
      "metadata": {
        "colab": {
          "base_uri": "https://localhost:8080/"
        },
        "id": "8MTl_ju6wgUR",
        "outputId": "9e57c861-9224-4b09-f33b-aba26e464520"
      },
      "source": [
        "print(hate_df.shape, normal_df.shape)"
      ],
      "execution_count": null,
      "outputs": [
        {
          "output_type": "stream",
          "text": [
            "(1430, 2) (4163, 2)\n"
          ],
          "name": "stdout"
        }
      ]
    },
    {
      "cell_type": "code",
      "metadata": {
        "id": "BTLObaZfGcKj"
      },
      "source": [
        "normal_df = normal_df.sample(n=2960, random_state=101)"
      ],
      "execution_count": null,
      "outputs": []
    },
    {
      "cell_type": "code",
      "metadata": {
        "id": "bdVRqd9mGetr"
      },
      "source": [
        "df = hate_df.append(normal_df)"
      ],
      "execution_count": null,
      "outputs": []
    },
    {
      "cell_type": "code",
      "metadata": {
        "colab": {
          "base_uri": "https://localhost:8080/",
          "height": 204
        },
        "id": "bJ-Oesvuw84h",
        "outputId": "670ba78c-f738-4b1c-f54a-a7ab103a8e03"
      },
      "source": [
        "df.head()"
      ],
      "execution_count": null,
      "outputs": [
        {
          "output_type": "execute_result",
          "data": {
            "text/html": [
              "<div>\n",
              "<style scoped>\n",
              "    .dataframe tbody tr th:only-of-type {\n",
              "        vertical-align: middle;\n",
              "    }\n",
              "\n",
              "    .dataframe tbody tr th {\n",
              "        vertical-align: top;\n",
              "    }\n",
              "\n",
              "    .dataframe thead th {\n",
              "        text-align: right;\n",
              "    }\n",
              "</style>\n",
              "<table border=\"1\" class=\"dataframe\">\n",
              "  <thead>\n",
              "    <tr style=\"text-align: right;\">\n",
              "      <th></th>\n",
              "      <th>tweet</th>\n",
              "      <th>class</th>\n",
              "    </tr>\n",
              "  </thead>\n",
              "  <tbody>\n",
              "    <tr>\n",
              "      <th>85</th>\n",
              "      <td>\"@Blackman38Tide: @WhaleLookyHere @HowdyDowdy11 queer\" gaywad</td>\n",
              "      <td>0</td>\n",
              "    </tr>\n",
              "    <tr>\n",
              "      <th>89</th>\n",
              "      <td>\"@CB_Baby24: @white_thunduh alsarabsss\" hes a beaner smh you can tell hes a mexican</td>\n",
              "      <td>0</td>\n",
              "    </tr>\n",
              "    <tr>\n",
              "      <th>110</th>\n",
              "      <td>\"@DevilGrimz: @VigxRArts you're fucking gay, blacklisted hoe\" Holding out for #TehGodClan anyway http://t.co/xUCcwoetmn</td>\n",
              "      <td>0</td>\n",
              "    </tr>\n",
              "    <tr>\n",
              "      <th>184</th>\n",
              "      <td>\"@MarkRoundtreeJr: LMFAOOOO I HATE BLACK PEOPLE https://t.co/RNvD2nLCDR\" This is why there's black people and niggers</td>\n",
              "      <td>0</td>\n",
              "    </tr>\n",
              "    <tr>\n",
              "      <th>202</th>\n",
              "      <td>\"@NoChillPaz: \"At least I'm not a nigger\" http://t.co/RGJa7CfoiT\"\\n\\nLmfao</td>\n",
              "      <td>0</td>\n",
              "    </tr>\n",
              "  </tbody>\n",
              "</table>\n",
              "</div>"
            ],
            "text/plain": [
              "                                                                                                                       tweet  class\n",
              "85                                                             \"@Blackman38Tide: @WhaleLookyHere @HowdyDowdy11 queer\" gaywad      0\n",
              "89                                       \"@CB_Baby24: @white_thunduh alsarabsss\" hes a beaner smh you can tell hes a mexican      0\n",
              "110  \"@DevilGrimz: @VigxRArts you're fucking gay, blacklisted hoe\" Holding out for #TehGodClan anyway http://t.co/xUCcwoetmn      0\n",
              "184    \"@MarkRoundtreeJr: LMFAOOOO I HATE BLACK PEOPLE https://t.co/RNvD2nLCDR\" This is why there's black people and niggers      0\n",
              "202                                               \"@NoChillPaz: \"At least I'm not a nigger\" http://t.co/RGJa7CfoiT\"\\n\\nLmfao      0"
            ]
          },
          "metadata": {
            "tags": []
          },
          "execution_count": 24
        }
      ]
    },
    {
      "cell_type": "code",
      "metadata": {
        "colab": {
          "base_uri": "https://localhost:8080/",
          "height": 238
        },
        "id": "ENKjrdIBxEI2",
        "outputId": "547490bf-8984-4ed3-d18c-8616c0cad245"
      },
      "source": [
        "df.tail()"
      ],
      "execution_count": null,
      "outputs": [
        {
          "output_type": "execute_result",
          "data": {
            "text/html": [
              "<div>\n",
              "<style scoped>\n",
              "    .dataframe tbody tr th:only-of-type {\n",
              "        vertical-align: middle;\n",
              "    }\n",
              "\n",
              "    .dataframe tbody tr th {\n",
              "        vertical-align: top;\n",
              "    }\n",
              "\n",
              "    .dataframe thead th {\n",
              "        text-align: right;\n",
              "    }\n",
              "</style>\n",
              "<table border=\"1\" class=\"dataframe\">\n",
              "  <thead>\n",
              "    <tr style=\"text-align: right;\">\n",
              "      <th></th>\n",
              "      <th>tweet</th>\n",
              "      <th>class</th>\n",
              "    </tr>\n",
              "  </thead>\n",
              "  <tbody>\n",
              "    <tr>\n",
              "      <th>14492</th>\n",
              "      <td>RT @BroganWebber: Wiz is garbage to be put in the trash can known as Beyonc&amp;#233; to be put in a dumpster known as the VMAs.</td>\n",
              "      <td>2</td>\n",
              "    </tr>\n",
              "    <tr>\n",
              "      <th>2639</th>\n",
              "      <td>@Boazziz He promised to stand with the muzzies, so...</td>\n",
              "      <td>2</td>\n",
              "    </tr>\n",
              "    <tr>\n",
              "      <th>3235</th>\n",
              "      <td>@GabeJGonzalez @RPopBox and a prime Leija would trash most of these 140 dudes today!</td>\n",
              "      <td>2</td>\n",
              "    </tr>\n",
              "    <tr>\n",
              "      <th>16497</th>\n",
              "      <td>RT @Mobute: Rick Scott vs. Charlie Crist is the worst gubernatorial election in America, and it's the face of our ugly future. http://t.co/&amp;#8230;</td>\n",
              "      <td>2</td>\n",
              "    </tr>\n",
              "    <tr>\n",
              "      <th>19826</th>\n",
              "      <td>RT @paulabruederle: Some birds aren't meant to be caged</td>\n",
              "      <td>2</td>\n",
              "    </tr>\n",
              "  </tbody>\n",
              "</table>\n",
              "</div>"
            ],
            "text/plain": [
              "                                                                                                                                                    tweet  class\n",
              "14492                        RT @BroganWebber: Wiz is garbage to be put in the trash can known as Beyonc&#233; to be put in a dumpster known as the VMAs.      2\n",
              "2639                                                                                                @Boazziz He promised to stand with the muzzies, so...      2\n",
              "3235                                                                 @GabeJGonzalez @RPopBox and a prime Leija would trash most of these 140 dudes today!      2\n",
              "16497  RT @Mobute: Rick Scott vs. Charlie Crist is the worst gubernatorial election in America, and it's the face of our ugly future. http://t.co/&#8230;      2\n",
              "19826                                                                                             RT @paulabruederle: Some birds aren't meant to be caged      2"
            ]
          },
          "metadata": {
            "tags": []
          },
          "execution_count": 25
        }
      ]
    },
    {
      "cell_type": "code",
      "metadata": {
        "id": "hYXhU4lwGjCb"
      },
      "source": [
        "def clean_davidson_class(row):\n",
        "  cls = row['class']\n",
        "  if cls == 0:\n",
        "    return 1\n",
        "  else: \n",
        "    return 0"
      ],
      "execution_count": null,
      "outputs": []
    },
    {
      "cell_type": "code",
      "metadata": {
        "id": "sErB8BjSGl0O"
      },
      "source": [
        "df[\"class\"] = df.apply(clean_davidson_class, axis=1)"
      ],
      "execution_count": null,
      "outputs": []
    },
    {
      "cell_type": "code",
      "metadata": {
        "id": "1tEIXST8GodU"
      },
      "source": [
        "regex_for_username = '@[^\\s]+'\n",
        "df = df.replace(to_replace = regex_for_username, value = '@USER', regex = True)"
      ],
      "execution_count": null,
      "outputs": []
    },
    {
      "cell_type": "code",
      "metadata": {
        "id": "KeET2WB2GsRk"
      },
      "source": [
        "df = df[['tweet', 'class']]"
      ],
      "execution_count": null,
      "outputs": []
    },
    {
      "cell_type": "code",
      "metadata": {
        "colab": {
          "base_uri": "https://localhost:8080/",
          "height": 204
        },
        "id": "v_194qXwxj2S",
        "outputId": "8c8d896c-7e80-4abf-d01a-c5ec4831ce59"
      },
      "source": [
        "df.head()"
      ],
      "execution_count": null,
      "outputs": [
        {
          "output_type": "execute_result",
          "data": {
            "text/html": [
              "<div>\n",
              "<style scoped>\n",
              "    .dataframe tbody tr th:only-of-type {\n",
              "        vertical-align: middle;\n",
              "    }\n",
              "\n",
              "    .dataframe tbody tr th {\n",
              "        vertical-align: top;\n",
              "    }\n",
              "\n",
              "    .dataframe thead th {\n",
              "        text-align: right;\n",
              "    }\n",
              "</style>\n",
              "<table border=\"1\" class=\"dataframe\">\n",
              "  <thead>\n",
              "    <tr style=\"text-align: right;\">\n",
              "      <th></th>\n",
              "      <th>tweet</th>\n",
              "      <th>class</th>\n",
              "    </tr>\n",
              "  </thead>\n",
              "  <tbody>\n",
              "    <tr>\n",
              "      <th>85</th>\n",
              "      <td>\"@USER @USER @USER queer\" gaywad</td>\n",
              "      <td>1</td>\n",
              "    </tr>\n",
              "    <tr>\n",
              "      <th>89</th>\n",
              "      <td>\"@USER @USER alsarabsss\" hes a beaner smh you can tell hes a mexican</td>\n",
              "      <td>1</td>\n",
              "    </tr>\n",
              "    <tr>\n",
              "      <th>110</th>\n",
              "      <td>\"@USER @USER you're fucking gay, blacklisted hoe\" Holding out for #TehGodClan anyway http://t.co/xUCcwoetmn</td>\n",
              "      <td>1</td>\n",
              "    </tr>\n",
              "    <tr>\n",
              "      <th>184</th>\n",
              "      <td>\"@USER LMFAOOOO I HATE BLACK PEOPLE https://t.co/RNvD2nLCDR\" This is why there's black people and niggers</td>\n",
              "      <td>1</td>\n",
              "    </tr>\n",
              "    <tr>\n",
              "      <th>202</th>\n",
              "      <td>\"@USER \"At least I'm not a nigger\" http://t.co/RGJa7CfoiT\"\\n\\nLmfao</td>\n",
              "      <td>1</td>\n",
              "    </tr>\n",
              "  </tbody>\n",
              "</table>\n",
              "</div>"
            ],
            "text/plain": [
              "                                                                                                           tweet  class\n",
              "85                                                                              \"@USER @USER @USER queer\" gaywad      1\n",
              "89                                          \"@USER @USER alsarabsss\" hes a beaner smh you can tell hes a mexican      1\n",
              "110  \"@USER @USER you're fucking gay, blacklisted hoe\" Holding out for #TehGodClan anyway http://t.co/xUCcwoetmn      1\n",
              "184    \"@USER LMFAOOOO I HATE BLACK PEOPLE https://t.co/RNvD2nLCDR\" This is why there's black people and niggers      1\n",
              "202                                          \"@USER \"At least I'm not a nigger\" http://t.co/RGJa7CfoiT\"\\n\\nLmfao      1"
            ]
          },
          "metadata": {
            "tags": []
          },
          "execution_count": 30
        }
      ]
    },
    {
      "cell_type": "code",
      "metadata": {
        "id": "mzBSVHkHGvcT"
      },
      "source": [
        "davidson_df = df.reset_index(drop=True)"
      ],
      "execution_count": null,
      "outputs": []
    },
    {
      "cell_type": "code",
      "metadata": {
        "colab": {
          "base_uri": "https://localhost:8080/"
        },
        "id": "SKAhZb2y6QNj",
        "outputId": "1453cb40-45d5-4295-a175-2d92abba618e"
      },
      "source": [
        "davidson_df.shape"
      ],
      "execution_count": null,
      "outputs": [
        {
          "output_type": "execute_result",
          "data": {
            "text/plain": [
              "(4390, 2)"
            ]
          },
          "metadata": {
            "tags": []
          },
          "execution_count": 32
        }
      ]
    },
    {
      "cell_type": "code",
      "metadata": {
        "id": "G6PwGh7IGxha"
      },
      "source": [
        "hate_speech_mlma_path =  \"drive/MyDrive/english_datasets/en_dataset_with_stop_words.csv\"\n"
      ],
      "execution_count": null,
      "outputs": []
    },
    {
      "cell_type": "code",
      "metadata": {
        "id": "kX515BWm6S5s"
      },
      "source": [
        "mlma = pd.read_csv(hate_speech_mlma_path)"
      ],
      "execution_count": null,
      "outputs": []
    },
    {
      "cell_type": "code",
      "metadata": {
        "colab": {
          "base_uri": "https://localhost:8080/",
          "height": 1000
        },
        "id": "j9Zcsiu26YLw",
        "outputId": "9ed823d2-7e91-4a1e-f347-d764afd9200d"
      },
      "source": [
        "mlma.head(30)"
      ],
      "execution_count": null,
      "outputs": [
        {
          "output_type": "execute_result",
          "data": {
            "text/html": [
              "<div>\n",
              "<style scoped>\n",
              "    .dataframe tbody tr th:only-of-type {\n",
              "        vertical-align: middle;\n",
              "    }\n",
              "\n",
              "    .dataframe tbody tr th {\n",
              "        vertical-align: top;\n",
              "    }\n",
              "\n",
              "    .dataframe thead th {\n",
              "        text-align: right;\n",
              "    }\n",
              "</style>\n",
              "<table border=\"1\" class=\"dataframe\">\n",
              "  <thead>\n",
              "    <tr style=\"text-align: right;\">\n",
              "      <th></th>\n",
              "      <th>HITId</th>\n",
              "      <th>tweet</th>\n",
              "      <th>sentiment</th>\n",
              "      <th>directness</th>\n",
              "      <th>annotator_sentiment</th>\n",
              "      <th>target</th>\n",
              "      <th>group</th>\n",
              "    </tr>\n",
              "  </thead>\n",
              "  <tbody>\n",
              "    <tr>\n",
              "      <th>0</th>\n",
              "      <td>0</td>\n",
              "      <td>If America had another 8 years of Obama's ideology via Hillary we'd be well on our way to being a shithole country.</td>\n",
              "      <td>fearful_abusive_hateful_disrespectful_normal</td>\n",
              "      <td>indirect</td>\n",
              "      <td>anger_fear_shock_sadness_disgust</td>\n",
              "      <td>origin</td>\n",
              "      <td>other</td>\n",
              "    </tr>\n",
              "    <tr>\n",
              "      <th>1</th>\n",
              "      <td>1</td>\n",
              "      <td>Most Canadians have never met seen or associated with a person who are currently labelled as \\retarded\\ . I plan t\\u2026 @URL</td>\n",
              "      <td>offensive</td>\n",
              "      <td>indirect</td>\n",
              "      <td>sadness_indifference</td>\n",
              "      <td>disability</td>\n",
              "      <td>special_needs</td>\n",
              "    </tr>\n",
              "    <tr>\n",
              "      <th>2</th>\n",
              "      <td>2</td>\n",
              "      <td>Hahaha grow up faggot @URL</td>\n",
              "      <td>offensive</td>\n",
              "      <td>indirect</td>\n",
              "      <td>shock_disgust</td>\n",
              "      <td>sexual_orientation</td>\n",
              "      <td>women</td>\n",
              "    </tr>\n",
              "    <tr>\n",
              "      <th>3</th>\n",
              "      <td>3</td>\n",
              "      <td>@user queue is fucking retarded it makes everyone feel like they don't even have a chance make it fcfs again for fucksake</td>\n",
              "      <td>offensive_hateful</td>\n",
              "      <td>direct</td>\n",
              "      <td>shock_disgust</td>\n",
              "      <td>disability</td>\n",
              "      <td>special_needs</td>\n",
              "    </tr>\n",
              "    <tr>\n",
              "      <th>4</th>\n",
              "      <td>4</td>\n",
              "      <td>@user Que ce ne soit pas des Burundais refugies Alerte car leur corps sont visibles a loeil nu</td>\n",
              "      <td>hateful_normal</td>\n",
              "      <td>indirect</td>\n",
              "      <td>shock_disgust</td>\n",
              "      <td>origin</td>\n",
              "      <td>other</td>\n",
              "    </tr>\n",
              "    <tr>\n",
              "      <th>5</th>\n",
              "      <td>5</td>\n",
              "      <td>dude i\\u2019m so tired of being retarded</td>\n",
              "      <td>offensive</td>\n",
              "      <td>indirect</td>\n",
              "      <td>anger_sadness</td>\n",
              "      <td>disability</td>\n",
              "      <td>special_needs</td>\n",
              "    </tr>\n",
              "    <tr>\n",
              "      <th>6</th>\n",
              "      <td>6</td>\n",
              "      <td>Pretty sure if an employee of Philip Green called him a 'balding racist sexist twat' it would be perceived as dismi\\u2026 @URL</td>\n",
              "      <td>offensive</td>\n",
              "      <td>indirect</td>\n",
              "      <td>anger_sadness</td>\n",
              "      <td>other</td>\n",
              "      <td>other</td>\n",
              "    </tr>\n",
              "    <tr>\n",
              "      <th>7</th>\n",
              "      <td>7</td>\n",
              "      <td>@user @user Btw. Are we now allowed to say \\shithole\\ countries? Are we also allowed to say how wes\\u2026 @URL</td>\n",
              "      <td>normal</td>\n",
              "      <td>indirect</td>\n",
              "      <td>anger_sadness</td>\n",
              "      <td>origin</td>\n",
              "      <td>other</td>\n",
              "    </tr>\n",
              "    <tr>\n",
              "      <th>8</th>\n",
              "      <td>8</td>\n",
              "      <td>This bitch Is retarded \\ud83d\\ude02\\ud83d\\ude02\\ud83d\\ude02\\ud83d\\ude02 I hate her @URL</td>\n",
              "      <td>offensive</td>\n",
              "      <td>indirect</td>\n",
              "      <td>anger_sadness</td>\n",
              "      <td>disability</td>\n",
              "      <td>women</td>\n",
              "    </tr>\n",
              "    <tr>\n",
              "      <th>9</th>\n",
              "      <td>9</td>\n",
              "      <td>@user Still a bitter cunt. Why so much interest in arsenal? He isn't the only player to player fod us and get sold.</td>\n",
              "      <td>abusive_hateful</td>\n",
              "      <td>indirect</td>\n",
              "      <td>anger_sadness</td>\n",
              "      <td>gender</td>\n",
              "      <td>women</td>\n",
              "    </tr>\n",
              "    <tr>\n",
              "      <th>10</th>\n",
              "      <td>10</td>\n",
              "      <td>@user @user To losely quote Trump/Trumpers. We dont need immigrants - from Vietnam in this country.… @URL</td>\n",
              "      <td>offensive</td>\n",
              "      <td>indirect</td>\n",
              "      <td>anger_sadness</td>\n",
              "      <td>origin</td>\n",
              "      <td>immigrants</td>\n",
              "    </tr>\n",
              "    <tr>\n",
              "      <th>11</th>\n",
              "      <td>11</td>\n",
              "      <td>children = 52% of refugees</td>\n",
              "      <td>fearful_abusive_hateful_normal</td>\n",
              "      <td>indirect</td>\n",
              "      <td>anger_sadness</td>\n",
              "      <td>gender</td>\n",
              "      <td>refugees</td>\n",
              "    </tr>\n",
              "    <tr>\n",
              "      <th>12</th>\n",
              "      <td>12</td>\n",
              "      <td>It doesn’t right? He a negro by default</td>\n",
              "      <td>fearful_offensive_disrespectful_hateful_normal</td>\n",
              "      <td>indirect</td>\n",
              "      <td>confusion_sadness_shock_indifference_disgust</td>\n",
              "      <td>origin</td>\n",
              "      <td>african_descent</td>\n",
              "    </tr>\n",
              "    <tr>\n",
              "      <th>13</th>\n",
              "      <td>13</td>\n",
              "      <td>absolute mongoloid gtfo LMAOOO @URL</td>\n",
              "      <td>offensive</td>\n",
              "      <td>indirect</td>\n",
              "      <td>confusion_sadness_shock_indifference_disgust</td>\n",
              "      <td>disability</td>\n",
              "      <td>special_needs</td>\n",
              "    </tr>\n",
              "    <tr>\n",
              "      <th>14</th>\n",
              "      <td>14</td>\n",
              "      <td>Many MDSZ's classical and golden scenes will be CUT just because of the stupid retarded and shitty idea of going a\\u2026 @URL</td>\n",
              "      <td>offensive_normal</td>\n",
              "      <td>indirect</td>\n",
              "      <td>confusion_sadness_shock_indifference_disgust</td>\n",
              "      <td>disability</td>\n",
              "      <td>special_needs</td>\n",
              "    </tr>\n",
              "    <tr>\n",
              "      <th>15</th>\n",
              "      <td>15</td>\n",
              "      <td>@user @user What the fuck suicide is male prostitute rubbish chinaman lee hsien loong imagining h\\u2026 @URL</td>\n",
              "      <td>offensive</td>\n",
              "      <td>indirect</td>\n",
              "      <td>confusion_sadness_shock_indifference_disgust</td>\n",
              "      <td>origin</td>\n",
              "      <td>muslims</td>\n",
              "    </tr>\n",
              "    <tr>\n",
              "      <th>16</th>\n",
              "      <td>16</td>\n",
              "      <td>@user Are you okay with giving benefits to illegal aliens? Ary okay with them working here illegally? Ar… @URL</td>\n",
              "      <td>hateful</td>\n",
              "      <td>indirect</td>\n",
              "      <td>anger_sadness</td>\n",
              "      <td>origin</td>\n",
              "      <td>immigrants</td>\n",
              "    </tr>\n",
              "    <tr>\n",
              "      <th>17</th>\n",
              "      <td>17</td>\n",
              "      <td>this mongoloid literally said the wrong place 15 times. @URL</td>\n",
              "      <td>offensive</td>\n",
              "      <td>indirect</td>\n",
              "      <td>anger_sadness</td>\n",
              "      <td>origin</td>\n",
              "      <td>special_needs</td>\n",
              "    </tr>\n",
              "    <tr>\n",
              "      <th>18</th>\n",
              "      <td>18</td>\n",
              "      <td>Everything is better. When her cunt is alive..</td>\n",
              "      <td>offensive</td>\n",
              "      <td>indirect</td>\n",
              "      <td>anger_sadness</td>\n",
              "      <td>gender</td>\n",
              "      <td>women</td>\n",
              "    </tr>\n",
              "    <tr>\n",
              "      <th>19</th>\n",
              "      <td>19</td>\n",
              "      <td>@user Unaccounted illegal aliens are happy. Tufail is one</td>\n",
              "      <td>offensive</td>\n",
              "      <td>indirect</td>\n",
              "      <td>anger_sadness</td>\n",
              "      <td>origin</td>\n",
              "      <td>immigrants</td>\n",
              "    </tr>\n",
              "    <tr>\n",
              "      <th>20</th>\n",
              "      <td>20</td>\n",
              "      <td>What measures you should opt for to keep the premises of your \\ud83c\\udfe2 office kitchen and break/lunch rooms \\ud83e\\uddf9 spic &amp;amp; span\\u2026 @URL</td>\n",
              "      <td>offensive</td>\n",
              "      <td>indirect</td>\n",
              "      <td>confusion_indifference</td>\n",
              "      <td>other</td>\n",
              "      <td>special_needs</td>\n",
              "    </tr>\n",
              "    <tr>\n",
              "      <th>21</th>\n",
              "      <td>21</td>\n",
              "      <td>@user @user Economic asylum isn\\u2019t a thing. Neither is \\u201cmy country is a shithole\\u201d asylum. \\n\\nHow m\\u2026 @URL</td>\n",
              "      <td>abusive_offensive_hateful_disrespectful_normal</td>\n",
              "      <td>indirect</td>\n",
              "      <td>confusion_indifference</td>\n",
              "      <td>origin</td>\n",
              "      <td>other</td>\n",
              "    </tr>\n",
              "    <tr>\n",
              "      <th>22</th>\n",
              "      <td>22</td>\n",
              "      <td>retarded toxic femininity \\ud83d\\ude2a @URL</td>\n",
              "      <td>offensive</td>\n",
              "      <td>indirect</td>\n",
              "      <td>confusion_indifference</td>\n",
              "      <td>gender</td>\n",
              "      <td>women</td>\n",
              "    </tr>\n",
              "    <tr>\n",
              "      <th>23</th>\n",
              "      <td>23</td>\n",
              "      <td>man i leave for one week and the first twat to nut on this</td>\n",
              "      <td>abusive_offensive_hateful_disrespectful_normal</td>\n",
              "      <td>indirect</td>\n",
              "      <td>confusion_indifference</td>\n",
              "      <td>other</td>\n",
              "      <td>women</td>\n",
              "    </tr>\n",
              "    <tr>\n",
              "      <th>24</th>\n",
              "      <td>24</td>\n",
              "      <td>Scomo the biggest faggot in Madden history\\ud83d\\ude02\\ud83d\\ude02\\ud83d\\ude02he just bashes everyone who has anything to do with Madden because he\\u2026 @URL</td>\n",
              "      <td>offensive</td>\n",
              "      <td>indirect</td>\n",
              "      <td>anger_confusion</td>\n",
              "      <td>sexual_orientation</td>\n",
              "      <td>other</td>\n",
              "    </tr>\n",
              "    <tr>\n",
              "      <th>25</th>\n",
              "      <td>25</td>\n",
              "      <td>Now Trump hate the jews lmfao ya niggas are full retard. You know he work for @user and @user right? An\\u2026 @URL</td>\n",
              "      <td>offensive</td>\n",
              "      <td>indirect</td>\n",
              "      <td>sadness_indifference</td>\n",
              "      <td>disability</td>\n",
              "      <td>special_needs</td>\n",
              "    </tr>\n",
              "    <tr>\n",
              "      <th>26</th>\n",
              "      <td>26</td>\n",
              "      <td>@user @user Honduras Guatemala??? Would these be considered shithole countries as well?</td>\n",
              "      <td>offensive</td>\n",
              "      <td>indirect</td>\n",
              "      <td>sadness_indifference</td>\n",
              "      <td>origin</td>\n",
              "      <td>other</td>\n",
              "    </tr>\n",
              "    <tr>\n",
              "      <th>27</th>\n",
              "      <td>27</td>\n",
              "      <td>dawg rondo is fucking retarded</td>\n",
              "      <td>offensive</td>\n",
              "      <td>indirect</td>\n",
              "      <td>sadness_indifference</td>\n",
              "      <td>origin</td>\n",
              "      <td>other</td>\n",
              "    </tr>\n",
              "    <tr>\n",
              "      <th>28</th>\n",
              "      <td>28</td>\n",
              "      <td>get it because they\\u2019re dead because communist is literally retard mode</td>\n",
              "      <td>offensive</td>\n",
              "      <td>indirect</td>\n",
              "      <td>indifference_disgust</td>\n",
              "      <td>disability</td>\n",
              "      <td>special_needs</td>\n",
              "    </tr>\n",
              "    <tr>\n",
              "      <th>29</th>\n",
              "      <td>29</td>\n",
              "      <td>@user Welcome to the twitter club known as.. you've been reported by a far left retarded cry baby..!\\u2026 @URL</td>\n",
              "      <td>offensive_hateful</td>\n",
              "      <td>indirect</td>\n",
              "      <td>indifference_disgust</td>\n",
              "      <td>disability</td>\n",
              "      <td>special_needs</td>\n",
              "    </tr>\n",
              "  </tbody>\n",
              "</table>\n",
              "</div>"
            ],
            "text/plain": [
              "    HITId  ...            group\n",
              "0       0  ...            other\n",
              "1       1  ...    special_needs\n",
              "2       2  ...            women\n",
              "3       3  ...    special_needs\n",
              "4       4  ...            other\n",
              "5       5  ...    special_needs\n",
              "6       6  ...            other\n",
              "7       7  ...            other\n",
              "8       8  ...            women\n",
              "9       9  ...            women\n",
              "10     10  ...       immigrants\n",
              "11     11  ...         refugees\n",
              "12     12  ...  african_descent\n",
              "13     13  ...    special_needs\n",
              "14     14  ...    special_needs\n",
              "15     15  ...          muslims\n",
              "16     16  ...       immigrants\n",
              "17     17  ...    special_needs\n",
              "18     18  ...            women\n",
              "19     19  ...       immigrants\n",
              "20     20  ...    special_needs\n",
              "21     21  ...            other\n",
              "22     22  ...            women\n",
              "23     23  ...            women\n",
              "24     24  ...            other\n",
              "25     25  ...    special_needs\n",
              "26     26  ...            other\n",
              "27     27  ...            other\n",
              "28     28  ...    special_needs\n",
              "29     29  ...    special_needs\n",
              "\n",
              "[30 rows x 7 columns]"
            ]
          },
          "metadata": {
            "tags": []
          },
          "execution_count": 51
        }
      ]
    },
    {
      "cell_type": "code",
      "metadata": {
        "id": "zKn72wnt6a1P"
      },
      "source": [
        "mlma = mlma.loc[mlma['sentiment'].str.contains('hateful')]"
      ],
      "execution_count": null,
      "outputs": []
    },
    {
      "cell_type": "code",
      "metadata": {
        "id": "AHxr9Uqm9MoJ"
      },
      "source": [
        "mlma = mlma[['tweet', 'sentiment']]\n",
        "mlma.columns = ['tweet', 'class']"
      ],
      "execution_count": null,
      "outputs": []
    },
    {
      "cell_type": "code",
      "metadata": {
        "id": "l9A-RUgk96Ii"
      },
      "source": [
        "mlma[\"class\"] = mlma.apply(lambda x: 1, axis=1)"
      ],
      "execution_count": null,
      "outputs": []
    },
    {
      "cell_type": "code",
      "metadata": {
        "colab": {
          "base_uri": "https://localhost:8080/",
          "height": 204
        },
        "id": "TA0qXVAZA0tH",
        "outputId": "0b88f349-0a8e-4f96-a0da-dc7a006a78da"
      },
      "source": [
        "mlma.head()"
      ],
      "execution_count": null,
      "outputs": [
        {
          "output_type": "execute_result",
          "data": {
            "text/html": [
              "<div>\n",
              "<style scoped>\n",
              "    .dataframe tbody tr th:only-of-type {\n",
              "        vertical-align: middle;\n",
              "    }\n",
              "\n",
              "    .dataframe tbody tr th {\n",
              "        vertical-align: top;\n",
              "    }\n",
              "\n",
              "    .dataframe thead th {\n",
              "        text-align: right;\n",
              "    }\n",
              "</style>\n",
              "<table border=\"1\" class=\"dataframe\">\n",
              "  <thead>\n",
              "    <tr style=\"text-align: right;\">\n",
              "      <th></th>\n",
              "      <th>tweet</th>\n",
              "      <th>class</th>\n",
              "    </tr>\n",
              "  </thead>\n",
              "  <tbody>\n",
              "    <tr>\n",
              "      <th>0</th>\n",
              "      <td>If America had another 8 years of Obama's ideology via Hillary we'd be well on our way to being a shithole country.</td>\n",
              "      <td>1</td>\n",
              "    </tr>\n",
              "    <tr>\n",
              "      <th>3</th>\n",
              "      <td>@user queue is fucking retarded it makes everyone feel like they don't even have a chance make it fcfs again for fucksake</td>\n",
              "      <td>1</td>\n",
              "    </tr>\n",
              "    <tr>\n",
              "      <th>4</th>\n",
              "      <td>@user Que ce ne soit pas des Burundais refugies Alerte car leur corps sont visibles a loeil nu</td>\n",
              "      <td>1</td>\n",
              "    </tr>\n",
              "    <tr>\n",
              "      <th>9</th>\n",
              "      <td>@user Still a bitter cunt. Why so much interest in arsenal? He isn't the only player to player fod us and get sold.</td>\n",
              "      <td>1</td>\n",
              "    </tr>\n",
              "    <tr>\n",
              "      <th>11</th>\n",
              "      <td>children = 52% of refugees</td>\n",
              "      <td>1</td>\n",
              "    </tr>\n",
              "  </tbody>\n",
              "</table>\n",
              "</div>"
            ],
            "text/plain": [
              "                                                                                                                        tweet  class\n",
              "0         If America had another 8 years of Obama's ideology via Hillary we'd be well on our way to being a shithole country.      1\n",
              "3   @user queue is fucking retarded it makes everyone feel like they don't even have a chance make it fcfs again for fucksake      1\n",
              "4                              @user Que ce ne soit pas des Burundais refugies Alerte car leur corps sont visibles a loeil nu      1\n",
              "9         @user Still a bitter cunt. Why so much interest in arsenal? He isn't the only player to player fod us and get sold.      1\n",
              "11                                                                                                 children = 52% of refugees      1"
            ]
          },
          "metadata": {
            "tags": []
          },
          "execution_count": 56
        }
      ]
    },
    {
      "cell_type": "code",
      "metadata": {
        "colab": {
          "base_uri": "https://localhost:8080/"
        },
        "id": "CR8BZrodBrRC",
        "outputId": "eeb255a2-ea1a-49a6-c128-477bde9db04f"
      },
      "source": [
        "mlma.shape"
      ],
      "execution_count": null,
      "outputs": [
        {
          "output_type": "execute_result",
          "data": {
            "text/plain": [
              "(1278, 2)"
            ]
          },
          "metadata": {
            "tags": []
          },
          "execution_count": 57
        }
      ]
    },
    {
      "cell_type": "code",
      "metadata": {
        "id": "Ej6drFSjDOSW"
      },
      "source": [
        "mlma = mlma.replace(to_replace = regex_for_username, value = '@USER', regex = True)"
      ],
      "execution_count": null,
      "outputs": []
    },
    {
      "cell_type": "code",
      "metadata": {
        "colab": {
          "base_uri": "https://localhost:8080/",
          "height": 221
        },
        "id": "rx0VnZkuDcM3",
        "outputId": "ef66400d-63ba-480b-b78c-4bc9012fdf27"
      },
      "source": [
        "mlma.tail()"
      ],
      "execution_count": null,
      "outputs": [
        {
          "output_type": "execute_result",
          "data": {
            "text/html": [
              "<div>\n",
              "<style scoped>\n",
              "    .dataframe tbody tr th:only-of-type {\n",
              "        vertical-align: middle;\n",
              "    }\n",
              "\n",
              "    .dataframe tbody tr th {\n",
              "        vertical-align: top;\n",
              "    }\n",
              "\n",
              "    .dataframe thead th {\n",
              "        text-align: right;\n",
              "    }\n",
              "</style>\n",
              "<table border=\"1\" class=\"dataframe\">\n",
              "  <thead>\n",
              "    <tr style=\"text-align: right;\">\n",
              "      <th></th>\n",
              "      <th>tweet</th>\n",
              "      <th>class</th>\n",
              "    </tr>\n",
              "  </thead>\n",
              "  <tbody>\n",
              "    <tr>\n",
              "      <th>5632</th>\n",
              "      <td>Same reason people want to use ethnic slurs. Same reason people want to say faggot so bad. People want to do offens\\u2026 @USER</td>\n",
              "      <td>1</td>\n",
              "    </tr>\n",
              "    <tr>\n",
              "      <th>5637</th>\n",
              "      <td>@USER why do you tweet ching chong</td>\n",
              "      <td>1</td>\n",
              "    </tr>\n",
              "    <tr>\n",
              "      <th>5642</th>\n",
              "      <td>@USER @USER @USER Maybe but @USER who lied about Trump use of shithole countries and who doesn't\\u2026 @USER</td>\n",
              "      <td>1</td>\n",
              "    </tr>\n",
              "    <tr>\n",
              "      <th>5643</th>\n",
              "      <td>@USER @USER You\\u2019re a retard :) x</td>\n",
              "      <td>1</td>\n",
              "    </tr>\n",
              "    <tr>\n",
              "      <th>5644</th>\n",
              "      <td>(2/2) like no you fucking twat I'm doing damage so I CAN heal you. Because I ran out of biotic energy. Because gu\\u2026 @USER</td>\n",
              "      <td>1</td>\n",
              "    </tr>\n",
              "  </tbody>\n",
              "</table>\n",
              "</div>"
            ],
            "text/plain": [
              "                                                                                                                                tweet  class\n",
              "5632  Same reason people want to use ethnic slurs. Same reason people want to say faggot so bad. People want to do offens\\u2026 @USER      1\n",
              "5637                                                                                               @USER why do you tweet ching chong      1\n",
              "5642                     @USER @USER @USER Maybe but @USER who lied about Trump use of shithole countries and who doesn't\\u2026 @USER      1\n",
              "5643                                                                                            @USER @USER You\\u2019re a retard :) x      1\n",
              "5644    (2/2) like no you fucking twat I'm doing damage so I CAN heal you. Because I ran out of biotic energy. Because gu\\u2026 @USER      1"
            ]
          },
          "metadata": {
            "tags": []
          },
          "execution_count": 60
        }
      ]
    },
    {
      "cell_type": "code",
      "metadata": {
        "colab": {
          "base_uri": "https://localhost:8080/",
          "height": 221
        },
        "id": "BOg2tepLDdx7",
        "outputId": "f8b02168-f8da-43ca-c636-80ef23a786ae"
      },
      "source": [
        "df = df.append(mlma)\n",
        "df.tail()"
      ],
      "execution_count": null,
      "outputs": [
        {
          "output_type": "execute_result",
          "data": {
            "text/html": [
              "<div>\n",
              "<style scoped>\n",
              "    .dataframe tbody tr th:only-of-type {\n",
              "        vertical-align: middle;\n",
              "    }\n",
              "\n",
              "    .dataframe tbody tr th {\n",
              "        vertical-align: top;\n",
              "    }\n",
              "\n",
              "    .dataframe thead th {\n",
              "        text-align: right;\n",
              "    }\n",
              "</style>\n",
              "<table border=\"1\" class=\"dataframe\">\n",
              "  <thead>\n",
              "    <tr style=\"text-align: right;\">\n",
              "      <th></th>\n",
              "      <th>tweet</th>\n",
              "      <th>class</th>\n",
              "    </tr>\n",
              "  </thead>\n",
              "  <tbody>\n",
              "    <tr>\n",
              "      <th>5632</th>\n",
              "      <td>Same reason people want to use ethnic slurs. Same reason people want to say faggot so bad. People want to do offens\\u2026 @USER</td>\n",
              "      <td>1</td>\n",
              "    </tr>\n",
              "    <tr>\n",
              "      <th>5637</th>\n",
              "      <td>@USER why do you tweet ching chong</td>\n",
              "      <td>1</td>\n",
              "    </tr>\n",
              "    <tr>\n",
              "      <th>5642</th>\n",
              "      <td>@USER @USER @USER Maybe but @USER who lied about Trump use of shithole countries and who doesn't\\u2026 @USER</td>\n",
              "      <td>1</td>\n",
              "    </tr>\n",
              "    <tr>\n",
              "      <th>5643</th>\n",
              "      <td>@USER @USER You\\u2019re a retard :) x</td>\n",
              "      <td>1</td>\n",
              "    </tr>\n",
              "    <tr>\n",
              "      <th>5644</th>\n",
              "      <td>(2/2) like no you fucking twat I'm doing damage so I CAN heal you. Because I ran out of biotic energy. Because gu\\u2026 @USER</td>\n",
              "      <td>1</td>\n",
              "    </tr>\n",
              "  </tbody>\n",
              "</table>\n",
              "</div>"
            ],
            "text/plain": [
              "                                                                                                                                tweet  class\n",
              "5632  Same reason people want to use ethnic slurs. Same reason people want to say faggot so bad. People want to do offens\\u2026 @USER      1\n",
              "5637                                                                                               @USER why do you tweet ching chong      1\n",
              "5642                     @USER @USER @USER Maybe but @USER who lied about Trump use of shithole countries and who doesn't\\u2026 @USER      1\n",
              "5643                                                                                            @USER @USER You\\u2019re a retard :) x      1\n",
              "5644    (2/2) like no you fucking twat I'm doing damage so I CAN heal you. Because I ran out of biotic energy. Because gu\\u2026 @USER      1"
            ]
          },
          "metadata": {
            "tags": []
          },
          "execution_count": 61
        }
      ]
    },
    {
      "cell_type": "code",
      "metadata": {
        "id": "YGXmycDnEHQP"
      },
      "source": [
        "df.reset_index(drop=True, inplace=True)"
      ],
      "execution_count": null,
      "outputs": []
    },
    {
      "cell_type": "code",
      "metadata": {
        "colab": {
          "base_uri": "https://localhost:8080/",
          "height": 221
        },
        "id": "rqZvR1TEEN4Z",
        "outputId": "9fd4994a-1c6a-4d48-dc50-9b6f4ff52a0d"
      },
      "source": [
        "df.tail()"
      ],
      "execution_count": null,
      "outputs": [
        {
          "output_type": "execute_result",
          "data": {
            "text/html": [
              "<div>\n",
              "<style scoped>\n",
              "    .dataframe tbody tr th:only-of-type {\n",
              "        vertical-align: middle;\n",
              "    }\n",
              "\n",
              "    .dataframe tbody tr th {\n",
              "        vertical-align: top;\n",
              "    }\n",
              "\n",
              "    .dataframe thead th {\n",
              "        text-align: right;\n",
              "    }\n",
              "</style>\n",
              "<table border=\"1\" class=\"dataframe\">\n",
              "  <thead>\n",
              "    <tr style=\"text-align: right;\">\n",
              "      <th></th>\n",
              "      <th>tweet</th>\n",
              "      <th>class</th>\n",
              "    </tr>\n",
              "  </thead>\n",
              "  <tbody>\n",
              "    <tr>\n",
              "      <th>5663</th>\n",
              "      <td>Same reason people want to use ethnic slurs. Same reason people want to say faggot so bad. People want to do offens\\u2026 @USER</td>\n",
              "      <td>1</td>\n",
              "    </tr>\n",
              "    <tr>\n",
              "      <th>5664</th>\n",
              "      <td>@USER why do you tweet ching chong</td>\n",
              "      <td>1</td>\n",
              "    </tr>\n",
              "    <tr>\n",
              "      <th>5665</th>\n",
              "      <td>@USER @USER @USER Maybe but @USER who lied about Trump use of shithole countries and who doesn't\\u2026 @USER</td>\n",
              "      <td>1</td>\n",
              "    </tr>\n",
              "    <tr>\n",
              "      <th>5666</th>\n",
              "      <td>@USER @USER You\\u2019re a retard :) x</td>\n",
              "      <td>1</td>\n",
              "    </tr>\n",
              "    <tr>\n",
              "      <th>5667</th>\n",
              "      <td>(2/2) like no you fucking twat I'm doing damage so I CAN heal you. Because I ran out of biotic energy. Because gu\\u2026 @USER</td>\n",
              "      <td>1</td>\n",
              "    </tr>\n",
              "  </tbody>\n",
              "</table>\n",
              "</div>"
            ],
            "text/plain": [
              "                                                                                                                                tweet  class\n",
              "5663  Same reason people want to use ethnic slurs. Same reason people want to say faggot so bad. People want to do offens\\u2026 @USER      1\n",
              "5664                                                                                               @USER why do you tweet ching chong      1\n",
              "5665                     @USER @USER @USER Maybe but @USER who lied about Trump use of shithole countries and who doesn't\\u2026 @USER      1\n",
              "5666                                                                                            @USER @USER You\\u2019re a retard :) x      1\n",
              "5667    (2/2) like no you fucking twat I'm doing damage so I CAN heal you. Because I ran out of biotic energy. Because gu\\u2026 @USER      1"
            ]
          },
          "metadata": {
            "tags": []
          },
          "execution_count": 63
        }
      ]
    },
    {
      "cell_type": "code",
      "metadata": {
        "colab": {
          "base_uri": "https://localhost:8080/"
        },
        "id": "O5NnMPM8Vdbp",
        "outputId": "7f2db5b6-bb6e-4458-965b-a216e40cccde"
      },
      "source": [
        "df.shape"
      ],
      "execution_count": null,
      "outputs": [
        {
          "output_type": "execute_result",
          "data": {
            "text/plain": [
              "(5668, 2)"
            ]
          },
          "metadata": {
            "tags": []
          },
          "execution_count": 79
        }
      ]
    },
    {
      "cell_type": "code",
      "metadata": {
        "id": "r9wYLqVTEO7K"
      },
      "source": [
        "hasoc_path = \"drive/MyDrive/english_datasets/english_dataset.tsv\""
      ],
      "execution_count": null,
      "outputs": []
    },
    {
      "cell_type": "code",
      "metadata": {
        "id": "r33dRMdVPdQN"
      },
      "source": [
        "hasoc = pd.read_csv(hasoc_path, sep='\\t', header=0)"
      ],
      "execution_count": null,
      "outputs": []
    },
    {
      "cell_type": "code",
      "metadata": {
        "colab": {
          "base_uri": "https://localhost:8080/",
          "height": 306
        },
        "id": "ll11h7pJPvPw",
        "outputId": "8106525b-1f69-4f00-e493-58520faa69af"
      },
      "source": [
        "hasoc.head()"
      ],
      "execution_count": null,
      "outputs": [
        {
          "output_type": "execute_result",
          "data": {
            "text/html": [
              "<div>\n",
              "<style scoped>\n",
              "    .dataframe tbody tr th:only-of-type {\n",
              "        vertical-align: middle;\n",
              "    }\n",
              "\n",
              "    .dataframe tbody tr th {\n",
              "        vertical-align: top;\n",
              "    }\n",
              "\n",
              "    .dataframe thead th {\n",
              "        text-align: right;\n",
              "    }\n",
              "</style>\n",
              "<table border=\"1\" class=\"dataframe\">\n",
              "  <thead>\n",
              "    <tr style=\"text-align: right;\">\n",
              "      <th></th>\n",
              "      <th>text_id</th>\n",
              "      <th>text</th>\n",
              "      <th>task_1</th>\n",
              "      <th>task_2</th>\n",
              "      <th>task_3</th>\n",
              "    </tr>\n",
              "  </thead>\n",
              "  <tbody>\n",
              "    <tr>\n",
              "      <th>0</th>\n",
              "      <td>hasoc_en_1</td>\n",
              "      <td>#DhoniKeepsTheGlove | WATCH: Sports Minister Kiren Rijiju issues statement backing MS Dhoni over 'Balidaan Badge', tells BCCI to take up the matter with ICC and keep government in the know as nation's pride is involved    https://t.co/zuo5335Rjr</td>\n",
              "      <td>NOT</td>\n",
              "      <td>NONE</td>\n",
              "      <td>NONE</td>\n",
              "    </tr>\n",
              "    <tr>\n",
              "      <th>1</th>\n",
              "      <td>hasoc_en_2</td>\n",
              "      <td>@politico No. We should remember very clearly that #Individual1 just admitted to treason . #TrumpIsATraitor  #McCainsAHero #JohnMcCainDay</td>\n",
              "      <td>HOF</td>\n",
              "      <td>HATE</td>\n",
              "      <td>TIN</td>\n",
              "    </tr>\n",
              "    <tr>\n",
              "      <th>2</th>\n",
              "      <td>hasoc_en_3</td>\n",
              "      <td>@cricketworldcup Guess who would be the winner of this #CWC19?     Team who gets maximum points from the abandoned matches 😄 #ShameOnICC #WIvsENG @ICC</td>\n",
              "      <td>NOT</td>\n",
              "      <td>NONE</td>\n",
              "      <td>NONE</td>\n",
              "    </tr>\n",
              "    <tr>\n",
              "      <th>3</th>\n",
              "      <td>hasoc_en_4</td>\n",
              "      <td>Corbyn is too politically intellectual for #BorisJohnsonShouldNotBePM   Can't wait   #GeneralElectionNow https://t.co/pt8KmjfxJj</td>\n",
              "      <td>NOT</td>\n",
              "      <td>NONE</td>\n",
              "      <td>NONE</td>\n",
              "    </tr>\n",
              "    <tr>\n",
              "      <th>4</th>\n",
              "      <td>hasoc_en_5</td>\n",
              "      <td>All the best to #TeamIndia for another swimming competition on Sunday against #Pakistan.     #INDvPAK #ShameOnICC  #CWC19 #CWC19Rains ☔☔ https://t.co/MG2cIE0zib</td>\n",
              "      <td>NOT</td>\n",
              "      <td>NONE</td>\n",
              "      <td>NONE</td>\n",
              "    </tr>\n",
              "  </tbody>\n",
              "</table>\n",
              "</div>"
            ],
            "text/plain": [
              "      text_id  ... task_3\n",
              "0  hasoc_en_1  ...   NONE\n",
              "1  hasoc_en_2  ...    TIN\n",
              "2  hasoc_en_3  ...   NONE\n",
              "3  hasoc_en_4  ...   NONE\n",
              "4  hasoc_en_5  ...   NONE\n",
              "\n",
              "[5 rows x 5 columns]"
            ]
          },
          "metadata": {
            "tags": []
          },
          "execution_count": 66
        }
      ]
    },
    {
      "cell_type": "code",
      "metadata": {
        "id": "4d42HXIUPxKX"
      },
      "source": [
        "hate_hasoc = hasoc.loc[(hasoc['task_2'] == 'HATE') |  (hasoc['task_2'] == 'OFFN')]\n",
        "# OFFN\n"
      ],
      "execution_count": null,
      "outputs": []
    },
    {
      "cell_type": "code",
      "metadata": {
        "colab": {
          "base_uri": "https://localhost:8080/",
          "height": 306
        },
        "id": "Pq9PqOiUTLp5",
        "outputId": "60b8b509-5046-4dc7-d4a3-22afd3f394bb"
      },
      "source": [
        "hate_hasoc.head()"
      ],
      "execution_count": null,
      "outputs": [
        {
          "output_type": "execute_result",
          "data": {
            "text/html": [
              "<div>\n",
              "<style scoped>\n",
              "    .dataframe tbody tr th:only-of-type {\n",
              "        vertical-align: middle;\n",
              "    }\n",
              "\n",
              "    .dataframe tbody tr th {\n",
              "        vertical-align: top;\n",
              "    }\n",
              "\n",
              "    .dataframe thead th {\n",
              "        text-align: right;\n",
              "    }\n",
              "</style>\n",
              "<table border=\"1\" class=\"dataframe\">\n",
              "  <thead>\n",
              "    <tr style=\"text-align: right;\">\n",
              "      <th></th>\n",
              "      <th>text_id</th>\n",
              "      <th>text</th>\n",
              "      <th>task_1</th>\n",
              "      <th>task_2</th>\n",
              "      <th>task_3</th>\n",
              "    </tr>\n",
              "  </thead>\n",
              "  <tbody>\n",
              "    <tr>\n",
              "      <th>1</th>\n",
              "      <td>hasoc_en_2</td>\n",
              "      <td>@politico No. We should remember very clearly that #Individual1 just admitted to treason . #TrumpIsATraitor  #McCainsAHero #JohnMcCainDay</td>\n",
              "      <td>HOF</td>\n",
              "      <td>HATE</td>\n",
              "      <td>TIN</td>\n",
              "    </tr>\n",
              "    <tr>\n",
              "      <th>11</th>\n",
              "      <td>hasoc_en_12</td>\n",
              "      <td>I don’t know how much more I can take! 45 is a compulsive liar! #Trump30Hours #TrumpIsATraitor</td>\n",
              "      <td>HOF</td>\n",
              "      <td>HATE</td>\n",
              "      <td>TIN</td>\n",
              "    </tr>\n",
              "    <tr>\n",
              "      <th>23</th>\n",
              "      <td>hasoc_en_24</td>\n",
              "      <td>#ShameOnICC  1. ICC on Dhoni's gloves                    Vs  2.ICC planning the World Cup https://t.co/4kO3zKt7ln</td>\n",
              "      <td>HOF</td>\n",
              "      <td>HATE</td>\n",
              "      <td>TIN</td>\n",
              "    </tr>\n",
              "    <tr>\n",
              "      <th>27</th>\n",
              "      <td>hasoc_en_28</td>\n",
              "      <td>Disgusting! And they don’t change their culture or come up with vetting system or preventative ways to stop this from occurring. This will continue to happen. The Catholic Church needs to go! #rapist #ChildTrafficking #CatholicChurch #CatholicTwitter https://t.co/tb4tSoD2Lz</td>\n",
              "      <td>HOF</td>\n",
              "      <td>HATE</td>\n",
              "      <td>TIN</td>\n",
              "    </tr>\n",
              "    <tr>\n",
              "      <th>34</th>\n",
              "      <td>hasoc_en_35</td>\n",
              "      <td>@TheRealOJ32 Of all the retired NFL players, why is it that you DON’T suffer from CTE?     You should be at the bottom of a pool you mistook for an elevator. #murderer</td>\n",
              "      <td>HOF</td>\n",
              "      <td>HATE</td>\n",
              "      <td>TIN</td>\n",
              "    </tr>\n",
              "  </tbody>\n",
              "</table>\n",
              "</div>"
            ],
            "text/plain": [
              "        text_id  ... task_3\n",
              "1    hasoc_en_2  ...    TIN\n",
              "11  hasoc_en_12  ...    TIN\n",
              "23  hasoc_en_24  ...    TIN\n",
              "27  hasoc_en_28  ...    TIN\n",
              "34  hasoc_en_35  ...    TIN\n",
              "\n",
              "[5 rows x 5 columns]"
            ]
          },
          "metadata": {
            "tags": []
          },
          "execution_count": 72
        }
      ]
    },
    {
      "cell_type": "code",
      "metadata": {
        "colab": {
          "base_uri": "https://localhost:8080/"
        },
        "id": "jOEDQ8QXTS4-",
        "outputId": "25a866b6-dce4-4793-9d96-f9b0d99d77e0"
      },
      "source": [
        "hate_hasoc = hate_hasoc[['text', 'task_2']]\n",
        "hate_hasoc.columns = ['tweet', 'class']\n",
        "hate_hasoc['class'] = hate_hasoc.apply(lambda x: 1, axis=1)\n",
        "hate_hasoc = hate_hasoc.replace(to_replace = regex_for_username, value = '@USER', regex = True)"
      ],
      "execution_count": null,
      "outputs": [
        {
          "output_type": "stream",
          "text": [
            "/usr/local/lib/python3.7/dist-packages/ipykernel_launcher.py:3: SettingWithCopyWarning: \n",
            "A value is trying to be set on a copy of a slice from a DataFrame.\n",
            "Try using .loc[row_indexer,col_indexer] = value instead\n",
            "\n",
            "See the caveats in the documentation: https://pandas.pydata.org/pandas-docs/stable/user_guide/indexing.html#returning-a-view-versus-a-copy\n",
            "  This is separate from the ipykernel package so we can avoid doing imports until\n"
          ],
          "name": "stderr"
        }
      ]
    },
    {
      "cell_type": "code",
      "metadata": {
        "colab": {
          "base_uri": "https://localhost:8080/",
          "height": 272
        },
        "id": "061qRVK6UPbG",
        "outputId": "03bae7c1-13a8-4607-9106-35dedf4578a6"
      },
      "source": [
        "hate_hasoc.head()"
      ],
      "execution_count": null,
      "outputs": [
        {
          "output_type": "execute_result",
          "data": {
            "text/html": [
              "<div>\n",
              "<style scoped>\n",
              "    .dataframe tbody tr th:only-of-type {\n",
              "        vertical-align: middle;\n",
              "    }\n",
              "\n",
              "    .dataframe tbody tr th {\n",
              "        vertical-align: top;\n",
              "    }\n",
              "\n",
              "    .dataframe thead th {\n",
              "        text-align: right;\n",
              "    }\n",
              "</style>\n",
              "<table border=\"1\" class=\"dataframe\">\n",
              "  <thead>\n",
              "    <tr style=\"text-align: right;\">\n",
              "      <th></th>\n",
              "      <th>tweet</th>\n",
              "      <th>class</th>\n",
              "    </tr>\n",
              "  </thead>\n",
              "  <tbody>\n",
              "    <tr>\n",
              "      <th>1</th>\n",
              "      <td>@USER No. We should remember very clearly that #Individual1 just admitted to treason . #TrumpIsATraitor  #McCainsAHero #JohnMcCainDay</td>\n",
              "      <td>1</td>\n",
              "    </tr>\n",
              "    <tr>\n",
              "      <th>11</th>\n",
              "      <td>I don’t know how much more I can take! 45 is a compulsive liar! #Trump30Hours #TrumpIsATraitor</td>\n",
              "      <td>1</td>\n",
              "    </tr>\n",
              "    <tr>\n",
              "      <th>23</th>\n",
              "      <td>#ShameOnICC  1. ICC on Dhoni's gloves                    Vs  2.ICC planning the World Cup https://t.co/4kO3zKt7ln</td>\n",
              "      <td>1</td>\n",
              "    </tr>\n",
              "    <tr>\n",
              "      <th>27</th>\n",
              "      <td>Disgusting! And they don’t change their culture or come up with vetting system or preventative ways to stop this from occurring. This will continue to happen. The Catholic Church needs to go! #rapist #ChildTrafficking #CatholicChurch #CatholicTwitter https://t.co/tb4tSoD2Lz</td>\n",
              "      <td>1</td>\n",
              "    </tr>\n",
              "    <tr>\n",
              "      <th>34</th>\n",
              "      <td>@USER Of all the retired NFL players, why is it that you DON’T suffer from CTE?     You should be at the bottom of a pool you mistook for an elevator. #murderer</td>\n",
              "      <td>1</td>\n",
              "    </tr>\n",
              "  </tbody>\n",
              "</table>\n",
              "</div>"
            ],
            "text/plain": [
              "                                                                                                                                                                                                                                                                                 tweet  class\n",
              "1                                                                                                                                                @USER No. We should remember very clearly that #Individual1 just admitted to treason . #TrumpIsATraitor  #McCainsAHero #JohnMcCainDay      1\n",
              "11                                                                                                                                                                                      I don’t know how much more I can take! 45 is a compulsive liar! #Trump30Hours #TrumpIsATraitor      1\n",
              "23                                                                                                                                                                   #ShameOnICC  1. ICC on Dhoni's gloves                    Vs  2.ICC planning the World Cup https://t.co/4kO3zKt7ln      1\n",
              "27  Disgusting! And they don’t change their culture or come up with vetting system or preventative ways to stop this from occurring. This will continue to happen. The Catholic Church needs to go! #rapist #ChildTrafficking #CatholicChurch #CatholicTwitter https://t.co/tb4tSoD2Lz      1\n",
              "34                                                                                                                    @USER Of all the retired NFL players, why is it that you DON’T suffer from CTE?     You should be at the bottom of a pool you mistook for an elevator. #murderer      1"
            ]
          },
          "metadata": {
            "tags": []
          },
          "execution_count": 74
        }
      ]
    },
    {
      "cell_type": "code",
      "metadata": {
        "colab": {
          "base_uri": "https://localhost:8080/",
          "height": 306
        },
        "id": "9Apm7Yx7QEQt",
        "outputId": "f80c36d4-8a92-4a52-ba03-e4d253dda0c7"
      },
      "source": [
        "normal_hasoc = hasoc.loc[hasoc['task_1'] == 'NOT']\n",
        "normal_hasoc.head()"
      ],
      "execution_count": null,
      "outputs": [
        {
          "output_type": "execute_result",
          "data": {
            "text/html": [
              "<div>\n",
              "<style scoped>\n",
              "    .dataframe tbody tr th:only-of-type {\n",
              "        vertical-align: middle;\n",
              "    }\n",
              "\n",
              "    .dataframe tbody tr th {\n",
              "        vertical-align: top;\n",
              "    }\n",
              "\n",
              "    .dataframe thead th {\n",
              "        text-align: right;\n",
              "    }\n",
              "</style>\n",
              "<table border=\"1\" class=\"dataframe\">\n",
              "  <thead>\n",
              "    <tr style=\"text-align: right;\">\n",
              "      <th></th>\n",
              "      <th>text_id</th>\n",
              "      <th>text</th>\n",
              "      <th>task_1</th>\n",
              "      <th>task_2</th>\n",
              "      <th>task_3</th>\n",
              "    </tr>\n",
              "  </thead>\n",
              "  <tbody>\n",
              "    <tr>\n",
              "      <th>0</th>\n",
              "      <td>hasoc_en_1</td>\n",
              "      <td>#DhoniKeepsTheGlove | WATCH: Sports Minister Kiren Rijiju issues statement backing MS Dhoni over 'Balidaan Badge', tells BCCI to take up the matter with ICC and keep government in the know as nation's pride is involved    https://t.co/zuo5335Rjr</td>\n",
              "      <td>NOT</td>\n",
              "      <td>NONE</td>\n",
              "      <td>NONE</td>\n",
              "    </tr>\n",
              "    <tr>\n",
              "      <th>2</th>\n",
              "      <td>hasoc_en_3</td>\n",
              "      <td>@cricketworldcup Guess who would be the winner of this #CWC19?     Team who gets maximum points from the abandoned matches 😄 #ShameOnICC #WIvsENG @ICC</td>\n",
              "      <td>NOT</td>\n",
              "      <td>NONE</td>\n",
              "      <td>NONE</td>\n",
              "    </tr>\n",
              "    <tr>\n",
              "      <th>3</th>\n",
              "      <td>hasoc_en_4</td>\n",
              "      <td>Corbyn is too politically intellectual for #BorisJohnsonShouldNotBePM   Can't wait   #GeneralElectionNow https://t.co/pt8KmjfxJj</td>\n",
              "      <td>NOT</td>\n",
              "      <td>NONE</td>\n",
              "      <td>NONE</td>\n",
              "    </tr>\n",
              "    <tr>\n",
              "      <th>4</th>\n",
              "      <td>hasoc_en_5</td>\n",
              "      <td>All the best to #TeamIndia for another swimming competition on Sunday against #Pakistan.     #INDvPAK #ShameOnICC  #CWC19 #CWC19Rains ☔☔ https://t.co/MG2cIE0zib</td>\n",
              "      <td>NOT</td>\n",
              "      <td>NONE</td>\n",
              "      <td>NONE</td>\n",
              "    </tr>\n",
              "    <tr>\n",
              "      <th>5</th>\n",
              "      <td>hasoc_en_6</td>\n",
              "      <td>@kellymiller513 @TheRealOJ32 I hope you remembered to wipe the blood off of you, after the pic was taken.  #bloodonhishands #murderer</td>\n",
              "      <td>NOT</td>\n",
              "      <td>NONE</td>\n",
              "      <td>NONE</td>\n",
              "    </tr>\n",
              "  </tbody>\n",
              "</table>\n",
              "</div>"
            ],
            "text/plain": [
              "      text_id  ... task_3\n",
              "0  hasoc_en_1  ...   NONE\n",
              "2  hasoc_en_3  ...   NONE\n",
              "3  hasoc_en_4  ...   NONE\n",
              "4  hasoc_en_5  ...   NONE\n",
              "5  hasoc_en_6  ...   NONE\n",
              "\n",
              "[5 rows x 5 columns]"
            ]
          },
          "metadata": {
            "tags": []
          },
          "execution_count": 71
        }
      ]
    },
    {
      "cell_type": "code",
      "metadata": {
        "id": "3jZisMVhQ1ht"
      },
      "source": [
        "normal_hasoc = normal_hasoc[['text', 'task_1']]\n",
        "normal_hasoc.columns = ['tweet', 'class']\n",
        "normal_hasoc['class'] = normal_hasoc.apply(lambda x: 0, axis=1)\n",
        "normal_hasoc = normal_hasoc.replace(to_replace = regex_for_username, value = '@USER', regex = True)"
      ],
      "execution_count": null,
      "outputs": []
    },
    {
      "cell_type": "code",
      "metadata": {
        "colab": {
          "base_uri": "https://localhost:8080/",
          "height": 255
        },
        "id": "3HPVSMVTUyXv",
        "outputId": "e4b06e2f-3040-46f7-a0a1-abb1f4155ad9"
      },
      "source": [
        "normal_hasoc.head()"
      ],
      "execution_count": null,
      "outputs": [
        {
          "output_type": "execute_result",
          "data": {
            "text/html": [
              "<div>\n",
              "<style scoped>\n",
              "    .dataframe tbody tr th:only-of-type {\n",
              "        vertical-align: middle;\n",
              "    }\n",
              "\n",
              "    .dataframe tbody tr th {\n",
              "        vertical-align: top;\n",
              "    }\n",
              "\n",
              "    .dataframe thead th {\n",
              "        text-align: right;\n",
              "    }\n",
              "</style>\n",
              "<table border=\"1\" class=\"dataframe\">\n",
              "  <thead>\n",
              "    <tr style=\"text-align: right;\">\n",
              "      <th></th>\n",
              "      <th>tweet</th>\n",
              "      <th>class</th>\n",
              "    </tr>\n",
              "  </thead>\n",
              "  <tbody>\n",
              "    <tr>\n",
              "      <th>0</th>\n",
              "      <td>#DhoniKeepsTheGlove | WATCH: Sports Minister Kiren Rijiju issues statement backing MS Dhoni over 'Balidaan Badge', tells BCCI to take up the matter with ICC and keep government in the know as nation's pride is involved    https://t.co/zuo5335Rjr</td>\n",
              "      <td>0</td>\n",
              "    </tr>\n",
              "    <tr>\n",
              "      <th>2</th>\n",
              "      <td>@USER Guess who would be the winner of this #CWC19?     Team who gets maximum points from the abandoned matches 😄 #ShameOnICC #WIvsENG @USER</td>\n",
              "      <td>0</td>\n",
              "    </tr>\n",
              "    <tr>\n",
              "      <th>3</th>\n",
              "      <td>Corbyn is too politically intellectual for #BorisJohnsonShouldNotBePM   Can't wait   #GeneralElectionNow https://t.co/pt8KmjfxJj</td>\n",
              "      <td>0</td>\n",
              "    </tr>\n",
              "    <tr>\n",
              "      <th>4</th>\n",
              "      <td>All the best to #TeamIndia for another swimming competition on Sunday against #Pakistan.     #INDvPAK #ShameOnICC  #CWC19 #CWC19Rains ☔☔ https://t.co/MG2cIE0zib</td>\n",
              "      <td>0</td>\n",
              "    </tr>\n",
              "    <tr>\n",
              "      <th>5</th>\n",
              "      <td>@USER @USER I hope you remembered to wipe the blood off of you, after the pic was taken.  #bloodonhishands #murderer</td>\n",
              "      <td>0</td>\n",
              "    </tr>\n",
              "  </tbody>\n",
              "</table>\n",
              "</div>"
            ],
            "text/plain": [
              "                                                                                                                                                                                                                                                   tweet  class\n",
              "0  #DhoniKeepsTheGlove | WATCH: Sports Minister Kiren Rijiju issues statement backing MS Dhoni over 'Balidaan Badge', tells BCCI to take up the matter with ICC and keep government in the know as nation's pride is involved    https://t.co/zuo5335Rjr      0\n",
              "2                                                                                                           @USER Guess who would be the winner of this #CWC19?     Team who gets maximum points from the abandoned matches 😄 #ShameOnICC #WIvsENG @USER      0\n",
              "3                                                                                                                       Corbyn is too politically intellectual for #BorisJohnsonShouldNotBePM   Can't wait   #GeneralElectionNow https://t.co/pt8KmjfxJj      0\n",
              "4                                                                                       All the best to #TeamIndia for another swimming competition on Sunday against #Pakistan.     #INDvPAK #ShameOnICC  #CWC19 #CWC19Rains ☔☔ https://t.co/MG2cIE0zib      0\n",
              "5                                                                                                                                   @USER @USER I hope you remembered to wipe the blood off of you, after the pic was taken.  #bloodonhishands #murderer      0"
            ]
          },
          "metadata": {
            "tags": []
          },
          "execution_count": 76
        }
      ]
    },
    {
      "cell_type": "code",
      "metadata": {
        "colab": {
          "base_uri": "https://localhost:8080/"
        },
        "id": "wQZPDf1lU0Me",
        "outputId": "b69e3c6d-d0eb-41fd-b4d9-237559f418f6"
      },
      "source": [
        "print(hate_hasoc.shape, normal_hasoc.shape)"
      ],
      "execution_count": null,
      "outputs": [
        {
          "output_type": "stream",
          "text": [
            "(1594, 2) (3591, 2)\n"
          ],
          "name": "stdout"
        }
      ]
    },
    {
      "cell_type": "code",
      "metadata": {
        "id": "585iIkeHVFfl"
      },
      "source": [
        "hasoc_final = hate_hasoc.append(normal_hasoc)"
      ],
      "execution_count": null,
      "outputs": []
    },
    {
      "cell_type": "code",
      "metadata": {
        "id": "9vT_yRnNVO_H"
      },
      "source": [
        "df = df.append(hasoc_final)\n",
        "df.reset_index(drop=True, inplace=True)\n"
      ],
      "execution_count": null,
      "outputs": []
    },
    {
      "cell_type": "code",
      "metadata": {
        "colab": {
          "base_uri": "https://localhost:8080/"
        },
        "id": "0H3HQo_1VoYW",
        "outputId": "f841e24b-d4ee-440d-e9a1-ef15abe2dc12"
      },
      "source": [
        "df.shape"
      ],
      "execution_count": null,
      "outputs": [
        {
          "output_type": "execute_result",
          "data": {
            "text/plain": [
              "(10853, 2)"
            ]
          },
          "metadata": {
            "tags": []
          },
          "execution_count": 83
        }
      ]
    },
    {
      "cell_type": "code",
      "metadata": {
        "id": "ZagDhd3zVqLt"
      },
      "source": [
        "df.loc()"
      ],
      "execution_count": null,
      "outputs": []
    },
    {
      "cell_type": "code",
      "metadata": {
        "colab": {
          "base_uri": "https://localhost:8080/"
        },
        "id": "JwuW04RiWLfH",
        "outputId": "02327dcb-27e4-4cdc-9519-3ba831dff00b"
      },
      "source": [
        "df[df['class'] == 0].shape"
      ],
      "execution_count": null,
      "outputs": [
        {
          "output_type": "execute_result",
          "data": {
            "text/plain": [
              "(6551, 2)"
            ]
          },
          "metadata": {
            "tags": []
          },
          "execution_count": 84
        },
        {
          "output_type": "execute_result",
          "data": {
            "text/plain": [
              "(6551, 2)"
            ]
          },
          "metadata": {
            "tags": []
          },
          "execution_count": 85
        }
      ]
    },
    {
      "cell_type": "code",
      "metadata": {
        "colab": {
          "base_uri": "https://localhost:8080/"
        },
        "id": "aEgQHRmiWRu8",
        "outputId": "03ae2c4b-9a93-4555-82eb-e2c4eb245b3e"
      },
      "source": [
        "df[df['class'] == 1].shape"
      ],
      "execution_count": null,
      "outputs": [
        {
          "output_type": "execute_result",
          "data": {
            "text/plain": [
              "(4302, 2)"
            ]
          },
          "metadata": {
            "tags": []
          },
          "execution_count": 86
        }
      ]
    },
    {
      "cell_type": "code",
      "metadata": {
        "id": "NQLY1FrPWX1b"
      },
      "source": [
        "df.to_csv('my_final_english_hate.csv')"
      ],
      "execution_count": null,
      "outputs": []
    },
    {
      "cell_type": "code",
      "metadata": {
        "id": "2xgZvadIYMsB"
      },
      "source": [
        "!cp my_final_english_hate.csv \"drive/MyDrive/my_final_english_hate.csv\""
      ],
      "execution_count": null,
      "outputs": []
    },
    {
      "cell_type": "code",
      "metadata": {
        "id": "iQ8P5fCLYUhn"
      },
      "source": [
        ""
      ],
      "execution_count": null,
      "outputs": []
    }
  ]
}