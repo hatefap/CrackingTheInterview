{
  "nbformat": 4,
  "nbformat_minor": 0,
  "metadata": {
    "colab": {
      "name": "cleaning_series_2.ipynb",
      "provenance": [],
      "toc_visible": true,
      "mount_file_id": "1OElz960urxXSq-0bBTzNOoIEGVSrVf-Z",
      "authorship_tag": "ABX9TyOnl3k+9M8BqaXJOk3aKt1c",
      "include_colab_link": true
    },
    "kernelspec": {
      "name": "python3",
      "display_name": "Python 3"
    },
    "language_info": {
      "name": "python"
    }
  },
  "cells": [
    {
      "cell_type": "markdown",
      "metadata": {
        "id": "view-in-github",
        "colab_type": "text"
      },
      "source": [
        "<a href=\"https://colab.research.google.com/github/hatefap/CrackingTheInterview/blob/master/cleaning_series_2.ipynb\" target=\"_parent\"><img src=\"https://colab.research.google.com/assets/colab-badge.svg\" alt=\"Open In Colab\"/></a>"
      ]
    },
    {
      "cell_type": "code",
      "metadata": {
        "colab": {
          "resources": {
            "http://localhost:8080/nbextensions/google.colab/files.js": {
              "data": "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",
              "ok": true,
              "headers": [
                [
                  "content-type",
                  "application/javascript"
                ]
              ],
              "status": 200,
              "status_text": ""
            }
          },
          "base_uri": "https://localhost:8080/",
          "height": 38
        },
        "id": "IKTeVDl02F-p",
        "outputId": "dd285ac6-17b1-434e-ec0e-2b1540194d0e"
      },
      "source": [
        "from google.colab import files\n",
        "uploaded = files.upload()"
      ],
      "execution_count": null,
      "outputs": [
        {
          "output_type": "display_data",
          "data": {
            "text/html": [
              "\n",
              "     <input type=\"file\" id=\"files-38c4356b-5be0-41e4-9b62-e3e71ca16f79\" name=\"files[]\" multiple disabled\n",
              "        style=\"border:none\" />\n",
              "     <output id=\"result-38c4356b-5be0-41e4-9b62-e3e71ca16f79\">\n",
              "      Upload widget is only available when the cell has been executed in the\n",
              "      current browser session. Please rerun this cell to enable.\n",
              "      </output>\n",
              "      <script src=\"/nbextensions/google.colab/files.js\"></script> "
            ],
            "text/plain": [
              "<IPython.core.display.HTML object>"
            ]
          },
          "metadata": {
            "tags": []
          }
        }
      ]
    },
    {
      "cell_type": "code",
      "metadata": {
        "id": "3CS51D8o515I"
      },
      "source": [
        "import pandas as pd\n",
        "import nltk as nltk\n",
        "import numpy as np\n",
        "import string\n",
        "import re\n",
        "import io"
      ],
      "execution_count": null,
      "outputs": []
    },
    {
      "cell_type": "code",
      "metadata": {
        "colab": {
          "base_uri": "https://localhost:8080/",
          "height": 169
        },
        "id": "75t-oi-S6Boz",
        "outputId": "42c51ac2-11d6-4e84-b1cc-a23ee840060d"
      },
      "source": [
        "raw_df = io.BytesIO(uploaded[\"withoutlink_result_labeled.csv\"])"
      ],
      "execution_count": null,
      "outputs": [
        {
          "output_type": "error",
          "ename": "KeyError",
          "evalue": "ignored",
          "traceback": [
            "\u001b[0;31m---------------------------------------------------------------------------\u001b[0m",
            "\u001b[0;31mKeyError\u001b[0m                                  Traceback (most recent call last)",
            "\u001b[0;32m<ipython-input-52-3b1e32abda73>\u001b[0m in \u001b[0;36m<module>\u001b[0;34m()\u001b[0m\n\u001b[0;32m----> 1\u001b[0;31m \u001b[0mraw_df\u001b[0m \u001b[0;34m=\u001b[0m \u001b[0mio\u001b[0m\u001b[0;34m.\u001b[0m\u001b[0mBytesIO\u001b[0m\u001b[0;34m(\u001b[0m\u001b[0muploaded\u001b[0m\u001b[0;34m[\u001b[0m\u001b[0;34m\"withoutlink_result_labeled.csv\"\u001b[0m\u001b[0;34m]\u001b[0m\u001b[0;34m)\u001b[0m\u001b[0;34m\u001b[0m\u001b[0;34m\u001b[0m\u001b[0m\n\u001b[0m",
            "\u001b[0;31mKeyError\u001b[0m: 'withoutlink_result_labeled.csv'"
          ]
        }
      ]
    },
    {
      "cell_type": "code",
      "metadata": {
        "id": "iJMmYDZw6QEi"
      },
      "source": [
        "raw_df = pd.read_csv(raw_df)"
      ],
      "execution_count": null,
      "outputs": []
    },
    {
      "cell_type": "code",
      "metadata": {
        "colab": {
          "base_uri": "https://localhost:8080/",
          "height": 204
        },
        "id": "grTA6rsF6XFi",
        "outputId": "d82b3262-727e-44fc-801c-cce7fe1ea67b"
      },
      "source": [
        "raw_df.head()"
      ],
      "execution_count": null,
      "outputs": [
        {
          "output_type": "execute_result",
          "data": {
            "text/html": [
              "<div>\n",
              "<style scoped>\n",
              "    .dataframe tbody tr th:only-of-type {\n",
              "        vertical-align: middle;\n",
              "    }\n",
              "\n",
              "    .dataframe tbody tr th {\n",
              "        vertical-align: top;\n",
              "    }\n",
              "\n",
              "    .dataframe thead th {\n",
              "        text-align: right;\n",
              "    }\n",
              "</style>\n",
              "<table border=\"1\" class=\"dataframe\">\n",
              "  <thead>\n",
              "    <tr style=\"text-align: right;\">\n",
              "      <th></th>\n",
              "      <th>Unnamed: 0</th>\n",
              "      <th>Text</th>\n",
              "      <th>داور ۱</th>\n",
              "      <th>داور ۲</th>\n",
              "      <th>Tweet URL</th>\n",
              "    </tr>\n",
              "  </thead>\n",
              "  <tbody>\n",
              "    <tr>\n",
              "      <th>0</th>\n",
              "      <td>1</td>\n",
              "      <td>با من بی‌کس تنها شده یارا تو بمان\\nهمه رفتند ا...</td>\n",
              "      <td>0.0</td>\n",
              "      <td>NaN</td>\n",
              "      <td>https://twitter.com/doctortheplague/status/114...</td>\n",
              "    </tr>\n",
              "    <tr>\n",
              "      <th>1</th>\n",
              "      <td>2</td>\n",
              "      <td>واقعاً دردناکه این تصاویر،مسئله مهاجرین بزرگتر...</td>\n",
              "      <td>0.0</td>\n",
              "      <td>NaN</td>\n",
              "      <td>https://twitter.com/MH_Mousavi67/status/114620...</td>\n",
              "    </tr>\n",
              "    <tr>\n",
              "      <th>2</th>\n",
              "      <td>3</td>\n",
              "      <td>عموم فقط مردها هستن \\n خاک تو سر مملکت</td>\n",
              "      <td>1.0</td>\n",
              "      <td>NaN</td>\n",
              "      <td>https://twitter.com/farhadetoon/status/1146206...</td>\n",
              "    </tr>\n",
              "    <tr>\n",
              "      <th>3</th>\n",
              "      <td>4</td>\n",
              "      <td>میخوابیدیم مثل آدم ۵ بیدار میشدیم دیگه!!</td>\n",
              "      <td>0.0</td>\n",
              "      <td>NaN</td>\n",
              "      <td>https://twitter.com/dami_him/status/1146206630...</td>\n",
              "    </tr>\n",
              "    <tr>\n",
              "      <th>4</th>\n",
              "      <td>5</td>\n",
              "      <td>\"نرم افزار\" شبیه سکسٍ . بهتره وقتی رایگان باشه...</td>\n",
              "      <td>0.0</td>\n",
              "      <td>NaN</td>\n",
              "      <td>https://twitter.com/Arman_tms/status/114620649...</td>\n",
              "    </tr>\n",
              "  </tbody>\n",
              "</table>\n",
              "</div>"
            ],
            "text/plain": [
              "   Unnamed: 0  ...                                          Tweet URL\n",
              "0           1  ...  https://twitter.com/doctortheplague/status/114...\n",
              "1           2  ...  https://twitter.com/MH_Mousavi67/status/114620...\n",
              "2           3  ...  https://twitter.com/farhadetoon/status/1146206...\n",
              "3           4  ...  https://twitter.com/dami_him/status/1146206630...\n",
              "4           5  ...  https://twitter.com/Arman_tms/status/114620649...\n",
              "\n",
              "[5 rows x 5 columns]"
            ]
          },
          "metadata": {
            "tags": []
          },
          "execution_count": 8
        }
      ]
    },
    {
      "cell_type": "code",
      "metadata": {
        "id": "U0v8FNT-6dRh"
      },
      "source": [
        "raw_df.columns = [\"id\", \"text\", \"ref1\", \"ref2\", \"link\"]"
      ],
      "execution_count": null,
      "outputs": []
    },
    {
      "cell_type": "code",
      "metadata": {
        "id": "tsr0S5mB7GiD"
      },
      "source": [
        "filtered_raw_df = raw_df.loc[(raw_df['ref1'] == 1.0) | (raw_df['ref1'] == 0.0)]"
      ],
      "execution_count": null,
      "outputs": []
    },
    {
      "cell_type": "code",
      "metadata": {
        "colab": {
          "base_uri": "https://localhost:8080/"
        },
        "id": "sVlFYRVT7wZl",
        "outputId": "985d4e30-1244-4fac-dc57-1a20d1ca5b4d"
      },
      "source": [
        "filtered_raw_df.shape"
      ],
      "execution_count": null,
      "outputs": [
        {
          "output_type": "execute_result",
          "data": {
            "text/plain": [
              "(3207, 5)"
            ]
          },
          "metadata": {
            "tags": []
          },
          "execution_count": 14
        }
      ]
    },
    {
      "cell_type": "code",
      "metadata": {
        "colab": {
          "base_uri": "https://localhost:8080/"
        },
        "id": "FW_4aC9D7zie",
        "outputId": "a5a01f9e-fcec-45b0-9237-f87370b4b45b"
      },
      "source": [
        "raw_df.shape"
      ],
      "execution_count": null,
      "outputs": [
        {
          "output_type": "execute_result",
          "data": {
            "text/plain": [
              "(4062, 5)"
            ]
          },
          "metadata": {
            "tags": []
          },
          "execution_count": 15
        }
      ]
    },
    {
      "cell_type": "code",
      "metadata": {
        "colab": {
          "base_uri": "https://localhost:8080/",
          "height": 204
        },
        "id": "Kc60m7Tv76FG",
        "outputId": "5254173b-db7a-4f44-b14d-d3b8a0d45039"
      },
      "source": [
        "filtered_raw_df.head()"
      ],
      "execution_count": null,
      "outputs": [
        {
          "output_type": "execute_result",
          "data": {
            "text/html": [
              "<div>\n",
              "<style scoped>\n",
              "    .dataframe tbody tr th:only-of-type {\n",
              "        vertical-align: middle;\n",
              "    }\n",
              "\n",
              "    .dataframe tbody tr th {\n",
              "        vertical-align: top;\n",
              "    }\n",
              "\n",
              "    .dataframe thead th {\n",
              "        text-align: right;\n",
              "    }\n",
              "</style>\n",
              "<table border=\"1\" class=\"dataframe\">\n",
              "  <thead>\n",
              "    <tr style=\"text-align: right;\">\n",
              "      <th></th>\n",
              "      <th>id</th>\n",
              "      <th>text</th>\n",
              "      <th>ref1</th>\n",
              "      <th>ref2</th>\n",
              "      <th>link</th>\n",
              "    </tr>\n",
              "  </thead>\n",
              "  <tbody>\n",
              "    <tr>\n",
              "      <th>0</th>\n",
              "      <td>1</td>\n",
              "      <td>با من بی‌کس تنها شده یارا تو بمان\\nهمه رفتند ا...</td>\n",
              "      <td>0.0</td>\n",
              "      <td>NaN</td>\n",
              "      <td>https://twitter.com/doctortheplague/status/114...</td>\n",
              "    </tr>\n",
              "    <tr>\n",
              "      <th>1</th>\n",
              "      <td>2</td>\n",
              "      <td>واقعاً دردناکه این تصاویر،مسئله مهاجرین بزرگتر...</td>\n",
              "      <td>0.0</td>\n",
              "      <td>NaN</td>\n",
              "      <td>https://twitter.com/MH_Mousavi67/status/114620...</td>\n",
              "    </tr>\n",
              "    <tr>\n",
              "      <th>2</th>\n",
              "      <td>3</td>\n",
              "      <td>عموم فقط مردها هستن \\n خاک تو سر مملکت</td>\n",
              "      <td>1.0</td>\n",
              "      <td>NaN</td>\n",
              "      <td>https://twitter.com/farhadetoon/status/1146206...</td>\n",
              "    </tr>\n",
              "    <tr>\n",
              "      <th>3</th>\n",
              "      <td>4</td>\n",
              "      <td>میخوابیدیم مثل آدم ۵ بیدار میشدیم دیگه!!</td>\n",
              "      <td>0.0</td>\n",
              "      <td>NaN</td>\n",
              "      <td>https://twitter.com/dami_him/status/1146206630...</td>\n",
              "    </tr>\n",
              "    <tr>\n",
              "      <th>4</th>\n",
              "      <td>5</td>\n",
              "      <td>\"نرم افزار\" شبیه سکسٍ . بهتره وقتی رایگان باشه...</td>\n",
              "      <td>0.0</td>\n",
              "      <td>NaN</td>\n",
              "      <td>https://twitter.com/Arman_tms/status/114620649...</td>\n",
              "    </tr>\n",
              "  </tbody>\n",
              "</table>\n",
              "</div>"
            ],
            "text/plain": [
              "   id  ...                                               link\n",
              "0   1  ...  https://twitter.com/doctortheplague/status/114...\n",
              "1   2  ...  https://twitter.com/MH_Mousavi67/status/114620...\n",
              "2   3  ...  https://twitter.com/farhadetoon/status/1146206...\n",
              "3   4  ...  https://twitter.com/dami_him/status/1146206630...\n",
              "4   5  ...  https://twitter.com/Arman_tms/status/114620649...\n",
              "\n",
              "[5 rows x 5 columns]"
            ]
          },
          "metadata": {
            "tags": []
          },
          "execution_count": 16
        }
      ]
    },
    {
      "cell_type": "code",
      "metadata": {
        "id": "byX2SrCA78Qf"
      },
      "source": [
        "regex_for_username = '@[^\\s]+'\n",
        "df_updated = filtered_raw_df.replace(to_replace = regex_for_username, value = '@USER', regex = True)\n"
      ],
      "execution_count": null,
      "outputs": []
    },
    {
      "cell_type": "code",
      "metadata": {
        "id": "4Thokdly8V1u"
      },
      "source": [
        "df_updated = filtered_raw_df.replace(to_replace = regex_for_username, value = '@USER', regex = True)\n"
      ],
      "execution_count": null,
      "outputs": []
    },
    {
      "cell_type": "code",
      "metadata": {
        "id": "QixSMHxF9ZdM"
      },
      "source": [
        "pd.set_option('display.max_colwidth', None)"
      ],
      "execution_count": null,
      "outputs": []
    },
    {
      "cell_type": "code",
      "metadata": {
        "colab": {
          "base_uri": "https://localhost:8080/",
          "height": 343
        },
        "id": "hFLuj18N8wHG",
        "outputId": "8f81d0b9-8ba7-461b-b9f7-ecaad171ed81"
      },
      "source": [
        "df_updated[df_updated['text'].str.contains('@')].head(4)"
      ],
      "execution_count": null,
      "outputs": [
        {
          "output_type": "execute_result",
          "data": {
            "text/html": [
              "<div>\n",
              "<style scoped>\n",
              "    .dataframe tbody tr th:only-of-type {\n",
              "        vertical-align: middle;\n",
              "    }\n",
              "\n",
              "    .dataframe tbody tr th {\n",
              "        vertical-align: top;\n",
              "    }\n",
              "\n",
              "    .dataframe thead th {\n",
              "        text-align: right;\n",
              "    }\n",
              "</style>\n",
              "<table border=\"1\" class=\"dataframe\">\n",
              "  <thead>\n",
              "    <tr style=\"text-align: right;\">\n",
              "      <th></th>\n",
              "      <th>id</th>\n",
              "      <th>text</th>\n",
              "      <th>ref1</th>\n",
              "      <th>ref2</th>\n",
              "      <th>link</th>\n",
              "    </tr>\n",
              "  </thead>\n",
              "  <tbody>\n",
              "    <tr>\n",
              "      <th>12</th>\n",
              "      <td>13</td>\n",
              "      <td>#MGMAVOTE #EXO \\n@USER\\n \\nیه روز اون قدر بلند داد می زنم که این حرفهام رو بشنوی.که بنظر نیاد دارم با خودم حرف می زنم... هرچند همه می دونن مخاطبم تویی.\\n( ٢٥ )</td>\n",
              "      <td>0.0</td>\n",
              "      <td>NaN</td>\n",
              "      <td>https://twitter.com/Eky8812/status/1146931533317574657</td>\n",
              "    </tr>\n",
              "    <tr>\n",
              "      <th>33</th>\n",
              "      <td>35</td>\n",
              "      <td>@USER\\n سلام اقای بنیامین ،راستش میخواستم بهتون بگم ،زیاد نگران ایران و کارهای خطر ناک نظام نباشید زیرا،تمام مسئولان ایران ،یا وابسته به امریکا ،،یا انگلیس،،یا روسیه   هستن و بقیه ی ا نها هم که جاسوس های خود شما هستن ،پس نگرانی شما بی مورد است ،،درست نمیگم ،دوست عزیز !!!</td>\n",
              "      <td>1.0</td>\n",
              "      <td>NaN</td>\n",
              "      <td>https://twitter.com/BeykJale/status/1148380923735552000</td>\n",
              "    </tr>\n",
              "    <tr>\n",
              "      <th>133</th>\n",
              "      <td>145</td>\n",
              "      <td>ادم باید یکیو داشته باشه تو زندگیش مثل تو\\n@USER\\n ^_^</td>\n",
              "      <td>0.0</td>\n",
              "      <td>NaN</td>\n",
              "      <td>https://twitter.com/bahar_brr/status/1157803000217440256</td>\n",
              "    </tr>\n",
              "    <tr>\n",
              "      <th>145</th>\n",
              "      <td>158</td>\n",
              "      <td>توییت #مارک_دوبوویتز مدیر بنیاد دفاع از دموکراسی‌ها :\\n\\nایرانیان ظنین هستند که حکومتشان حق ایران در دریای #کاسپین را به ثمن بخس فروخته است. بر اساس برخی تخمینهای غیررسمی سهم ایران در کاسپین از 50 درصد تا 11 درصد کاهش پیدا کرده است.\\n@USER</td>\n",
              "      <td>0.0</td>\n",
              "      <td>NaN</td>\n",
              "      <td>https://twitter.com/behi_gity/status/1159252518808875008</td>\n",
              "    </tr>\n",
              "  </tbody>\n",
              "</table>\n",
              "</div>"
            ],
            "text/plain": [
              "      id  ...                                                      link\n",
              "12    13  ...    https://twitter.com/Eky8812/status/1146931533317574657\n",
              "33    35  ...   https://twitter.com/BeykJale/status/1148380923735552000\n",
              "133  145  ...  https://twitter.com/bahar_brr/status/1157803000217440256\n",
              "145  158  ...  https://twitter.com/behi_gity/status/1159252518808875008\n",
              "\n",
              "[4 rows x 5 columns]"
            ]
          },
          "metadata": {
            "tags": []
          },
          "execution_count": 27
        }
      ]
    },
    {
      "cell_type": "code",
      "metadata": {
        "colab": {
          "base_uri": "https://localhost:8080/",
          "height": 343
        },
        "id": "owH5CSR29HLM",
        "outputId": "97e793e9-9403-4745-d611-999984b678e7"
      },
      "source": [
        "raw_df[raw_df['text'].str.contains('@')].head(4)"
      ],
      "execution_count": null,
      "outputs": [
        {
          "output_type": "execute_result",
          "data": {
            "text/html": [
              "<div>\n",
              "<style scoped>\n",
              "    .dataframe tbody tr th:only-of-type {\n",
              "        vertical-align: middle;\n",
              "    }\n",
              "\n",
              "    .dataframe tbody tr th {\n",
              "        vertical-align: top;\n",
              "    }\n",
              "\n",
              "    .dataframe thead th {\n",
              "        text-align: right;\n",
              "    }\n",
              "</style>\n",
              "<table border=\"1\" class=\"dataframe\">\n",
              "  <thead>\n",
              "    <tr style=\"text-align: right;\">\n",
              "      <th></th>\n",
              "      <th>id</th>\n",
              "      <th>text</th>\n",
              "      <th>ref1</th>\n",
              "      <th>ref2</th>\n",
              "      <th>link</th>\n",
              "    </tr>\n",
              "  </thead>\n",
              "  <tbody>\n",
              "    <tr>\n",
              "      <th>12</th>\n",
              "      <td>13</td>\n",
              "      <td>#MGMAVOTE #EXO \\n@weareoneEXO\\n \\nیه روز اون قدر بلند داد می زنم که این حرفهام رو بشنوی.که بنظر نیاد دارم با خودم حرف می زنم... هرچند همه می دونن مخاطبم تویی.\\n( ٢٥ )</td>\n",
              "      <td>0.0</td>\n",
              "      <td>NaN</td>\n",
              "      <td>https://twitter.com/Eky8812/status/1146931533317574657</td>\n",
              "    </tr>\n",
              "    <tr>\n",
              "      <th>33</th>\n",
              "      <td>35</td>\n",
              "      <td>@israelipm_farsi\\n سلام اقای بنیامین ،راستش میخواستم بهتون بگم ،زیاد نگران ایران و کارهای خطر ناک نظام نباشید زیرا،تمام مسئولان ایران ،یا وابسته به امریکا ،،یا انگلیس،،یا روسیه   هستن و بقیه ی ا نها هم که جاسوس های خود شما هستن ،پس نگرانی شما بی مورد است ،،درست نمیگم ،دوست عزیز !!!</td>\n",
              "      <td>1.0</td>\n",
              "      <td>NaN</td>\n",
              "      <td>https://twitter.com/BeykJale/status/1148380923735552000</td>\n",
              "    </tr>\n",
              "    <tr>\n",
              "      <th>133</th>\n",
              "      <td>145</td>\n",
              "      <td>ادم باید یکیو داشته باشه تو زندگیش مثل تو\\n@RaminRapt\\n ^_^</td>\n",
              "      <td>0.0</td>\n",
              "      <td>NaN</td>\n",
              "      <td>https://twitter.com/bahar_brr/status/1157803000217440256</td>\n",
              "    </tr>\n",
              "    <tr>\n",
              "      <th>145</th>\n",
              "      <td>158</td>\n",
              "      <td>توییت #مارک_دوبوویتز مدیر بنیاد دفاع از دموکراسی‌ها :\\n\\nایرانیان ظنین هستند که حکومتشان حق ایران در دریای #کاسپین را به ثمن بخس فروخته است. بر اساس برخی تخمینهای غیررسمی سهم ایران در کاسپین از 50 درصد تا 11 درصد کاهش پیدا کرده است.\\n@Mellig</td>\n",
              "      <td>0.0</td>\n",
              "      <td>NaN</td>\n",
              "      <td>https://twitter.com/behi_gity/status/1159252518808875008</td>\n",
              "    </tr>\n",
              "  </tbody>\n",
              "</table>\n",
              "</div>"
            ],
            "text/plain": [
              "      id  ...                                                      link\n",
              "12    13  ...    https://twitter.com/Eky8812/status/1146931533317574657\n",
              "33    35  ...   https://twitter.com/BeykJale/status/1148380923735552000\n",
              "133  145  ...  https://twitter.com/bahar_brr/status/1157803000217440256\n",
              "145  158  ...  https://twitter.com/behi_gity/status/1159252518808875008\n",
              "\n",
              "[4 rows x 5 columns]"
            ]
          },
          "metadata": {
            "tags": []
          },
          "execution_count": 29
        }
      ]
    },
    {
      "cell_type": "code",
      "metadata": {
        "id": "kPLKVyPb9ojL"
      },
      "source": [
        "df_updated_underscore = df_updated.replace(to_replace = \"_\", value = ' ', regex = True)\n"
      ],
      "execution_count": null,
      "outputs": []
    },
    {
      "cell_type": "code",
      "metadata": {
        "id": "hIHtMcqP-1XA"
      },
      "source": [
        "df_updated_underscore_hashtag = df_updated_underscore.replace(to_replace = \"#\", value = ' ', regex = True)\n"
      ],
      "execution_count": null,
      "outputs": []
    },
    {
      "cell_type": "code",
      "metadata": {
        "colab": {
          "base_uri": "https://localhost:8080/",
          "height": 360
        },
        "id": "e9wzuHKc_SgH",
        "outputId": "cf3f4063-9f2c-490f-90bf-37226a50f717"
      },
      "source": [
        "df_updated_underscore[df_updated_underscore['text'].str.contains('#')].head(4)"
      ],
      "execution_count": null,
      "outputs": [
        {
          "output_type": "execute_result",
          "data": {
            "text/html": [
              "<div>\n",
              "<style scoped>\n",
              "    .dataframe tbody tr th:only-of-type {\n",
              "        vertical-align: middle;\n",
              "    }\n",
              "\n",
              "    .dataframe tbody tr th {\n",
              "        vertical-align: top;\n",
              "    }\n",
              "\n",
              "    .dataframe thead th {\n",
              "        text-align: right;\n",
              "    }\n",
              "</style>\n",
              "<table border=\"1\" class=\"dataframe\">\n",
              "  <thead>\n",
              "    <tr style=\"text-align: right;\">\n",
              "      <th></th>\n",
              "      <th>id</th>\n",
              "      <th>text</th>\n",
              "      <th>ref1</th>\n",
              "      <th>ref2</th>\n",
              "      <th>link</th>\n",
              "    </tr>\n",
              "  </thead>\n",
              "  <tbody>\n",
              "    <tr>\n",
              "      <th>4</th>\n",
              "      <td>5</td>\n",
              "      <td>\"نرم افزار\" شبیه سکسٍ . بهتره وقتی رایگان باشه. \\n#free software\\n#opensource \\n#freedom</td>\n",
              "      <td>0.0</td>\n",
              "      <td>NaN</td>\n",
              "      <td>https://twitter.com/Arman tms/status/1146206499745611776</td>\n",
              "    </tr>\n",
              "    <tr>\n",
              "      <th>5</th>\n",
              "      <td>6</td>\n",
              "      <td>انسانیت را از انسان بگیرید به هر وحشتناکی عادت میکند.درست مثل مردم ما\\n#Mullahs are Puppets4Putin\\n#RussiaColonizedIran \\n#ایران مستعمره روسیه\\n#ملا پوتین اصولگرا دیگه تمومه ماجرا \\n#علی عبدالرضایی صدای فرودستان</td>\n",
              "      <td>1.0</td>\n",
              "      <td>NaN</td>\n",
              "      <td>https://twitter.com/IA70ZAMYAD/status/1146206496017043456</td>\n",
              "    </tr>\n",
              "    <tr>\n",
              "      <th>9</th>\n",
              "      <td>10</td>\n",
              "      <td>بهترین پاسخ به این گستاخی اخیر روباه پیر (انگلیس) می تواند توقیف متقابل کشتی‌ های نفت کش یا باری متعلق به انگلیستان و یا حداقل گرفتن عوارض سنگین از کشتی های عبوری انگلیسی از تنگه هرمز باشد با استدلاله همرایی کردن انگلیس با تحریم های ظالمانه علیه مردم ایران.\\n#نفتکش ایران</td>\n",
              "      <td>0.0</td>\n",
              "      <td>NaN</td>\n",
              "      <td>https://twitter.com/safshekan /status/1146931644806438914</td>\n",
              "    </tr>\n",
              "    <tr>\n",
              "      <th>12</th>\n",
              "      <td>13</td>\n",
              "      <td>#MGMAVOTE #EXO \\n@USER\\n \\nیه روز اون قدر بلند داد می زنم که این حرفهام رو بشنوی.که بنظر نیاد دارم با خودم حرف می زنم... هرچند همه می دونن مخاطبم تویی.\\n( ٢٥ )</td>\n",
              "      <td>0.0</td>\n",
              "      <td>NaN</td>\n",
              "      <td>https://twitter.com/Eky8812/status/1146931533317574657</td>\n",
              "    </tr>\n",
              "  </tbody>\n",
              "</table>\n",
              "</div>"
            ],
            "text/plain": [
              "    id  ...                                                       link\n",
              "4    5  ...   https://twitter.com/Arman tms/status/1146206499745611776\n",
              "5    6  ...  https://twitter.com/IA70ZAMYAD/status/1146206496017043456\n",
              "9   10  ...  https://twitter.com/safshekan /status/1146931644806438914\n",
              "12  13  ...     https://twitter.com/Eky8812/status/1146931533317574657\n",
              "\n",
              "[4 rows x 5 columns]"
            ]
          },
          "metadata": {
            "tags": []
          },
          "execution_count": 35
        }
      ]
    },
    {
      "cell_type": "code",
      "metadata": {
        "colab": {
          "base_uri": "https://localhost:8080/",
          "height": 363
        },
        "id": "fdZ-1wv-_z57",
        "outputId": "181967cf-1df1-4eb8-9f9a-6fb345f5b3dc"
      },
      "source": [
        "df_updated[df_updated['text'].str.contains('#')].head(4)"
      ],
      "execution_count": null,
      "outputs": [
        {
          "output_type": "execute_result",
          "data": {
            "text/html": [
              "<div>\n",
              "<style scoped>\n",
              "    .dataframe tbody tr th:only-of-type {\n",
              "        vertical-align: middle;\n",
              "    }\n",
              "\n",
              "    .dataframe tbody tr th {\n",
              "        vertical-align: top;\n",
              "    }\n",
              "\n",
              "    .dataframe thead th {\n",
              "        text-align: right;\n",
              "    }\n",
              "</style>\n",
              "<table border=\"1\" class=\"dataframe\">\n",
              "  <thead>\n",
              "    <tr style=\"text-align: right;\">\n",
              "      <th></th>\n",
              "      <th>id</th>\n",
              "      <th>text</th>\n",
              "      <th>ref1</th>\n",
              "      <th>ref2</th>\n",
              "      <th>link</th>\n",
              "    </tr>\n",
              "  </thead>\n",
              "  <tbody>\n",
              "    <tr>\n",
              "      <th>4</th>\n",
              "      <td>5</td>\n",
              "      <td>\"نرم افزار\" شبیه سکسٍ . بهتره وقتی رایگان باشه. \\n#free_software\\n#opensource \\n#freedom</td>\n",
              "      <td>0.0</td>\n",
              "      <td>NaN</td>\n",
              "      <td>https://twitter.com/Arman_tms/status/1146206499745611776</td>\n",
              "    </tr>\n",
              "    <tr>\n",
              "      <th>5</th>\n",
              "      <td>6</td>\n",
              "      <td>انسانیت را از انسان بگیرید به هر وحشتناکی عادت میکند.درست مثل مردم ما\\n#Mullahs_are_Puppets4Putin\\n#RussiaColonizedIran \\n#ایران_مستعمره_روسیه\\n#ملا_پوتین_اصولگرا_دیگه_تمومه_ماجرا \\n#علی_عبدالرضایی_صدای_فرودستان</td>\n",
              "      <td>1.0</td>\n",
              "      <td>NaN</td>\n",
              "      <td>https://twitter.com/IA70ZAMYAD/status/1146206496017043456</td>\n",
              "    </tr>\n",
              "    <tr>\n",
              "      <th>9</th>\n",
              "      <td>10</td>\n",
              "      <td>بهترین پاسخ به این گستاخی اخیر روباه پیر (انگلیس) می تواند توقیف متقابل کشتی‌ های نفت کش یا باری متعلق به انگلیستان و یا حداقل گرفتن عوارض سنگین از کشتی های عبوری انگلیسی از تنگه هرمز باشد با استدلاله همرایی کردن انگلیس با تحریم های ظالمانه علیه مردم ایران.\\n#نفتکش_ایران</td>\n",
              "      <td>0.0</td>\n",
              "      <td>NaN</td>\n",
              "      <td>https://twitter.com/safshekan_/status/1146931644806438914</td>\n",
              "    </tr>\n",
              "    <tr>\n",
              "      <th>12</th>\n",
              "      <td>13</td>\n",
              "      <td>#MGMAVOTE #EXO \\n@USER\\n \\nیه روز اون قدر بلند داد می زنم که این حرفهام رو بشنوی.که بنظر نیاد دارم با خودم حرف می زنم... هرچند همه می دونن مخاطبم تویی.\\n( ٢٥ )</td>\n",
              "      <td>0.0</td>\n",
              "      <td>NaN</td>\n",
              "      <td>https://twitter.com/Eky8812/status/1146931533317574657</td>\n",
              "    </tr>\n",
              "  </tbody>\n",
              "</table>\n",
              "</div>"
            ],
            "text/plain": [
              "    id  ...                                                       link\n",
              "4    5  ...   https://twitter.com/Arman_tms/status/1146206499745611776\n",
              "5    6  ...  https://twitter.com/IA70ZAMYAD/status/1146206496017043456\n",
              "9   10  ...  https://twitter.com/safshekan_/status/1146931644806438914\n",
              "12  13  ...     https://twitter.com/Eky8812/status/1146931533317574657\n",
              "\n",
              "[4 rows x 5 columns]"
            ]
          },
          "metadata": {
            "tags": []
          },
          "execution_count": 36
        }
      ]
    },
    {
      "cell_type": "code",
      "metadata": {
        "colab": {
          "base_uri": "https://localhost:8080/",
          "height": 241
        },
        "id": "d6SYevUFGQRZ",
        "outputId": "e2afe2b0-2aee-459b-8b59-5b144ecd0aaf"
      },
      "source": [
        "df_updated_underscore_hashtag.head(4)"
      ],
      "execution_count": null,
      "outputs": [
        {
          "output_type": "execute_result",
          "data": {
            "text/html": [
              "<div>\n",
              "<style scoped>\n",
              "    .dataframe tbody tr th:only-of-type {\n",
              "        vertical-align: middle;\n",
              "    }\n",
              "\n",
              "    .dataframe tbody tr th {\n",
              "        vertical-align: top;\n",
              "    }\n",
              "\n",
              "    .dataframe thead th {\n",
              "        text-align: right;\n",
              "    }\n",
              "</style>\n",
              "<table border=\"1\" class=\"dataframe\">\n",
              "  <thead>\n",
              "    <tr style=\"text-align: right;\">\n",
              "      <th></th>\n",
              "      <th>id</th>\n",
              "      <th>text</th>\n",
              "      <th>ref1</th>\n",
              "      <th>ref2</th>\n",
              "      <th>link</th>\n",
              "    </tr>\n",
              "  </thead>\n",
              "  <tbody>\n",
              "    <tr>\n",
              "      <th>0</th>\n",
              "      <td>1</td>\n",
              "      <td>با من بی‌کس تنها شده یارا تو بمان\\nهمه رفتند از این خانه خدا را تو بمان</td>\n",
              "      <td>0.0</td>\n",
              "      <td>NaN</td>\n",
              "      <td>https://twitter.com/doctortheplague/status/1146206897588133888</td>\n",
              "    </tr>\n",
              "    <tr>\n",
              "      <th>1</th>\n",
              "      <td>2</td>\n",
              "      <td>واقعاً دردناکه این تصاویر،مسئله مهاجرین بزرگترین چالش پیش روی کشورهای بزرگ غربی است و این مشکل هر روز بزرگتر و پیچیده تر میشه،اما این شکل برخورد دولت آمریکا شرم‌آوره،ترامپ دیگه آبرویی برای آمریکا نگذاشته..</td>\n",
              "      <td>0.0</td>\n",
              "      <td>NaN</td>\n",
              "      <td>https://twitter.com/MH Mousavi67/status/1146206867707838465</td>\n",
              "    </tr>\n",
              "    <tr>\n",
              "      <th>2</th>\n",
              "      <td>3</td>\n",
              "      <td>عموم فقط مردها هستن \\n خاک تو سر مملکت</td>\n",
              "      <td>1.0</td>\n",
              "      <td>NaN</td>\n",
              "      <td>https://twitter.com/farhadetoon/status/1146206817913102338</td>\n",
              "    </tr>\n",
              "    <tr>\n",
              "      <th>3</th>\n",
              "      <td>4</td>\n",
              "      <td>میخوابیدیم مثل آدم ۵ بیدار میشدیم دیگه!!</td>\n",
              "      <td>0.0</td>\n",
              "      <td>NaN</td>\n",
              "      <td>https://twitter.com/dami him/status/1146206630599639040</td>\n",
              "    </tr>\n",
              "  </tbody>\n",
              "</table>\n",
              "</div>"
            ],
            "text/plain": [
              "   id  ...                                                            link\n",
              "0   1  ...  https://twitter.com/doctortheplague/status/1146206897588133888\n",
              "1   2  ...     https://twitter.com/MH Mousavi67/status/1146206867707838465\n",
              "2   3  ...      https://twitter.com/farhadetoon/status/1146206817913102338\n",
              "3   4  ...         https://twitter.com/dami him/status/1146206630599639040\n",
              "\n",
              "[4 rows x 5 columns]"
            ]
          },
          "metadata": {
            "tags": []
          },
          "execution_count": 38
        }
      ]
    },
    {
      "cell_type": "code",
      "metadata": {
        "id": "r7nuktHvORiw"
      },
      "source": [
        "df_updated_underscore_hashtag = df_updated_underscore_hashtag.sort_values('ref2')"
      ],
      "execution_count": null,
      "outputs": []
    },
    {
      "cell_type": "code",
      "metadata": {
        "id": "IYw9jMFsHLsF"
      },
      "source": [
        "df_updated_underscore_hashtag.to_csv(\"df_updated_underscore_hashtag.csv\")\n"
      ],
      "execution_count": null,
      "outputs": []
    },
    {
      "cell_type": "code",
      "metadata": {
        "id": "ySWjmYIOH-7-"
      },
      "source": [
        "!cp df_updated_underscore_hashtag.csv \"drive/My Drive/\""
      ],
      "execution_count": null,
      "outputs": []
    },
    {
      "cell_type": "code",
      "metadata": {
        "id": "bQ6yuVfzJFWi"
      },
      "source": [
        ""
      ],
      "execution_count": null,
      "outputs": []
    },
    {
      "cell_type": "markdown",
      "metadata": {
        "id": "7loy39Y_qm9d"
      },
      "source": [
        "clean data more\n"
      ]
    },
    {
      "cell_type": "code",
      "metadata": {
        "colab": {
          "resources": {
            "http://localhost:8080/nbextensions/google.colab/files.js": {
              "data": "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",
              "ok": true,
              "headers": [
                [
                  "content-type",
                  "application/javascript"
                ]
              ],
              "status": 200,
              "status_text": ""
            }
          },
          "base_uri": "https://localhost:8080/",
          "height": 73
        },
        "id": "u7nxyMJ6qrXR",
        "outputId": "7622ac5f-5a12-43d2-8343-84db5e2ae763"
      },
      "source": [
        "from google.colab import files\n",
        "uploaded = files.upload()"
      ],
      "execution_count": null,
      "outputs": [
        {
          "output_type": "display_data",
          "data": {
            "text/html": [
              "\n",
              "     <input type=\"file\" id=\"files-cb41e221-dc7d-4acb-83f0-7f27be111c80\" name=\"files[]\" multiple disabled\n",
              "        style=\"border:none\" />\n",
              "     <output id=\"result-cb41e221-dc7d-4acb-83f0-7f27be111c80\">\n",
              "      Upload widget is only available when the cell has been executed in the\n",
              "      current browser session. Please rerun this cell to enable.\n",
              "      </output>\n",
              "      <script src=\"/nbextensions/google.colab/files.js\"></script> "
            ],
            "text/plain": [
              "<IPython.core.display.HTML object>"
            ]
          },
          "metadata": {
            "tags": []
          }
        },
        {
          "output_type": "stream",
          "text": [
            "Saving clean_data_serie_2.csv to clean_data_serie_2.csv\n"
          ],
          "name": "stdout"
        }
      ]
    },
    {
      "cell_type": "code",
      "metadata": {
        "id": "nsiGwhkUrIaC"
      },
      "source": [
        "raw_df_2 = io.BytesIO(uploaded[\"clean_data_serie_2.csv\"])"
      ],
      "execution_count": null,
      "outputs": []
    },
    {
      "cell_type": "code",
      "metadata": {
        "id": "crXaNoTMr9Rc"
      },
      "source": [
        "raw_df_2 = pd.read_csv(raw_df_2)"
      ],
      "execution_count": null,
      "outputs": []
    },
    {
      "cell_type": "code",
      "metadata": {
        "colab": {
          "base_uri": "https://localhost:8080/",
          "height": 425
        },
        "id": "jiNj1E8ysFxd",
        "outputId": "4a126deb-d0b6-4434-8052-b4a2bf79226e"
      },
      "source": [
        "raw_df_2.tail()"
      ],
      "execution_count": null,
      "outputs": [
        {
          "output_type": "execute_result",
          "data": {
            "text/html": [
              "<div>\n",
              "<style scoped>\n",
              "    .dataframe tbody tr th:only-of-type {\n",
              "        vertical-align: middle;\n",
              "    }\n",
              "\n",
              "    .dataframe tbody tr th {\n",
              "        vertical-align: top;\n",
              "    }\n",
              "\n",
              "    .dataframe thead th {\n",
              "        text-align: right;\n",
              "    }\n",
              "</style>\n",
              "<table border=\"1\" class=\"dataframe\">\n",
              "  <thead>\n",
              "    <tr style=\"text-align: right;\">\n",
              "      <th></th>\n",
              "      <th>text</th>\n",
              "      <th>ref1</th>\n",
              "      <th>ref2</th>\n",
              "      <th>ref3</th>\n",
              "      <th>link</th>\n",
              "    </tr>\n",
              "  </thead>\n",
              "  <tbody>\n",
              "    <tr>\n",
              "      <th>3202</th>\n",
              "      <td>خداوندا به آبروی حضرت زهراسلام الله علیها \\nتمامی این بندگان عزیزت که دراین گرمای شدید ، رعایت حجاب وعفاف میکنند را\\nاز عذاب دنیا وآخرت محافظت بفرما\\n حجاب</td>\n",
              "      <td>0</td>\n",
              "      <td>NaN</td>\n",
              "      <td>NaN</td>\n",
              "      <td>https://twitter.com/khadeem313/status/1145844379438989312</td>\n",
              "    </tr>\n",
              "    <tr>\n",
              "      <th>3203</th>\n",
              "      <td>تو هر دعوا سكرين اون بوس كه تاريخش مال سه چهار سال پيش هست ر بكوبن تو سرش. \\nخيلي از كاربران مثل خودم زير دوسال اينجا هستيم. و جز زحمت و تلاش طرفين دعواها چيزي نديديم. \\nنميدونم شايد بعضي از اين باندها بعد از ترند شدن ها، يه حس مغرور شدن بهشون دست ميده. و هر باند فكر كنه كه خودشون</td>\n",
              "      <td>0</td>\n",
              "      <td>NaN</td>\n",
              "      <td>NaN</td>\n",
              "      <td>https://twitter.com/freedom92979546/status/1145844341216358403</td>\n",
              "    </tr>\n",
              "    <tr>\n",
              "      <th>3204</th>\n",
              "      <td>بزرگ مرد تاریخ مصر انور سادات روحش شاد .</td>\n",
              "      <td>0</td>\n",
              "      <td>NaN</td>\n",
              "      <td>NaN</td>\n",
              "      <td>https://twitter.com/kianizad/status/1145844317941948417</td>\n",
              "    </tr>\n",
              "    <tr>\n",
              "      <th>3205</th>\n",
              "      <td>نمی‌خوام حالا حرف سکسیستی/ریسیستی بزنم.\\n[حرف سکسیستی/ریسیستی می‌زند.]</td>\n",
              "      <td>0</td>\n",
              "      <td>NaN</td>\n",
              "      <td>NaN</td>\n",
              "      <td>https://twitter.com/mehdimk/status/1145844294735015936</td>\n",
              "    </tr>\n",
              "    <tr>\n",
              "      <th>3206</th>\n",
              "      <td>یکی از سیاستهای کثیف اسلام که میتواند رقیبی برای دروغ مصلحتی (اسلامی) باشد همین روش عصبانی کردن دشمنان و مخالفان است ک جمهوری اسلامی در پیش گرفته است</td>\n",
              "      <td>0</td>\n",
              "      <td>NaN</td>\n",
              "      <td>NaN</td>\n",
              "      <td>https://twitter.com/pabedar/status/1145843920536047617</td>\n",
              "    </tr>\n",
              "  </tbody>\n",
              "</table>\n",
              "</div>"
            ],
            "text/plain": [
              "                                                                                                                                                                                                                                                                                           text  ...                                                            link\n",
              "3202                                                                                                                                خداوندا به آبروی حضرت زهراسلام الله علیها \\nتمامی این بندگان عزیزت که دراین گرمای شدید ، رعایت حجاب وعفاف میکنند را\\nاز عذاب دنیا وآخرت محافظت بفرما\\n حجاب  ...       https://twitter.com/khadeem313/status/1145844379438989312\n",
              "3203  تو هر دعوا سكرين اون بوس كه تاريخش مال سه چهار سال پيش هست ر بكوبن تو سرش. \\nخيلي از كاربران مثل خودم زير دوسال اينجا هستيم. و جز زحمت و تلاش طرفين دعواها چيزي نديديم. \\nنميدونم شايد بعضي از اين باندها بعد از ترند شدن ها، يه حس مغرور شدن بهشون دست ميده. و هر باند فكر كنه كه خودشون  ...  https://twitter.com/freedom92979546/status/1145844341216358403\n",
              "3204                                                                                                                                                                                                                                                   بزرگ مرد تاریخ مصر انور سادات روحش شاد .  ...         https://twitter.com/kianizad/status/1145844317941948417\n",
              "3205                                                                                                                                                                                                                     نمی‌خوام حالا حرف سکسیستی/ریسیستی بزنم.\\n[حرف سکسیستی/ریسیستی می‌زند.]  ...          https://twitter.com/mehdimk/status/1145844294735015936\n",
              "3206                                                                                                                                      یکی از سیاستهای کثیف اسلام که میتواند رقیبی برای دروغ مصلحتی (اسلامی) باشد همین روش عصبانی کردن دشمنان و مخالفان است ک جمهوری اسلامی در پیش گرفته است  ...          https://twitter.com/pabedar/status/1145843920536047617\n",
              "\n",
              "[5 rows x 5 columns]"
            ]
          },
          "metadata": {
            "tags": []
          },
          "execution_count": 63
        }
      ]
    },
    {
      "cell_type": "code",
      "metadata": {
        "colab": {
          "base_uri": "https://localhost:8080/"
        },
        "id": "OIu7A48SsPeF",
        "outputId": "954d4be3-eb74-4e9d-f160-8ec9685ea607"
      },
      "source": [
        "raw_df_2.shape"
      ],
      "execution_count": null,
      "outputs": [
        {
          "output_type": "execute_result",
          "data": {
            "text/plain": [
              "(3207, 5)"
            ]
          },
          "metadata": {
            "tags": []
          },
          "execution_count": 60
        }
      ]
    },
    {
      "cell_type": "code",
      "metadata": {
        "id": "fCbo0N1ps59q"
      },
      "source": [
        "\n",
        "raw_df_2['ref3'] = raw_df_2.apply(\n",
        "    lambda row: row['ref1'] if np.isnan(row['ref3']) else row['ref3'],\n",
        "    axis=1\n",
        ")"
      ],
      "execution_count": null,
      "outputs": []
    },
    {
      "cell_type": "code",
      "metadata": {
        "colab": {
          "base_uri": "https://localhost:8080/",
          "height": 1000
        },
        "id": "pTDjoxjzw2bR",
        "outputId": "686b15f3-34e6-467e-dceb-e92141cd7f38"
      },
      "source": [
        "raw_df_2.head(15)"
      ],
      "execution_count": null,
      "outputs": [
        {
          "output_type": "execute_result",
          "data": {
            "text/html": [
              "<div>\n",
              "<style scoped>\n",
              "    .dataframe tbody tr th:only-of-type {\n",
              "        vertical-align: middle;\n",
              "    }\n",
              "\n",
              "    .dataframe tbody tr th {\n",
              "        vertical-align: top;\n",
              "    }\n",
              "\n",
              "    .dataframe thead th {\n",
              "        text-align: right;\n",
              "    }\n",
              "</style>\n",
              "<table border=\"1\" class=\"dataframe\">\n",
              "  <thead>\n",
              "    <tr style=\"text-align: right;\">\n",
              "      <th></th>\n",
              "      <th>text</th>\n",
              "      <th>ref1</th>\n",
              "      <th>ref2</th>\n",
              "      <th>ref3</th>\n",
              "      <th>link</th>\n",
              "    </tr>\n",
              "  </thead>\n",
              "  <tbody>\n",
              "    <tr>\n",
              "      <th>0</th>\n",
              "      <td>بچه های عزیز این کشتزار منو بلاک کرده یکی که دوست داره نظر منو بهش منشن کنه.</td>\n",
              "      <td>1</td>\n",
              "      <td>0.0</td>\n",
              "      <td>1.0</td>\n",
              "      <td>https://twitter.com/DrErovay/status/1249849840453980161</td>\n",
              "    </tr>\n",
              "    <tr>\n",
              "      <th>1</th>\n",
              "      <td>سیاسیون محترم از  نمایندگان گرفته تا  شهرداران برخی  نواحی در مناطق شهری و...\\nچرافکر میکنید پیام  تبریک و  تسلیت شما مهمه برای مردم؟\\nبه مدیران رسانه ها با کلی افاده چنین پیام هایی ارسال میکنید که پوشش بدهند!\\nخواهشا درک کنید که پیام تبریک و تسلیت شما دردی از مردم دوا نخواهد کرد</td>\n",
              "      <td>0</td>\n",
              "      <td>0.0</td>\n",
              "      <td>0.0</td>\n",
              "      <td>https://twitter.com/atefeh heidari/status/1007411884167921664</td>\n",
              "    </tr>\n",
              "    <tr>\n",
              "      <th>2</th>\n",
              "      <td>با اعدام مخالفم \\n\\nکاش راهکاری برای نابودی و انقراض اخوند و مذهبی متعصب جنایتکار و مفسدان و خائنان سیاسی .اقتصادی و اجتماعی پیدا میشد \\nمانند \\nسقوط شهاب سنگ در حوزه علمیه .پایگاه بسیج که خدا مسئول شاخته شود</td>\n",
              "      <td>1</td>\n",
              "      <td>0.0</td>\n",
              "      <td>1.0</td>\n",
              "      <td>https://twitter.com/fariborz c/status/1012485751181922304</td>\n",
              "    </tr>\n",
              "    <tr>\n",
              "      <th>3</th>\n",
              "      <td>دونوع آدم داریم : یکی اونکه هیچی به کیرش نیست و از هفت دولت آزاده؛ یکی هم اونکه همه چی به کیرشه و تازه چیزایی که واسه دسته اول مهم نیست هم به کیرش میگیره و کلا آدم کسخلیه و هیچوقت تو هیچ سگدونی‌ای هیچ گهی نمیشه، جزو دسته دوم نباشید:*</td>\n",
              "      <td>1</td>\n",
              "      <td>0.0</td>\n",
              "      <td>0.0</td>\n",
              "      <td>https://twitter.com/llil ili lill/status/1019008718837571584</td>\n",
              "    </tr>\n",
              "    <tr>\n",
              "      <th>4</th>\n",
              "      <td>هيچ زنداني بدتر از ،دختر بودن، نيست....</td>\n",
              "      <td>1</td>\n",
              "      <td>0.0</td>\n",
              "      <td>0.0</td>\n",
              "      <td>https://twitter.com/virgoOoOol/status/1023357260955889665</td>\n",
              "    </tr>\n",
              "    <tr>\n",
              "      <th>5</th>\n",
              "      <td>فرمایشات شما همه درست اما خمینی چنتا جن داشت که ملت اینطوری خام او شدند ملتی که همه چیز داشتند و یهو مث دیوونه ها ریختن تو خیابون و طرفدار اوشدند، شماانجا نبودید مردم واقعا عقل از کف داده بودند</td>\n",
              "      <td>1</td>\n",
              "      <td>0.0</td>\n",
              "      <td>0.0</td>\n",
              "      <td>https://twitter.com/nina22022743/status/1099458631051882496</td>\n",
              "    </tr>\n",
              "    <tr>\n",
              "      <th>6</th>\n",
              "      <td>بچه ها بابام هیچی لوازم ارایش نیورده واقعا دلم میخواد گریه کنم لعنتی من ۳شب خواب لوازم ارایش جدیدمو ندیدم که تو اینجوری کیرم کنی</td>\n",
              "      <td>1</td>\n",
              "      <td>0.0</td>\n",
              "      <td>1.0</td>\n",
              "      <td>https://twitter.com/dokhtarposaydon/status/1132073670187388928</td>\n",
              "    </tr>\n",
              "    <tr>\n",
              "      <th>7</th>\n",
              "      <td>یه مشت دکتر کسخل رو تویتر به من پیشنهاد میده فالو کنم!\\n\\nدیوس من یه روزه اکانت ساختم، چطوری فهمیدی؟\\nاگه دنبال این سایکو ها بودم که نمیومدم تویتر،  همون تو زندگی عادی داشتمشون که!</td>\n",
              "      <td>0</td>\n",
              "      <td>1.0</td>\n",
              "      <td>1.0</td>\n",
              "      <td>https://twitter.com/    mOvOm    /status/1338997179399155712</td>\n",
              "    </tr>\n",
              "    <tr>\n",
              "      <th>8</th>\n",
              "      <td>وقتی رئیس ملت میگه واردات واکسن خارجی(علیرغم دستور نایب امام زمان عج ) ضرورت است، از مردم ساده لوحی که بهش رای دادن چه انتظاری داریم؟!</td>\n",
              "      <td>0</td>\n",
              "      <td>1.0</td>\n",
              "      <td>0.0</td>\n",
              "      <td>https://twitter.com/amir khazzaei69/status/1353492712671084545</td>\n",
              "    </tr>\n",
              "    <tr>\n",
              "      <th>9</th>\n",
              "      <td>قدرت گاییدن هر زن جنده ای رو دارم.</td>\n",
              "      <td>0</td>\n",
              "      <td>1.0</td>\n",
              "      <td>0.0</td>\n",
              "      <td>https://twitter.com/4m1r4m/status/1005237977595801600</td>\n",
              "    </tr>\n",
              "    <tr>\n",
              "      <th>10</th>\n",
              "      <td>شاپرک خیلی ناراحته که آتنا افشاگری کرده\\nخودش میگه خیلی افراد میدونستن من ایران نیستم که حکماً یکیشون مسیح علینژاده که میدونسته و ...\\nدم آتنا گرم وگرنه آبی از امثال مسیح گرم نمیشه و نخواهد شد\\nاز خواهرش هم نگم که ...\\nشما ببخشید که ریدید به باور مردم و از همه چی و همه کس مأیوس شدن</td>\n",
              "      <td>0</td>\n",
              "      <td>1.0</td>\n",
              "      <td>0.0</td>\n",
              "      <td>https://twitter.com/ShahinSartipi/status/1016834239936032774</td>\n",
              "    </tr>\n",
              "    <tr>\n",
              "      <th>11</th>\n",
              "      <td>وضع عرزشی و اصلاحطلب جماعت که معلومه،خودفروخته ان یا شستشوی مغزی شده ن.اما از طرفدارای پادشاهی هستن که برای  زانیار مرادی و  لقمان مرادی هشتگ زدن و  نه به اعدام گفتن.برای  رامین حسین پناهی هم به جز افراطیاشون که مشکوک به سایبری بودن هستن،خیلیاشون توییت زدن و بچه ها رو تنها نذاشتن</td>\n",
              "      <td>0</td>\n",
              "      <td>1.0</td>\n",
              "      <td>1.0</td>\n",
              "      <td>https://twitter.com/dozakhrafat/status/1037852745418588160</td>\n",
              "    </tr>\n",
              "    <tr>\n",
              "      <th>12</th>\n",
              "      <td>99/9 درصد از ماه پیش خودمون فکر میکنیم جمهوری اسلامی خودش از بین میره و نیازی نیست اقدامی کنیم اون یک دهم درصد هم که چنین عقیده ای ندارن بخاطر حماقت بقیه یا گوشه زندانن یا اعدام شدن\\nماهم منتظریم طناب دار بزودی سراغمون بیاد چون از بس گشاد تشریف داریم حاضر به هیچ تغییری نیستیم</td>\n",
              "      <td>0</td>\n",
              "      <td>1.0</td>\n",
              "      <td>0.0</td>\n",
              "      <td>https://twitter.com/cheragh35/status/1050898713550483456</td>\n",
              "    </tr>\n",
              "    <tr>\n",
              "      <th>13</th>\n",
              "      <td>بچه ها انقدر این زاخارا و پلشتای اینساگرامُ نیارید اینجا \\nممنونتون میشم \\nاومدیم توییتر که اینارو نبینیم شمام هی اپلود میکنید</td>\n",
              "      <td>0</td>\n",
              "      <td>1.0</td>\n",
              "      <td>0.0</td>\n",
              "      <td>https://twitter.com/saeidbelmont/status/1091486114278502400</td>\n",
              "    </tr>\n",
              "    <tr>\n",
              "      <th>14</th>\n",
              "      <td>با من بی‌کس تنها شده یارا تو بمان\\nهمه رفتند از این خانه خدا را تو بمان</td>\n",
              "      <td>0</td>\n",
              "      <td>NaN</td>\n",
              "      <td>0.0</td>\n",
              "      <td>https://twitter.com/doctortheplague/status/1146206897588133888</td>\n",
              "    </tr>\n",
              "  </tbody>\n",
              "</table>\n",
              "</div>"
            ],
            "text/plain": [
              "                                                                                                                                                                                                                                                                                          text  ...                                                            link\n",
              "0                                                                                                                                                                                                                 بچه های عزیز این کشتزار منو بلاک کرده یکی که دوست داره نظر منو بهش منشن کنه.  ...         https://twitter.com/DrErovay/status/1249849840453980161\n",
              "1     سیاسیون محترم از  نمایندگان گرفته تا  شهرداران برخی  نواحی در مناطق شهری و...\\nچرافکر میکنید پیام  تبریک و  تسلیت شما مهمه برای مردم؟\\nبه مدیران رسانه ها با کلی افاده چنین پیام هایی ارسال میکنید که پوشش بدهند!\\nخواهشا درک کنید که پیام تبریک و تسلیت شما دردی از مردم دوا نخواهد کرد  ...   https://twitter.com/atefeh heidari/status/1007411884167921664\n",
              "2                                                                             با اعدام مخالفم \\n\\nکاش راهکاری برای نابودی و انقراض اخوند و مذهبی متعصب جنایتکار و مفسدان و خائنان سیاسی .اقتصادی و اجتماعی پیدا میشد \\nمانند \\nسقوط شهاب سنگ در حوزه علمیه .پایگاه بسیج که خدا مسئول شاخته شود  ...       https://twitter.com/fariborz c/status/1012485751181922304\n",
              "3                                                    دونوع آدم داریم : یکی اونکه هیچی به کیرش نیست و از هفت دولت آزاده؛ یکی هم اونکه همه چی به کیرشه و تازه چیزایی که واسه دسته اول مهم نیست هم به کیرش میگیره و کلا آدم کسخلیه و هیچوقت تو هیچ سگدونی‌ای هیچ گهی نمیشه، جزو دسته دوم نباشید:*  ...    https://twitter.com/llil ili lill/status/1019008718837571584\n",
              "4                                                                                                                                                                                                                                                      هيچ زنداني بدتر از ،دختر بودن، نيست....  ...       https://twitter.com/virgoOoOol/status/1023357260955889665\n",
              "5                                                                                            فرمایشات شما همه درست اما خمینی چنتا جن داشت که ملت اینطوری خام او شدند ملتی که همه چیز داشتند و یهو مث دیوونه ها ریختن تو خیابون و طرفدار اوشدند، شماانجا نبودید مردم واقعا عقل از کف داده بودند  ...     https://twitter.com/nina22022743/status/1099458631051882496\n",
              "6                                                                                                                                                             بچه ها بابام هیچی لوازم ارایش نیورده واقعا دلم میخواد گریه کنم لعنتی من ۳شب خواب لوازم ارایش جدیدمو ندیدم که تو اینجوری کیرم کنی  ...  https://twitter.com/dokhtarposaydon/status/1132073670187388928\n",
              "7                                                                                                         یه مشت دکتر کسخل رو تویتر به من پیشنهاد میده فالو کنم!\\n\\nدیوس من یه روزه اکانت ساختم، چطوری فهمیدی؟\\nاگه دنبال این سایکو ها بودم که نمیومدم تویتر،  همون تو زندگی عادی داشتمشون که!  ...    https://twitter.com/    mOvOm    /status/1338997179399155712\n",
              "8                                                                                                                                                       وقتی رئیس ملت میگه واردات واکسن خارجی(علیرغم دستور نایب امام زمان عج ) ضرورت است، از مردم ساده لوحی که بهش رای دادن چه انتظاری داریم؟!  ...  https://twitter.com/amir khazzaei69/status/1353492712671084545\n",
              "9                                                                                                                                                                                                                                                           قدرت گاییدن هر زن جنده ای رو دارم.  ...           https://twitter.com/4m1r4m/status/1005237977595801600\n",
              "10  شاپرک خیلی ناراحته که آتنا افشاگری کرده\\nخودش میگه خیلی افراد میدونستن من ایران نیستم که حکماً یکیشون مسیح علینژاده که میدونسته و ...\\nدم آتنا گرم وگرنه آبی از امثال مسیح گرم نمیشه و نخواهد شد\\nاز خواهرش هم نگم که ...\\nشما ببخشید که ریدید به باور مردم و از همه چی و همه کس مأیوس شدن  ...    https://twitter.com/ShahinSartipi/status/1016834239936032774\n",
              "11    وضع عرزشی و اصلاحطلب جماعت که معلومه،خودفروخته ان یا شستشوی مغزی شده ن.اما از طرفدارای پادشاهی هستن که برای  زانیار مرادی و  لقمان مرادی هشتگ زدن و  نه به اعدام گفتن.برای  رامین حسین پناهی هم به جز افراطیاشون که مشکوک به سایبری بودن هستن،خیلیاشون توییت زدن و بچه ها رو تنها نذاشتن  ...      https://twitter.com/dozakhrafat/status/1037852745418588160\n",
              "12        99/9 درصد از ماه پیش خودمون فکر میکنیم جمهوری اسلامی خودش از بین میره و نیازی نیست اقدامی کنیم اون یک دهم درصد هم که چنین عقیده ای ندارن بخاطر حماقت بقیه یا گوشه زندانن یا اعدام شدن\\nماهم منتظریم طناب دار بزودی سراغمون بیاد چون از بس گشاد تشریف داریم حاضر به هیچ تغییری نیستیم  ...        https://twitter.com/cheragh35/status/1050898713550483456\n",
              "13                                                                                                                                                              بچه ها انقدر این زاخارا و پلشتای اینساگرامُ نیارید اینجا \\nممنونتون میشم \\nاومدیم توییتر که اینارو نبینیم شمام هی اپلود میکنید  ...     https://twitter.com/saeidbelmont/status/1091486114278502400\n",
              "14                                                                                                                                                                                                                     با من بی‌کس تنها شده یارا تو بمان\\nهمه رفتند از این خانه خدا را تو بمان  ...  https://twitter.com/doctortheplague/status/1146206897588133888\n",
              "\n",
              "[15 rows x 5 columns]"
            ]
          },
          "metadata": {
            "tags": []
          },
          "execution_count": 67
        }
      ]
    },
    {
      "cell_type": "code",
      "metadata": {
        "id": "p9hicdggxIYG"
      },
      "source": [
        "raw_df_2['ref2'] = raw_df_2.apply(\n",
        "    lambda row: row['ref1'] if np.isnan(row['ref2']) else row['ref2'],\n",
        "    axis=1\n",
        ")"
      ],
      "execution_count": null,
      "outputs": []
    },
    {
      "cell_type": "code",
      "metadata": {
        "colab": {
          "base_uri": "https://localhost:8080/",
          "height": 1000
        },
        "id": "wODE-Rcex1Nz",
        "outputId": "6cd4bfde-b863-46ec-f201-c8e67979ad8c"
      },
      "source": [
        "raw_df_2.head(20)"
      ],
      "execution_count": null,
      "outputs": [
        {
          "output_type": "execute_result",
          "data": {
            "text/html": [
              "<div>\n",
              "<style scoped>\n",
              "    .dataframe tbody tr th:only-of-type {\n",
              "        vertical-align: middle;\n",
              "    }\n",
              "\n",
              "    .dataframe tbody tr th {\n",
              "        vertical-align: top;\n",
              "    }\n",
              "\n",
              "    .dataframe thead th {\n",
              "        text-align: right;\n",
              "    }\n",
              "</style>\n",
              "<table border=\"1\" class=\"dataframe\">\n",
              "  <thead>\n",
              "    <tr style=\"text-align: right;\">\n",
              "      <th></th>\n",
              "      <th>text</th>\n",
              "      <th>ref1</th>\n",
              "      <th>ref2</th>\n",
              "      <th>ref3</th>\n",
              "      <th>link</th>\n",
              "    </tr>\n",
              "  </thead>\n",
              "  <tbody>\n",
              "    <tr>\n",
              "      <th>0</th>\n",
              "      <td>بچه های عزیز این کشتزار منو بلاک کرده یکی که دوست داره نظر منو بهش منشن کنه.</td>\n",
              "      <td>1</td>\n",
              "      <td>0.0</td>\n",
              "      <td>1.0</td>\n",
              "      <td>https://twitter.com/DrErovay/status/1249849840453980161</td>\n",
              "    </tr>\n",
              "    <tr>\n",
              "      <th>1</th>\n",
              "      <td>سیاسیون محترم از  نمایندگان گرفته تا  شهرداران برخی  نواحی در مناطق شهری و...\\nچرافکر میکنید پیام  تبریک و  تسلیت شما مهمه برای مردم؟\\nبه مدیران رسانه ها با کلی افاده چنین پیام هایی ارسال میکنید که پوشش بدهند!\\nخواهشا درک کنید که پیام تبریک و تسلیت شما دردی از مردم دوا نخواهد کرد</td>\n",
              "      <td>0</td>\n",
              "      <td>0.0</td>\n",
              "      <td>0.0</td>\n",
              "      <td>https://twitter.com/atefeh heidari/status/1007411884167921664</td>\n",
              "    </tr>\n",
              "    <tr>\n",
              "      <th>2</th>\n",
              "      <td>با اعدام مخالفم \\n\\nکاش راهکاری برای نابودی و انقراض اخوند و مذهبی متعصب جنایتکار و مفسدان و خائنان سیاسی .اقتصادی و اجتماعی پیدا میشد \\nمانند \\nسقوط شهاب سنگ در حوزه علمیه .پایگاه بسیج که خدا مسئول شاخته شود</td>\n",
              "      <td>1</td>\n",
              "      <td>0.0</td>\n",
              "      <td>1.0</td>\n",
              "      <td>https://twitter.com/fariborz c/status/1012485751181922304</td>\n",
              "    </tr>\n",
              "    <tr>\n",
              "      <th>3</th>\n",
              "      <td>دونوع آدم داریم : یکی اونکه هیچی به کیرش نیست و از هفت دولت آزاده؛ یکی هم اونکه همه چی به کیرشه و تازه چیزایی که واسه دسته اول مهم نیست هم به کیرش میگیره و کلا آدم کسخلیه و هیچوقت تو هیچ سگدونی‌ای هیچ گهی نمیشه، جزو دسته دوم نباشید:*</td>\n",
              "      <td>1</td>\n",
              "      <td>0.0</td>\n",
              "      <td>0.0</td>\n",
              "      <td>https://twitter.com/llil ili lill/status/1019008718837571584</td>\n",
              "    </tr>\n",
              "    <tr>\n",
              "      <th>4</th>\n",
              "      <td>هيچ زنداني بدتر از ،دختر بودن، نيست....</td>\n",
              "      <td>1</td>\n",
              "      <td>0.0</td>\n",
              "      <td>0.0</td>\n",
              "      <td>https://twitter.com/virgoOoOol/status/1023357260955889665</td>\n",
              "    </tr>\n",
              "    <tr>\n",
              "      <th>5</th>\n",
              "      <td>فرمایشات شما همه درست اما خمینی چنتا جن داشت که ملت اینطوری خام او شدند ملتی که همه چیز داشتند و یهو مث دیوونه ها ریختن تو خیابون و طرفدار اوشدند، شماانجا نبودید مردم واقعا عقل از کف داده بودند</td>\n",
              "      <td>1</td>\n",
              "      <td>0.0</td>\n",
              "      <td>0.0</td>\n",
              "      <td>https://twitter.com/nina22022743/status/1099458631051882496</td>\n",
              "    </tr>\n",
              "    <tr>\n",
              "      <th>6</th>\n",
              "      <td>بچه ها بابام هیچی لوازم ارایش نیورده واقعا دلم میخواد گریه کنم لعنتی من ۳شب خواب لوازم ارایش جدیدمو ندیدم که تو اینجوری کیرم کنی</td>\n",
              "      <td>1</td>\n",
              "      <td>0.0</td>\n",
              "      <td>1.0</td>\n",
              "      <td>https://twitter.com/dokhtarposaydon/status/1132073670187388928</td>\n",
              "    </tr>\n",
              "    <tr>\n",
              "      <th>7</th>\n",
              "      <td>یه مشت دکتر کسخل رو تویتر به من پیشنهاد میده فالو کنم!\\n\\nدیوس من یه روزه اکانت ساختم، چطوری فهمیدی؟\\nاگه دنبال این سایکو ها بودم که نمیومدم تویتر،  همون تو زندگی عادی داشتمشون که!</td>\n",
              "      <td>0</td>\n",
              "      <td>1.0</td>\n",
              "      <td>1.0</td>\n",
              "      <td>https://twitter.com/    mOvOm    /status/1338997179399155712</td>\n",
              "    </tr>\n",
              "    <tr>\n",
              "      <th>8</th>\n",
              "      <td>وقتی رئیس ملت میگه واردات واکسن خارجی(علیرغم دستور نایب امام زمان عج ) ضرورت است، از مردم ساده لوحی که بهش رای دادن چه انتظاری داریم؟!</td>\n",
              "      <td>0</td>\n",
              "      <td>1.0</td>\n",
              "      <td>0.0</td>\n",
              "      <td>https://twitter.com/amir khazzaei69/status/1353492712671084545</td>\n",
              "    </tr>\n",
              "    <tr>\n",
              "      <th>9</th>\n",
              "      <td>قدرت گاییدن هر زن جنده ای رو دارم.</td>\n",
              "      <td>0</td>\n",
              "      <td>1.0</td>\n",
              "      <td>0.0</td>\n",
              "      <td>https://twitter.com/4m1r4m/status/1005237977595801600</td>\n",
              "    </tr>\n",
              "    <tr>\n",
              "      <th>10</th>\n",
              "      <td>شاپرک خیلی ناراحته که آتنا افشاگری کرده\\nخودش میگه خیلی افراد میدونستن من ایران نیستم که حکماً یکیشون مسیح علینژاده که میدونسته و ...\\nدم آتنا گرم وگرنه آبی از امثال مسیح گرم نمیشه و نخواهد شد\\nاز خواهرش هم نگم که ...\\nشما ببخشید که ریدید به باور مردم و از همه چی و همه کس مأیوس شدن</td>\n",
              "      <td>0</td>\n",
              "      <td>1.0</td>\n",
              "      <td>0.0</td>\n",
              "      <td>https://twitter.com/ShahinSartipi/status/1016834239936032774</td>\n",
              "    </tr>\n",
              "    <tr>\n",
              "      <th>11</th>\n",
              "      <td>وضع عرزشی و اصلاحطلب جماعت که معلومه،خودفروخته ان یا شستشوی مغزی شده ن.اما از طرفدارای پادشاهی هستن که برای  زانیار مرادی و  لقمان مرادی هشتگ زدن و  نه به اعدام گفتن.برای  رامین حسین پناهی هم به جز افراطیاشون که مشکوک به سایبری بودن هستن،خیلیاشون توییت زدن و بچه ها رو تنها نذاشتن</td>\n",
              "      <td>0</td>\n",
              "      <td>1.0</td>\n",
              "      <td>1.0</td>\n",
              "      <td>https://twitter.com/dozakhrafat/status/1037852745418588160</td>\n",
              "    </tr>\n",
              "    <tr>\n",
              "      <th>12</th>\n",
              "      <td>99/9 درصد از ماه پیش خودمون فکر میکنیم جمهوری اسلامی خودش از بین میره و نیازی نیست اقدامی کنیم اون یک دهم درصد هم که چنین عقیده ای ندارن بخاطر حماقت بقیه یا گوشه زندانن یا اعدام شدن\\nماهم منتظریم طناب دار بزودی سراغمون بیاد چون از بس گشاد تشریف داریم حاضر به هیچ تغییری نیستیم</td>\n",
              "      <td>0</td>\n",
              "      <td>1.0</td>\n",
              "      <td>0.0</td>\n",
              "      <td>https://twitter.com/cheragh35/status/1050898713550483456</td>\n",
              "    </tr>\n",
              "    <tr>\n",
              "      <th>13</th>\n",
              "      <td>بچه ها انقدر این زاخارا و پلشتای اینساگرامُ نیارید اینجا \\nممنونتون میشم \\nاومدیم توییتر که اینارو نبینیم شمام هی اپلود میکنید</td>\n",
              "      <td>0</td>\n",
              "      <td>1.0</td>\n",
              "      <td>0.0</td>\n",
              "      <td>https://twitter.com/saeidbelmont/status/1091486114278502400</td>\n",
              "    </tr>\n",
              "    <tr>\n",
              "      <th>14</th>\n",
              "      <td>با من بی‌کس تنها شده یارا تو بمان\\nهمه رفتند از این خانه خدا را تو بمان</td>\n",
              "      <td>0</td>\n",
              "      <td>0.0</td>\n",
              "      <td>0.0</td>\n",
              "      <td>https://twitter.com/doctortheplague/status/1146206897588133888</td>\n",
              "    </tr>\n",
              "    <tr>\n",
              "      <th>15</th>\n",
              "      <td>واقعاً دردناکه این تصاویر،مسئله مهاجرین بزرگترین چالش پیش روی کشورهای بزرگ غربی است و این مشکل هر روز بزرگتر و پیچیده تر میشه،اما این شکل برخورد دولت آمریکا شرم‌آوره،ترامپ دیگه آبرویی برای آمریکا نگذاشته..</td>\n",
              "      <td>0</td>\n",
              "      <td>0.0</td>\n",
              "      <td>0.0</td>\n",
              "      <td>https://twitter.com/MH Mousavi67/status/1146206867707838465</td>\n",
              "    </tr>\n",
              "    <tr>\n",
              "      <th>16</th>\n",
              "      <td>عموم فقط مردها هستن \\n خاک تو سر مملکت</td>\n",
              "      <td>1</td>\n",
              "      <td>1.0</td>\n",
              "      <td>1.0</td>\n",
              "      <td>https://twitter.com/farhadetoon/status/1146206817913102338</td>\n",
              "    </tr>\n",
              "    <tr>\n",
              "      <th>17</th>\n",
              "      <td>میخوابیدیم مثل آدم ۵ بیدار میشدیم دیگه!!</td>\n",
              "      <td>0</td>\n",
              "      <td>0.0</td>\n",
              "      <td>0.0</td>\n",
              "      <td>https://twitter.com/dami him/status/1146206630599639040</td>\n",
              "    </tr>\n",
              "    <tr>\n",
              "      <th>18</th>\n",
              "      <td>\"نرم افزار\" شبیه سکسٍ . بهتره وقتی رایگان باشه. \\n free software\\n opensource \\n freedom</td>\n",
              "      <td>0</td>\n",
              "      <td>0.0</td>\n",
              "      <td>0.0</td>\n",
              "      <td>https://twitter.com/Arman tms/status/1146206499745611776</td>\n",
              "    </tr>\n",
              "    <tr>\n",
              "      <th>19</th>\n",
              "      <td>انسانیت را از انسان بگیرید به هر وحشتناکی عادت میکند.درست مثل مردم ما\\n Mullahs are Puppets4Putin\\n RussiaColonizedIran \\n ایران مستعمره روسیه\\n ملا پوتین اصولگرا دیگه تمومه ماجرا \\n علی عبدالرضایی صدای فرودستان</td>\n",
              "      <td>1</td>\n",
              "      <td>1.0</td>\n",
              "      <td>1.0</td>\n",
              "      <td>https://twitter.com/IA70ZAMYAD/status/1146206496017043456</td>\n",
              "    </tr>\n",
              "  </tbody>\n",
              "</table>\n",
              "</div>"
            ],
            "text/plain": [
              "                                                                                                                                                                                                                                                                                          text  ...                                                            link\n",
              "0                                                                                                                                                                                                                 بچه های عزیز این کشتزار منو بلاک کرده یکی که دوست داره نظر منو بهش منشن کنه.  ...         https://twitter.com/DrErovay/status/1249849840453980161\n",
              "1     سیاسیون محترم از  نمایندگان گرفته تا  شهرداران برخی  نواحی در مناطق شهری و...\\nچرافکر میکنید پیام  تبریک و  تسلیت شما مهمه برای مردم؟\\nبه مدیران رسانه ها با کلی افاده چنین پیام هایی ارسال میکنید که پوشش بدهند!\\nخواهشا درک کنید که پیام تبریک و تسلیت شما دردی از مردم دوا نخواهد کرد  ...   https://twitter.com/atefeh heidari/status/1007411884167921664\n",
              "2                                                                             با اعدام مخالفم \\n\\nکاش راهکاری برای نابودی و انقراض اخوند و مذهبی متعصب جنایتکار و مفسدان و خائنان سیاسی .اقتصادی و اجتماعی پیدا میشد \\nمانند \\nسقوط شهاب سنگ در حوزه علمیه .پایگاه بسیج که خدا مسئول شاخته شود  ...       https://twitter.com/fariborz c/status/1012485751181922304\n",
              "3                                                    دونوع آدم داریم : یکی اونکه هیچی به کیرش نیست و از هفت دولت آزاده؛ یکی هم اونکه همه چی به کیرشه و تازه چیزایی که واسه دسته اول مهم نیست هم به کیرش میگیره و کلا آدم کسخلیه و هیچوقت تو هیچ سگدونی‌ای هیچ گهی نمیشه، جزو دسته دوم نباشید:*  ...    https://twitter.com/llil ili lill/status/1019008718837571584\n",
              "4                                                                                                                                                                                                                                                      هيچ زنداني بدتر از ،دختر بودن، نيست....  ...       https://twitter.com/virgoOoOol/status/1023357260955889665\n",
              "5                                                                                            فرمایشات شما همه درست اما خمینی چنتا جن داشت که ملت اینطوری خام او شدند ملتی که همه چیز داشتند و یهو مث دیوونه ها ریختن تو خیابون و طرفدار اوشدند، شماانجا نبودید مردم واقعا عقل از کف داده بودند  ...     https://twitter.com/nina22022743/status/1099458631051882496\n",
              "6                                                                                                                                                             بچه ها بابام هیچی لوازم ارایش نیورده واقعا دلم میخواد گریه کنم لعنتی من ۳شب خواب لوازم ارایش جدیدمو ندیدم که تو اینجوری کیرم کنی  ...  https://twitter.com/dokhtarposaydon/status/1132073670187388928\n",
              "7                                                                                                         یه مشت دکتر کسخل رو تویتر به من پیشنهاد میده فالو کنم!\\n\\nدیوس من یه روزه اکانت ساختم، چطوری فهمیدی؟\\nاگه دنبال این سایکو ها بودم که نمیومدم تویتر،  همون تو زندگی عادی داشتمشون که!  ...    https://twitter.com/    mOvOm    /status/1338997179399155712\n",
              "8                                                                                                                                                       وقتی رئیس ملت میگه واردات واکسن خارجی(علیرغم دستور نایب امام زمان عج ) ضرورت است، از مردم ساده لوحی که بهش رای دادن چه انتظاری داریم؟!  ...  https://twitter.com/amir khazzaei69/status/1353492712671084545\n",
              "9                                                                                                                                                                                                                                                           قدرت گاییدن هر زن جنده ای رو دارم.  ...           https://twitter.com/4m1r4m/status/1005237977595801600\n",
              "10  شاپرک خیلی ناراحته که آتنا افشاگری کرده\\nخودش میگه خیلی افراد میدونستن من ایران نیستم که حکماً یکیشون مسیح علینژاده که میدونسته و ...\\nدم آتنا گرم وگرنه آبی از امثال مسیح گرم نمیشه و نخواهد شد\\nاز خواهرش هم نگم که ...\\nشما ببخشید که ریدید به باور مردم و از همه چی و همه کس مأیوس شدن  ...    https://twitter.com/ShahinSartipi/status/1016834239936032774\n",
              "11    وضع عرزشی و اصلاحطلب جماعت که معلومه،خودفروخته ان یا شستشوی مغزی شده ن.اما از طرفدارای پادشاهی هستن که برای  زانیار مرادی و  لقمان مرادی هشتگ زدن و  نه به اعدام گفتن.برای  رامین حسین پناهی هم به جز افراطیاشون که مشکوک به سایبری بودن هستن،خیلیاشون توییت زدن و بچه ها رو تنها نذاشتن  ...      https://twitter.com/dozakhrafat/status/1037852745418588160\n",
              "12        99/9 درصد از ماه پیش خودمون فکر میکنیم جمهوری اسلامی خودش از بین میره و نیازی نیست اقدامی کنیم اون یک دهم درصد هم که چنین عقیده ای ندارن بخاطر حماقت بقیه یا گوشه زندانن یا اعدام شدن\\nماهم منتظریم طناب دار بزودی سراغمون بیاد چون از بس گشاد تشریف داریم حاضر به هیچ تغییری نیستیم  ...        https://twitter.com/cheragh35/status/1050898713550483456\n",
              "13                                                                                                                                                              بچه ها انقدر این زاخارا و پلشتای اینساگرامُ نیارید اینجا \\nممنونتون میشم \\nاومدیم توییتر که اینارو نبینیم شمام هی اپلود میکنید  ...     https://twitter.com/saeidbelmont/status/1091486114278502400\n",
              "14                                                                                                                                                                                                                     با من بی‌کس تنها شده یارا تو بمان\\nهمه رفتند از این خانه خدا را تو بمان  ...  https://twitter.com/doctortheplague/status/1146206897588133888\n",
              "15                                                                               واقعاً دردناکه این تصاویر،مسئله مهاجرین بزرگترین چالش پیش روی کشورهای بزرگ غربی است و این مشکل هر روز بزرگتر و پیچیده تر میشه،اما این شکل برخورد دولت آمریکا شرم‌آوره،ترامپ دیگه آبرویی برای آمریکا نگذاشته..  ...     https://twitter.com/MH Mousavi67/status/1146206867707838465\n",
              "16                                                                                                                                                                                                                                                      عموم فقط مردها هستن \\n خاک تو سر مملکت  ...      https://twitter.com/farhadetoon/status/1146206817913102338\n",
              "17                                                                                                                                                                                                                                                    میخوابیدیم مثل آدم ۵ بیدار میشدیم دیگه!!  ...         https://twitter.com/dami him/status/1146206630599639040\n",
              "18                                                                                                                                                                                                    \"نرم افزار\" شبیه سکسٍ . بهتره وقتی رایگان باشه. \\n free software\\n opensource \\n freedom  ...        https://twitter.com/Arman tms/status/1146206499745611776\n",
              "19                                                                         انسانیت را از انسان بگیرید به هر وحشتناکی عادت میکند.درست مثل مردم ما\\n Mullahs are Puppets4Putin\\n RussiaColonizedIran \\n ایران مستعمره روسیه\\n ملا پوتین اصولگرا دیگه تمومه ماجرا \\n علی عبدالرضایی صدای فرودستان  ...       https://twitter.com/IA70ZAMYAD/status/1146206496017043456\n",
              "\n",
              "[20 rows x 5 columns]"
            ]
          },
          "metadata": {
            "tags": []
          },
          "execution_count": 70
        }
      ]
    },
    {
      "cell_type": "code",
      "metadata": {
        "colab": {
          "resources": {
            "http://localhost:8080/nbextensions/google.colab/files.js": {
              "data": "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",
              "ok": true,
              "headers": [
                [
                  "content-type",
                  "application/javascript"
                ]
              ],
              "status": 200,
              "status_text": ""
            }
          },
          "base_uri": "https://localhost:8080/",
          "height": 90
        },
        "id": "Ovg2AoT6x_X0",
        "outputId": "723e67ed-23fd-4d3a-97d8-ad957c195630"
      },
      "source": [
        "from google.colab import files\n",
        "uploaded = files.upload()"
      ],
      "execution_count": null,
      "outputs": [
        {
          "output_type": "display_data",
          "data": {
            "text/html": [
              "\n",
              "     <input type=\"file\" id=\"files-1f79cedf-9c7c-47bb-b0ac-cc6435433af5\" name=\"files[]\" multiple disabled\n",
              "        style=\"border:none\" />\n",
              "     <output id=\"result-1f79cedf-9c7c-47bb-b0ac-cc6435433af5\">\n",
              "      Upload widget is only available when the cell has been executed in the\n",
              "      current browser session. Please rerun this cell to enable.\n",
              "      </output>\n",
              "      <script src=\"/nbextensions/google.colab/files.js\"></script> "
            ],
            "text/plain": [
              "<IPython.core.display.HTML object>"
            ]
          },
          "metadata": {
            "tags": []
          }
        },
        {
          "output_type": "stream",
          "text": [
            "Saving hate datasets_final_2.xlsx to hate datasets_final_2.xlsx\n"
          ],
          "name": "stdout"
        }
      ]
    },
    {
      "cell_type": "code",
      "metadata": {
        "id": "WDbKfDBE3h6n"
      },
      "source": [
        ""
      ],
      "execution_count": null,
      "outputs": []
    },
    {
      "cell_type": "code",
      "metadata": {
        "id": "t_SyD8dv3p6C"
      },
      "source": [
        "xls = pd.ExcelFile(io.BytesIO(uploaded[\"hate datasets_final_2.xlsx\"]))\n",
        "df1 = pd.read_excel(xls, 'Sheet1')\n",
        "df2 = pd.read_excel(xls, 'Sheet2')"
      ],
      "execution_count": null,
      "outputs": []
    },
    {
      "cell_type": "code",
      "metadata": {
        "colab": {
          "base_uri": "https://localhost:8080/",
          "height": 306
        },
        "id": "c6Dj--Fy5Q6G",
        "outputId": "7f4dda34-ecb6-419e-d109-4537c9de9366"
      },
      "source": [
        "df1.head()"
      ],
      "execution_count": null,
      "outputs": [
        {
          "output_type": "execute_result",
          "data": {
            "text/html": [
              "<div>\n",
              "<style scoped>\n",
              "    .dataframe tbody tr th:only-of-type {\n",
              "        vertical-align: middle;\n",
              "    }\n",
              "\n",
              "    .dataframe tbody tr th {\n",
              "        vertical-align: top;\n",
              "    }\n",
              "\n",
              "    .dataframe thead th {\n",
              "        text-align: right;\n",
              "    }\n",
              "</style>\n",
              "<table border=\"1\" class=\"dataframe\">\n",
              "  <thead>\n",
              "    <tr style=\"text-align: right;\">\n",
              "      <th></th>\n",
              "      <th>text</th>\n",
              "      <th>ref1</th>\n",
              "      <th>ref2</th>\n",
              "      <th>ref3</th>\n",
              "      <th>link</th>\n",
              "    </tr>\n",
              "  </thead>\n",
              "  <tbody>\n",
              "    <tr>\n",
              "      <th>0</th>\n",
              "      <td>این مادرجنده رو هر جا دیدید ازش بپرسید زیر پنکه که جرت دادن خوب شدی یا نه</td>\n",
              "      <td>1.0</td>\n",
              "      <td>1</td>\n",
              "      <td>NaN</td>\n",
              "      <td>https://twitter.com/kaveh52/status/1313827917420355584</td>\n",
              "    </tr>\n",
              "    <tr>\n",
              "      <th>1</th>\n",
              "      <td>ترک خر رو چه به این گه خوریا برگرد به طویلت.</td>\n",
              "      <td>1.0</td>\n",
              "      <td>1</td>\n",
              "      <td>NaN</td>\n",
              "      <td>https://twitter.com/Dan_torke/status/1313565809457934337</td>\n",
              "    </tr>\n",
              "    <tr>\n",
              "      <th>2</th>\n",
              "      <td>خب جنگ ترک های خر با ارامنه ی نمیدونم چیچی به کجا رسید؟</td>\n",
              "      <td>1.0</td>\n",
              "      <td>1</td>\n",
              "      <td>NaN</td>\n",
              "      <td>https://twitter.com/denushhhh/status/1312039680070877185</td>\n",
              "    </tr>\n",
              "    <tr>\n",
              "      <th>3</th>\n",
              "      <td>یکی که \\nبرام قرمه سبزی بپزه\\nبره سرکار پول بیاره\\nاز سرکار اومد . مُشت و مالم بده\\nپاهامو بشوره\\nخریدای خونه رو بکنه\\nنون بگیره\\nچیـــــه؟Thinking face همونم نداریمPleading faceFrowning faceWeary face</td>\n",
              "      <td>0.0</td>\n",
              "      <td>0</td>\n",
              "      <td>NaN</td>\n",
              "      <td>https://twitter.com/Alaki89950006/status/1311560774154772481</td>\n",
              "    </tr>\n",
              "    <tr>\n",
              "      <th>4</th>\n",
              "      <td>این سعودی های احمق کی باید بفهمن ک با پول نمیشود غیرت ایرانی را شکست داد</td>\n",
              "      <td>0.0</td>\n",
              "      <td>1</td>\n",
              "      <td>1</td>\n",
              "      <td>https://twitter.com/basirat_1988/status/1312462231548821504</td>\n",
              "    </tr>\n",
              "  </tbody>\n",
              "</table>\n",
              "</div>"
            ],
            "text/plain": [
              "                                                                                                                                                                                                        text  ...                                                          link\n",
              "0                                                                                                                                  این مادرجنده رو هر جا دیدید ازش بپرسید زیر پنکه که جرت دادن خوب شدی یا نه  ...        https://twitter.com/kaveh52/status/1313827917420355584\n",
              "1                                                                                                                                                               ترک خر رو چه به این گه خوریا برگرد به طویلت.  ...      https://twitter.com/Dan_torke/status/1313565809457934337\n",
              "2                                                                                                                                                    خب جنگ ترک های خر با ارامنه ی نمیدونم چیچی به کجا رسید؟  ...      https://twitter.com/denushhhh/status/1312039680070877185\n",
              "3  یکی که \\nبرام قرمه سبزی بپزه\\nبره سرکار پول بیاره\\nاز سرکار اومد . مُشت و مالم بده\\nپاهامو بشوره\\nخریدای خونه رو بکنه\\nنون بگیره\\nچیـــــه؟Thinking face همونم نداریمPleading faceFrowning faceWeary face  ...  https://twitter.com/Alaki89950006/status/1311560774154772481\n",
              "4                                                                                                                                   این سعودی های احمق کی باید بفهمن ک با پول نمیشود غیرت ایرانی را شکست داد  ...   https://twitter.com/basirat_1988/status/1312462231548821504\n",
              "\n",
              "[5 rows x 5 columns]"
            ]
          },
          "metadata": {
            "tags": []
          },
          "execution_count": 80
        }
      ]
    },
    {
      "cell_type": "code",
      "metadata": {
        "colab": {
          "base_uri": "https://localhost:8080/",
          "height": 306
        },
        "id": "gYKSEVhM5RJf",
        "outputId": "5b76ea74-fdbf-4fdc-9562-dab1dc15b667"
      },
      "source": [
        "df2.head()"
      ],
      "execution_count": null,
      "outputs": [
        {
          "output_type": "execute_result",
          "data": {
            "text/html": [
              "<div>\n",
              "<style scoped>\n",
              "    .dataframe tbody tr th:only-of-type {\n",
              "        vertical-align: middle;\n",
              "    }\n",
              "\n",
              "    .dataframe tbody tr th {\n",
              "        vertical-align: top;\n",
              "    }\n",
              "\n",
              "    .dataframe thead th {\n",
              "        text-align: right;\n",
              "    }\n",
              "</style>\n",
              "<table border=\"1\" class=\"dataframe\">\n",
              "  <thead>\n",
              "    <tr style=\"text-align: right;\">\n",
              "      <th></th>\n",
              "      <th>text</th>\n",
              "      <th>ref1</th>\n",
              "      <th>ref2</th>\n",
              "      <th>ref3</th>\n",
              "      <th>link</th>\n",
              "    </tr>\n",
              "  </thead>\n",
              "  <tbody>\n",
              "    <tr>\n",
              "      <th>0</th>\n",
              "      <td>حروم زاده پیام داده تیزر تبلیغاتی میخاییم بسازیم\\nدست مزد خوبی داره\\nهستید؟\\nنوشتم کیر و بلاکش کردم</td>\n",
              "      <td>1.0</td>\n",
              "      <td>1.0</td>\n",
              "      <td>NaN</td>\n",
              "      <td>https://twitter.com/sowheyll/status/1158165716530581504</td>\n",
              "    </tr>\n",
              "    <tr>\n",
              "      <th>1</th>\n",
              "      <td>فکر میکنم منظور آن مرحوم از این جمله: چرا دگمت پنبه ای نیست؟ این بوده که: اصلا چرا دگمه داری؟ و روش نمیشده بگه طفلی.</td>\n",
              "      <td>0.0</td>\n",
              "      <td>0.0</td>\n",
              "      <td>NaN</td>\n",
              "      <td>https://twitter.com/moztar_2sr/status/1158165702991405056</td>\n",
              "    </tr>\n",
              "    <tr>\n",
              "      <th>2</th>\n",
              "      <td>مثل ی تیکه یخ شدم که توش زغال داغ یخ زده نگه میداره</td>\n",
              "      <td>0.0</td>\n",
              "      <td>0.0</td>\n",
              "      <td>NaN</td>\n",
              "      <td>https://twitter.com/raf_mzk/status/1158165610066403328</td>\n",
              "    </tr>\n",
              "    <tr>\n",
              "      <th>3</th>\n",
              "      <td>اگر قرار باشه بین ترکیب‌بندی و موضوع در نقاشی یکی رو تو اولویت قرار بدی کدومه؟</td>\n",
              "      <td>0.0</td>\n",
              "      <td>0.0</td>\n",
              "      <td>NaN</td>\n",
              "      <td>https://twitter.com/_WinSmith_/status/1158165568257757184</td>\n",
              "    </tr>\n",
              "    <tr>\n",
              "      <th>4</th>\n",
              "      <td>چرا موقعی که گفتن زلزله اومد من به ذهنم نرسید زنگ بزنم بعد چهار و نیم صبح یادم بیاد که چنین کاری رو باید انجام میدادم ؟! برا خودم متاسفم:(</td>\n",
              "      <td>0.0</td>\n",
              "      <td>0.0</td>\n",
              "      <td>NaN</td>\n",
              "      <td>https://twitter.com/sareegol/status/1158165524641210370</td>\n",
              "    </tr>\n",
              "  </tbody>\n",
              "</table>\n",
              "</div>"
            ],
            "text/plain": [
              "                                                                                                                                         text  ...                                                       link\n",
              "0                                         حروم زاده پیام داده تیزر تبلیغاتی میخاییم بسازیم\\nدست مزد خوبی داره\\nهستید؟\\nنوشتم کیر و بلاکش کردم  ...    https://twitter.com/sowheyll/status/1158165716530581504\n",
              "1                        فکر میکنم منظور آن مرحوم از این جمله: چرا دگمت پنبه ای نیست؟ این بوده که: اصلا چرا دگمه داری؟ و روش نمیشده بگه طفلی.  ...  https://twitter.com/moztar_2sr/status/1158165702991405056\n",
              "2                                                                                         مثل ی تیکه یخ شدم که توش زغال داغ یخ زده نگه میداره  ...     https://twitter.com/raf_mzk/status/1158165610066403328\n",
              "3                                                              اگر قرار باشه بین ترکیب‌بندی و موضوع در نقاشی یکی رو تو اولویت قرار بدی کدومه؟  ...  https://twitter.com/_WinSmith_/status/1158165568257757184\n",
              "4  چرا موقعی که گفتن زلزله اومد من به ذهنم نرسید زنگ بزنم بعد چهار و نیم صبح یادم بیاد که چنین کاری رو باید انجام میدادم ؟! برا خودم متاسفم:(  ...    https://twitter.com/sareegol/status/1158165524641210370\n",
              "\n",
              "[5 rows x 5 columns]"
            ]
          },
          "metadata": {
            "tags": []
          },
          "execution_count": 81
        }
      ]
    },
    {
      "cell_type": "code",
      "metadata": {
        "id": "be1n8mSs3uxf"
      },
      "source": [
        "df3 = df1.append(df2)"
      ],
      "execution_count": null,
      "outputs": []
    },
    {
      "cell_type": "code",
      "metadata": {
        "colab": {
          "base_uri": "https://localhost:8080/",
          "height": 306
        },
        "id": "C2arC4jK36TV",
        "outputId": "31567cab-3435-4b19-e9be-f3cbc5ad3b95"
      },
      "source": [
        "df3.head()"
      ],
      "execution_count": null,
      "outputs": [
        {
          "output_type": "execute_result",
          "data": {
            "text/html": [
              "<div>\n",
              "<style scoped>\n",
              "    .dataframe tbody tr th:only-of-type {\n",
              "        vertical-align: middle;\n",
              "    }\n",
              "\n",
              "    .dataframe tbody tr th {\n",
              "        vertical-align: top;\n",
              "    }\n",
              "\n",
              "    .dataframe thead th {\n",
              "        text-align: right;\n",
              "    }\n",
              "</style>\n",
              "<table border=\"1\" class=\"dataframe\">\n",
              "  <thead>\n",
              "    <tr style=\"text-align: right;\">\n",
              "      <th></th>\n",
              "      <th>text</th>\n",
              "      <th>ref1</th>\n",
              "      <th>ref2</th>\n",
              "      <th>ref3</th>\n",
              "      <th>link</th>\n",
              "    </tr>\n",
              "  </thead>\n",
              "  <tbody>\n",
              "    <tr>\n",
              "      <th>0</th>\n",
              "      <td>این مادرجنده رو هر جا دیدید ازش بپرسید زیر پنکه که جرت دادن خوب شدی یا نه</td>\n",
              "      <td>1.0</td>\n",
              "      <td>1</td>\n",
              "      <td>NaN</td>\n",
              "      <td>https://twitter.com/kaveh52/status/1313827917420355584</td>\n",
              "    </tr>\n",
              "    <tr>\n",
              "      <th>1</th>\n",
              "      <td>ترک خر رو چه به این گه خوریا برگرد به طویلت.</td>\n",
              "      <td>1.0</td>\n",
              "      <td>1</td>\n",
              "      <td>NaN</td>\n",
              "      <td>https://twitter.com/Dan_torke/status/1313565809457934337</td>\n",
              "    </tr>\n",
              "    <tr>\n",
              "      <th>2</th>\n",
              "      <td>خب جنگ ترک های خر با ارامنه ی نمیدونم چیچی به کجا رسید؟</td>\n",
              "      <td>1.0</td>\n",
              "      <td>1</td>\n",
              "      <td>NaN</td>\n",
              "      <td>https://twitter.com/denushhhh/status/1312039680070877185</td>\n",
              "    </tr>\n",
              "    <tr>\n",
              "      <th>3</th>\n",
              "      <td>یکی که \\nبرام قرمه سبزی بپزه\\nبره سرکار پول بیاره\\nاز سرکار اومد . مُشت و مالم بده\\nپاهامو بشوره\\nخریدای خونه رو بکنه\\nنون بگیره\\nچیـــــه؟Thinking face همونم نداریمPleading faceFrowning faceWeary face</td>\n",
              "      <td>0.0</td>\n",
              "      <td>0</td>\n",
              "      <td>NaN</td>\n",
              "      <td>https://twitter.com/Alaki89950006/status/1311560774154772481</td>\n",
              "    </tr>\n",
              "    <tr>\n",
              "      <th>4</th>\n",
              "      <td>این سعودی های احمق کی باید بفهمن ک با پول نمیشود غیرت ایرانی را شکست داد</td>\n",
              "      <td>0.0</td>\n",
              "      <td>1</td>\n",
              "      <td>1</td>\n",
              "      <td>https://twitter.com/basirat_1988/status/1312462231548821504</td>\n",
              "    </tr>\n",
              "  </tbody>\n",
              "</table>\n",
              "</div>"
            ],
            "text/plain": [
              "                                                                                                                                                                                                        text  ...                                                          link\n",
              "0                                                                                                                                  این مادرجنده رو هر جا دیدید ازش بپرسید زیر پنکه که جرت دادن خوب شدی یا نه  ...        https://twitter.com/kaveh52/status/1313827917420355584\n",
              "1                                                                                                                                                               ترک خر رو چه به این گه خوریا برگرد به طویلت.  ...      https://twitter.com/Dan_torke/status/1313565809457934337\n",
              "2                                                                                                                                                    خب جنگ ترک های خر با ارامنه ی نمیدونم چیچی به کجا رسید؟  ...      https://twitter.com/denushhhh/status/1312039680070877185\n",
              "3  یکی که \\nبرام قرمه سبزی بپزه\\nبره سرکار پول بیاره\\nاز سرکار اومد . مُشت و مالم بده\\nپاهامو بشوره\\nخریدای خونه رو بکنه\\nنون بگیره\\nچیـــــه؟Thinking face همونم نداریمPleading faceFrowning faceWeary face  ...  https://twitter.com/Alaki89950006/status/1311560774154772481\n",
              "4                                                                                                                                   این سعودی های احمق کی باید بفهمن ک با پول نمیشود غیرت ایرانی را شکست داد  ...   https://twitter.com/basirat_1988/status/1312462231548821504\n",
              "\n",
              "[5 rows x 5 columns]"
            ]
          },
          "metadata": {
            "tags": []
          },
          "execution_count": 83
        }
      ]
    },
    {
      "cell_type": "code",
      "metadata": {
        "colab": {
          "base_uri": "https://localhost:8080/",
          "height": 594
        },
        "id": "rB5dMgO838ee",
        "outputId": "fdf11c2a-15ba-410b-8c9c-575df17d992c"
      },
      "source": [
        "df3.tail()"
      ],
      "execution_count": null,
      "outputs": [
        {
          "output_type": "execute_result",
          "data": {
            "text/html": [
              "<div>\n",
              "<style scoped>\n",
              "    .dataframe tbody tr th:only-of-type {\n",
              "        vertical-align: middle;\n",
              "    }\n",
              "\n",
              "    .dataframe tbody tr th {\n",
              "        vertical-align: top;\n",
              "    }\n",
              "\n",
              "    .dataframe thead th {\n",
              "        text-align: right;\n",
              "    }\n",
              "</style>\n",
              "<table border=\"1\" class=\"dataframe\">\n",
              "  <thead>\n",
              "    <tr style=\"text-align: right;\">\n",
              "      <th></th>\n",
              "      <th>text</th>\n",
              "      <th>ref1</th>\n",
              "      <th>ref2</th>\n",
              "      <th>ref3</th>\n",
              "      <th>link</th>\n",
              "    </tr>\n",
              "  </thead>\n",
              "  <tbody>\n",
              "    <tr>\n",
              "      <th>993</th>\n",
              "      <td>من ایشون میشناسم تو اینستام پیج داره تا جایی که دیدم پیشقدم برای هر کاری از فقرا تا بیماری خاص تا حیوانات و...... بود خیلی هام بهش کمک میکنند و قدم به قدم برای خرید لایو میزاره البته بگم شک در این نیست که جزوی از ج.ا ولی چیزی که دیدم و چیزی که پیگیری کردم تا الان کارش خوب بود</td>\n",
              "      <td>0.0</td>\n",
              "      <td>0</td>\n",
              "      <td>NaN</td>\n",
              "      <td>https://twitter.com/Naslsokhte1/status/1150193068458426369</td>\n",
              "    </tr>\n",
              "    <tr>\n",
              "      <th>994</th>\n",
              "      <td>پسرا، هم جنسا، چرا #دختر هرچی #بددهن باشه و کصشعر بگه، بیشتر میپسندین؟\\n تو شورتتون نگهش دارین لامصبا!\\n#تهاجم #ایرانی_بازی</td>\n",
              "      <td>0.0</td>\n",
              "      <td>1</td>\n",
              "      <td>0</td>\n",
              "      <td>https://twitter.com/Merajsn/status/1150193012535939072</td>\n",
              "    </tr>\n",
              "    <tr>\n",
              "      <th>995</th>\n",
              "      <td>هدایت و بازداشت شده است.\\nامارات سیاست سکوت را در پیش گرفته است برخی منابع خبری حوزه خلیج فارس می گویند: این کشتی به سادگی توسط سپاه بازداشت شده و آسیب دیده است. ایالات متحده می گوید، امکان برقراری تماس با خدمه کشتی وجود ندارد آخرین موقعیت این کشتی در جزیره قشم ثبت شده است .</td>\n",
              "      <td>0.0</td>\n",
              "      <td>0</td>\n",
              "      <td>NaN</td>\n",
              "      <td>https://twitter.com/MadariSarzamin/status/1150917950393765889</td>\n",
              "    </tr>\n",
              "    <tr>\n",
              "      <th>996</th>\n",
              "      <td>عزیزان، کسی گفته کاربران توئیتر مستجاب الدعوه اند؟ از اولیا الله اند؟ نفسشون حقه، دعاشون شفاست یا چی که همه اش التماس دعا و صلوات و اینها دارید! حالا امروز یکی تقاضای نماز یوم النمیدونم چی چی هم داشت. \\n بابا بی خیال عزیزان، دو دقیقه اومدیم معاشرت کنیم! مسجد دو کوچه پایین‌تره!</td>\n",
              "      <td>0.0</td>\n",
              "      <td>0</td>\n",
              "      <td>NaN</td>\n",
              "      <td>https://twitter.com/LeylaNarimani/status/1150917920567881728</td>\n",
              "    </tr>\n",
              "    <tr>\n",
              "      <th>997</th>\n",
              "      <td>میگن هیچ چیزی بدون دلیل نیست\\nهمه چی دست به دست هم میده تا اون اتفاق بیوفته\\nامشب بدون برنامه الکل بخورم ، کلیدام رو جا بذارم تو خیابون بمونم، عموم همون ساعت جووین شه تلگرام  تکست بدم بهش ، خانومش مسافرت باشه بشینیم تا الان حرف بزنیم و مخشم بزنم که سرمایه کارم رو بده و قبول کنه :)</td>\n",
              "      <td>0.0</td>\n",
              "      <td>0</td>\n",
              "      <td>NaN</td>\n",
              "      <td>https://twitter.com/themifar/status/1150917824669540353</td>\n",
              "    </tr>\n",
              "  </tbody>\n",
              "</table>\n",
              "</div>"
            ],
            "text/plain": [
              "                                                                                                                                                                                                                                                                                          text  ...                                                           link\n",
              "993       من ایشون میشناسم تو اینستام پیج داره تا جایی که دیدم پیشقدم برای هر کاری از فقرا تا بیماری خاص تا حیوانات و...... بود خیلی هام بهش کمک میکنند و قدم به قدم برای خرید لایو میزاره البته بگم شک در این نیست که جزوی از ج.ا ولی چیزی که دیدم و چیزی که پیگیری کردم تا الان کارش خوب بود  ...     https://twitter.com/Naslsokhte1/status/1150193068458426369\n",
              "994                                                                                                                                                                پسرا، هم جنسا، چرا #دختر هرچی #بددهن باشه و کصشعر بگه، بیشتر میپسندین؟\\n تو شورتتون نگهش دارین لامصبا!\\n#تهاجم #ایرانی_بازی  ...         https://twitter.com/Merajsn/status/1150193012535939072\n",
              "995        هدایت و بازداشت شده است.\\nامارات سیاست سکوت را در پیش گرفته است برخی منابع خبری حوزه خلیج فارس می گویند: این کشتی به سادگی توسط سپاه بازداشت شده و آسیب دیده است. ایالات متحده می گوید، امکان برقراری تماس با خدمه کشتی وجود ندارد آخرین موقعیت این کشتی در جزیره قشم ثبت شده است .  ...  https://twitter.com/MadariSarzamin/status/1150917950393765889\n",
              "996      عزیزان، کسی گفته کاربران توئیتر مستجاب الدعوه اند؟ از اولیا الله اند؟ نفسشون حقه، دعاشون شفاست یا چی که همه اش التماس دعا و صلوات و اینها دارید! حالا امروز یکی تقاضای نماز یوم النمیدونم چی چی هم داشت. \\n بابا بی خیال عزیزان، دو دقیقه اومدیم معاشرت کنیم! مسجد دو کوچه پایین‌تره!  ...   https://twitter.com/LeylaNarimani/status/1150917920567881728\n",
              "997  میگن هیچ چیزی بدون دلیل نیست\\nهمه چی دست به دست هم میده تا اون اتفاق بیوفته\\nامشب بدون برنامه الکل بخورم ، کلیدام رو جا بذارم تو خیابون بمونم، عموم همون ساعت جووین شه تلگرام  تکست بدم بهش ، خانومش مسافرت باشه بشینیم تا الان حرف بزنیم و مخشم بزنم که سرمایه کارم رو بده و قبول کنه :)  ...        https://twitter.com/themifar/status/1150917824669540353\n",
              "\n",
              "[5 rows x 5 columns]"
            ]
          },
          "metadata": {
            "tags": []
          },
          "execution_count": 84
        }
      ]
    },
    {
      "cell_type": "code",
      "metadata": {
        "colab": {
          "base_uri": "https://localhost:8080/"
        },
        "id": "bw-p8uF639zd",
        "outputId": "1be01ba8-9560-4337-e6e7-18ff7b74f85b"
      },
      "source": [
        "df3.shape"
      ],
      "execution_count": null,
      "outputs": [
        {
          "output_type": "execute_result",
          "data": {
            "text/plain": [
              "(1995, 7)"
            ]
          },
          "metadata": {
            "tags": []
          },
          "execution_count": 77
        }
      ]
    },
    {
      "cell_type": "code",
      "metadata": {
        "colab": {
          "base_uri": "https://localhost:8080/"
        },
        "id": "qIKOnvlW4CsE",
        "outputId": "30e3ace2-344e-4549-976d-9b2f0eef935b"
      },
      "source": [
        "df3.columns"
      ],
      "execution_count": null,
      "outputs": [
        {
          "output_type": "execute_result",
          "data": {
            "text/plain": [
              "Index(['text', 'ref1', 'ref2', 'ref3', 'link'], dtype='object')"
            ]
          },
          "metadata": {
            "tags": []
          },
          "execution_count": 86
        }
      ]
    },
    {
      "cell_type": "code",
      "metadata": {
        "id": "MZifdUXD5pTa"
      },
      "source": [
        "df3_update = df3.replace(to_replace = regex_for_username, value = '@USER', regex = True)\n"
      ],
      "execution_count": null,
      "outputs": []
    },
    {
      "cell_type": "code",
      "metadata": {
        "colab": {
          "base_uri": "https://localhost:8080/",
          "height": 306
        },
        "id": "I2x5aZme6BU5",
        "outputId": "04736542-7f4a-4563-d979-e9d277a66b4c"
      },
      "source": [
        "df3_update.head()"
      ],
      "execution_count": null,
      "outputs": [
        {
          "output_type": "execute_result",
          "data": {
            "text/html": [
              "<div>\n",
              "<style scoped>\n",
              "    .dataframe tbody tr th:only-of-type {\n",
              "        vertical-align: middle;\n",
              "    }\n",
              "\n",
              "    .dataframe tbody tr th {\n",
              "        vertical-align: top;\n",
              "    }\n",
              "\n",
              "    .dataframe thead th {\n",
              "        text-align: right;\n",
              "    }\n",
              "</style>\n",
              "<table border=\"1\" class=\"dataframe\">\n",
              "  <thead>\n",
              "    <tr style=\"text-align: right;\">\n",
              "      <th></th>\n",
              "      <th>text</th>\n",
              "      <th>ref1</th>\n",
              "      <th>ref2</th>\n",
              "      <th>ref3</th>\n",
              "      <th>link</th>\n",
              "    </tr>\n",
              "  </thead>\n",
              "  <tbody>\n",
              "    <tr>\n",
              "      <th>0</th>\n",
              "      <td>این مادرجنده رو هر جا دیدید ازش بپرسید زیر پنکه که جرت دادن خوب شدی یا نه</td>\n",
              "      <td>1.0</td>\n",
              "      <td>1</td>\n",
              "      <td>NaN</td>\n",
              "      <td>https://twitter.com/kaveh52/status/1313827917420355584</td>\n",
              "    </tr>\n",
              "    <tr>\n",
              "      <th>1</th>\n",
              "      <td>ترک خر رو چه به این گه خوریا برگرد به طویلت.</td>\n",
              "      <td>1.0</td>\n",
              "      <td>1</td>\n",
              "      <td>NaN</td>\n",
              "      <td>https://twitter.com/Dan_torke/status/1313565809457934337</td>\n",
              "    </tr>\n",
              "    <tr>\n",
              "      <th>2</th>\n",
              "      <td>خب جنگ ترک های خر با ارامنه ی نمیدونم چیچی به کجا رسید؟</td>\n",
              "      <td>1.0</td>\n",
              "      <td>1</td>\n",
              "      <td>NaN</td>\n",
              "      <td>https://twitter.com/denushhhh/status/1312039680070877185</td>\n",
              "    </tr>\n",
              "    <tr>\n",
              "      <th>3</th>\n",
              "      <td>یکی که \\nبرام قرمه سبزی بپزه\\nبره سرکار پول بیاره\\nاز سرکار اومد . مُشت و مالم بده\\nپاهامو بشوره\\nخریدای خونه رو بکنه\\nنون بگیره\\nچیـــــه؟Thinking face همونم نداریمPleading faceFrowning faceWeary face</td>\n",
              "      <td>0.0</td>\n",
              "      <td>0</td>\n",
              "      <td>NaN</td>\n",
              "      <td>https://twitter.com/Alaki89950006/status/1311560774154772481</td>\n",
              "    </tr>\n",
              "    <tr>\n",
              "      <th>4</th>\n",
              "      <td>این سعودی های احمق کی باید بفهمن ک با پول نمیشود غیرت ایرانی را شکست داد</td>\n",
              "      <td>0.0</td>\n",
              "      <td>1</td>\n",
              "      <td>1</td>\n",
              "      <td>https://twitter.com/basirat_1988/status/1312462231548821504</td>\n",
              "    </tr>\n",
              "  </tbody>\n",
              "</table>\n",
              "</div>"
            ],
            "text/plain": [
              "                                                                                                                                                                                                        text  ...                                                          link\n",
              "0                                                                                                                                  این مادرجنده رو هر جا دیدید ازش بپرسید زیر پنکه که جرت دادن خوب شدی یا نه  ...        https://twitter.com/kaveh52/status/1313827917420355584\n",
              "1                                                                                                                                                               ترک خر رو چه به این گه خوریا برگرد به طویلت.  ...      https://twitter.com/Dan_torke/status/1313565809457934337\n",
              "2                                                                                                                                                    خب جنگ ترک های خر با ارامنه ی نمیدونم چیچی به کجا رسید؟  ...      https://twitter.com/denushhhh/status/1312039680070877185\n",
              "3  یکی که \\nبرام قرمه سبزی بپزه\\nبره سرکار پول بیاره\\nاز سرکار اومد . مُشت و مالم بده\\nپاهامو بشوره\\nخریدای خونه رو بکنه\\nنون بگیره\\nچیـــــه؟Thinking face همونم نداریمPleading faceFrowning faceWeary face  ...  https://twitter.com/Alaki89950006/status/1311560774154772481\n",
              "4                                                                                                                                   این سعودی های احمق کی باید بفهمن ک با پول نمیشود غیرت ایرانی را شکست داد  ...   https://twitter.com/basirat_1988/status/1312462231548821504\n",
              "\n",
              "[5 rows x 5 columns]"
            ]
          },
          "metadata": {
            "tags": []
          },
          "execution_count": 88
        }
      ]
    },
    {
      "cell_type": "code",
      "metadata": {
        "id": "tjrjuonX7ztJ"
      },
      "source": [
        "df3_update.reset_index(drop=True, inplace=True)"
      ],
      "execution_count": null,
      "outputs": []
    },
    {
      "cell_type": "code",
      "metadata": {
        "colab": {
          "base_uri": "https://localhost:8080/",
          "height": 594
        },
        "id": "7PVYB7n979x6",
        "outputId": "fb4ecd1e-57c9-4d04-8bab-60a16a6094c0"
      },
      "source": [
        "df3_update.tail()"
      ],
      "execution_count": null,
      "outputs": [
        {
          "output_type": "execute_result",
          "data": {
            "text/html": [
              "<div>\n",
              "<style scoped>\n",
              "    .dataframe tbody tr th:only-of-type {\n",
              "        vertical-align: middle;\n",
              "    }\n",
              "\n",
              "    .dataframe tbody tr th {\n",
              "        vertical-align: top;\n",
              "    }\n",
              "\n",
              "    .dataframe thead th {\n",
              "        text-align: right;\n",
              "    }\n",
              "</style>\n",
              "<table border=\"1\" class=\"dataframe\">\n",
              "  <thead>\n",
              "    <tr style=\"text-align: right;\">\n",
              "      <th></th>\n",
              "      <th>text</th>\n",
              "      <th>ref1</th>\n",
              "      <th>ref2</th>\n",
              "      <th>ref3</th>\n",
              "      <th>link</th>\n",
              "    </tr>\n",
              "  </thead>\n",
              "  <tbody>\n",
              "    <tr>\n",
              "      <th>1990</th>\n",
              "      <td>من ایشون میشناسم تو اینستام پیج داره تا جایی که دیدم پیشقدم برای هر کاری از فقرا تا بیماری خاص تا حیوانات و...... بود خیلی هام بهش کمک میکنند و قدم به قدم برای خرید لایو میزاره البته بگم شک در این نیست که جزوی از ج.ا ولی چیزی که دیدم و چیزی که پیگیری کردم تا الان کارش خوب بود</td>\n",
              "      <td>0.0</td>\n",
              "      <td>0</td>\n",
              "      <td>NaN</td>\n",
              "      <td>https://twitter.com/Naslsokhte1/status/1150193068458426369</td>\n",
              "    </tr>\n",
              "    <tr>\n",
              "      <th>1991</th>\n",
              "      <td>پسرا، هم جنسا، چرا #دختر هرچی #بددهن باشه و کصشعر بگه، بیشتر میپسندین؟\\n تو شورتتون نگهش دارین لامصبا!\\n#تهاجم #ایرانی_بازی</td>\n",
              "      <td>0.0</td>\n",
              "      <td>1</td>\n",
              "      <td>0</td>\n",
              "      <td>https://twitter.com/Merajsn/status/1150193012535939072</td>\n",
              "    </tr>\n",
              "    <tr>\n",
              "      <th>1992</th>\n",
              "      <td>هدایت و بازداشت شده است.\\nامارات سیاست سکوت را در پیش گرفته است برخی منابع خبری حوزه خلیج فارس می گویند: این کشتی به سادگی توسط سپاه بازداشت شده و آسیب دیده است. ایالات متحده می گوید، امکان برقراری تماس با خدمه کشتی وجود ندارد آخرین موقعیت این کشتی در جزیره قشم ثبت شده است .</td>\n",
              "      <td>0.0</td>\n",
              "      <td>0</td>\n",
              "      <td>NaN</td>\n",
              "      <td>https://twitter.com/MadariSarzamin/status/1150917950393765889</td>\n",
              "    </tr>\n",
              "    <tr>\n",
              "      <th>1993</th>\n",
              "      <td>عزیزان، کسی گفته کاربران توئیتر مستجاب الدعوه اند؟ از اولیا الله اند؟ نفسشون حقه، دعاشون شفاست یا چی که همه اش التماس دعا و صلوات و اینها دارید! حالا امروز یکی تقاضای نماز یوم النمیدونم چی چی هم داشت. \\n بابا بی خیال عزیزان، دو دقیقه اومدیم معاشرت کنیم! مسجد دو کوچه پایین‌تره!</td>\n",
              "      <td>0.0</td>\n",
              "      <td>0</td>\n",
              "      <td>NaN</td>\n",
              "      <td>https://twitter.com/LeylaNarimani/status/1150917920567881728</td>\n",
              "    </tr>\n",
              "    <tr>\n",
              "      <th>1994</th>\n",
              "      <td>میگن هیچ چیزی بدون دلیل نیست\\nهمه چی دست به دست هم میده تا اون اتفاق بیوفته\\nامشب بدون برنامه الکل بخورم ، کلیدام رو جا بذارم تو خیابون بمونم، عموم همون ساعت جووین شه تلگرام  تکست بدم بهش ، خانومش مسافرت باشه بشینیم تا الان حرف بزنیم و مخشم بزنم که سرمایه کارم رو بده و قبول کنه :)</td>\n",
              "      <td>0.0</td>\n",
              "      <td>0</td>\n",
              "      <td>NaN</td>\n",
              "      <td>https://twitter.com/themifar/status/1150917824669540353</td>\n",
              "    </tr>\n",
              "  </tbody>\n",
              "</table>\n",
              "</div>"
            ],
            "text/plain": [
              "                                                                                                                                                                                                                                                                                           text  ...                                                           link\n",
              "1990       من ایشون میشناسم تو اینستام پیج داره تا جایی که دیدم پیشقدم برای هر کاری از فقرا تا بیماری خاص تا حیوانات و...... بود خیلی هام بهش کمک میکنند و قدم به قدم برای خرید لایو میزاره البته بگم شک در این نیست که جزوی از ج.ا ولی چیزی که دیدم و چیزی که پیگیری کردم تا الان کارش خوب بود  ...     https://twitter.com/Naslsokhte1/status/1150193068458426369\n",
              "1991                                                                                                                                                                پسرا، هم جنسا، چرا #دختر هرچی #بددهن باشه و کصشعر بگه، بیشتر میپسندین؟\\n تو شورتتون نگهش دارین لامصبا!\\n#تهاجم #ایرانی_بازی  ...         https://twitter.com/Merajsn/status/1150193012535939072\n",
              "1992        هدایت و بازداشت شده است.\\nامارات سیاست سکوت را در پیش گرفته است برخی منابع خبری حوزه خلیج فارس می گویند: این کشتی به سادگی توسط سپاه بازداشت شده و آسیب دیده است. ایالات متحده می گوید، امکان برقراری تماس با خدمه کشتی وجود ندارد آخرین موقعیت این کشتی در جزیره قشم ثبت شده است .  ...  https://twitter.com/MadariSarzamin/status/1150917950393765889\n",
              "1993      عزیزان، کسی گفته کاربران توئیتر مستجاب الدعوه اند؟ از اولیا الله اند؟ نفسشون حقه، دعاشون شفاست یا چی که همه اش التماس دعا و صلوات و اینها دارید! حالا امروز یکی تقاضای نماز یوم النمیدونم چی چی هم داشت. \\n بابا بی خیال عزیزان، دو دقیقه اومدیم معاشرت کنیم! مسجد دو کوچه پایین‌تره!  ...   https://twitter.com/LeylaNarimani/status/1150917920567881728\n",
              "1994  میگن هیچ چیزی بدون دلیل نیست\\nهمه چی دست به دست هم میده تا اون اتفاق بیوفته\\nامشب بدون برنامه الکل بخورم ، کلیدام رو جا بذارم تو خیابون بمونم، عموم همون ساعت جووین شه تلگرام  تکست بدم بهش ، خانومش مسافرت باشه بشینیم تا الان حرف بزنیم و مخشم بزنم که سرمایه کارم رو بده و قبول کنه :)  ...        https://twitter.com/themifar/status/1150917824669540353\n",
              "\n",
              "[5 rows x 5 columns]"
            ]
          },
          "metadata": {
            "tags": []
          },
          "execution_count": 97
        }
      ]
    },
    {
      "cell_type": "code",
      "metadata": {
        "id": "IcGRSoAM6D0D"
      },
      "source": [
        "filtered_df = df3_update[df3_update['text'].notnull()]"
      ],
      "execution_count": null,
      "outputs": []
    },
    {
      "cell_type": "code",
      "metadata": {
        "colab": {
          "base_uri": "https://localhost:8080/"
        },
        "id": "dAWSKEBc8amr",
        "outputId": "072dea0d-0446-4526-e911-1d0279c05e86"
      },
      "source": [
        "filtered_df.shape"
      ],
      "execution_count": null,
      "outputs": [
        {
          "output_type": "execute_result",
          "data": {
            "text/plain": [
              "(1994, 5)"
            ]
          },
          "metadata": {
            "tags": []
          },
          "execution_count": 99
        }
      ]
    },
    {
      "cell_type": "code",
      "metadata": {
        "colab": {
          "base_uri": "https://localhost:8080/",
          "height": 492
        },
        "id": "CTFd9Bcz6PFO",
        "outputId": "2a450a5d-3770-412e-ea1a-05e402872ce5"
      },
      "source": [
        "filtered_df[filtered_df['text'].str.contains('@')].head()"
      ],
      "execution_count": null,
      "outputs": [
        {
          "output_type": "execute_result",
          "data": {
            "text/html": [
              "<div>\n",
              "<style scoped>\n",
              "    .dataframe tbody tr th:only-of-type {\n",
              "        vertical-align: middle;\n",
              "    }\n",
              "\n",
              "    .dataframe tbody tr th {\n",
              "        vertical-align: top;\n",
              "    }\n",
              "\n",
              "    .dataframe thead th {\n",
              "        text-align: right;\n",
              "    }\n",
              "</style>\n",
              "<table border=\"1\" class=\"dataframe\">\n",
              "  <thead>\n",
              "    <tr style=\"text-align: right;\">\n",
              "      <th></th>\n",
              "      <th>text</th>\n",
              "      <th>ref1</th>\n",
              "      <th>ref2</th>\n",
              "      <th>ref3</th>\n",
              "      <th>link</th>\n",
              "    </tr>\n",
              "  </thead>\n",
              "  <tbody>\n",
              "    <tr>\n",
              "      <th>85</th>\n",
              "      <td>@USER لامصب یکی دو تا که نیستن, فیسبوک پر هست از این جانوران مسلمان که کرسی شعر گفتن رو به افق های جدید رسوندن</td>\n",
              "      <td>1.0</td>\n",
              "      <td>1</td>\n",
              "      <td>NaN</td>\n",
              "      <td>https://twitter.com/Sashtyani/status/577046648171470848</td>\n",
              "    </tr>\n",
              "    <tr>\n",
              "      <th>593</th>\n",
              "      <td>پانزدهمین زادروز شهدخت فرح پهلوی خجسته و همایون باد،تیم ایرانسازان میلاد شهدخت نازنینمان را شادباش گفته و بازگشت خاندان ایرانساز پهلوی را به ایرانمان آرزومند است. \\n\\n#شهدخت_نور_پهلوی\\n#بگوبرگردشاه \\n#خانه_رها_میشود_از_اجنبی_رهبرمان_شاه_رضاپهلوی \\n@USER</td>\n",
              "      <td>0.0</td>\n",
              "      <td>0</td>\n",
              "      <td>NaN</td>\n",
              "      <td>https://twitter.com/azhdar_aryayi/status/1086050482026618880</td>\n",
              "    </tr>\n",
              "    <tr>\n",
              "      <th>602</th>\n",
              "      <td>Replying to \\n@USER ما پای تجربیات دیگران هم نشستیم و با آمار آسیب‌های اجتماعی معلول این پدیده هم آشناییم و امثال این کلیپ رو بزک‌کردن چهره‌ی زشتِ ازدواج کودکان میدونیم</td>\n",
              "      <td>0.0</td>\n",
              "      <td>0</td>\n",
              "      <td>NaN</td>\n",
              "      <td>https://twitter.com/delafkaar/status/1088224839507300352</td>\n",
              "    </tr>\n",
              "    <tr>\n",
              "      <th>611</th>\n",
              "      <td>سلام خدمت \\n@USER\\n   adslبصورت آنلاین ثبت نام کردم اما هنوز هیچ یوزر و پسی به دست بنده نرسیده با 2020تماس میگیرم میگه به مخابرات مراجعه کن .به مخابرات هم مراجعه میکنم هیچ جوابی دریافت نمیکنم. \\nاقای جهرمی الان بنده و امثال بنده برای پیگیری به کجا مراجعه کنن؟\\n#اینترنت</td>\n",
              "      <td>0.0</td>\n",
              "      <td>0</td>\n",
              "      <td>NaN</td>\n",
              "      <td>https://twitter.com/mirhosseinohadi/status/1092211054929739777</td>\n",
              "    </tr>\n",
              "    <tr>\n",
              "      <th>630</th>\n",
              "      <td>دوستان اکانت دوم آیت الله تناسلی را فالو کنید \\n لایک و ریتوییت اکانت اصلی فراموش نشود \\nاکانت اصلی \\n@USER\\n \\nاکانت دوم \\n@USER</td>\n",
              "      <td>0.0</td>\n",
              "      <td>0</td>\n",
              "      <td>NaN</td>\n",
              "      <td>https://twitter.com/FoxNewsIrann/status/1096559732259807232</td>\n",
              "    </tr>\n",
              "  </tbody>\n",
              "</table>\n",
              "</div>"
            ],
            "text/plain": [
              "                                                                                                                                                                                                                                                                              text  ...                                                            link\n",
              "85                                                                                                                                                                  @USER لامصب یکی دو تا که نیستن, فیسبوک پر هست از این جانوران مسلمان که کرسی شعر گفتن رو به افق های جدید رسوندن  ...         https://twitter.com/Sashtyani/status/577046648171470848\n",
              "593                  پانزدهمین زادروز شهدخت فرح پهلوی خجسته و همایون باد،تیم ایرانسازان میلاد شهدخت نازنینمان را شادباش گفته و بازگشت خاندان ایرانساز پهلوی را به ایرانمان آرزومند است. \\n\\n#شهدخت_نور_پهلوی\\n#بگوبرگردشاه \\n#خانه_رها_میشود_از_اجنبی_رهبرمان_شاه_رضاپهلوی \\n@USER  ...    https://twitter.com/azhdar_aryayi/status/1086050482026618880\n",
              "602                                                                                                       Replying to \\n@USER ما پای تجربیات دیگران هم نشستیم و با آمار آسیب‌های اجتماعی معلول این پدیده هم آشناییم و امثال این کلیپ رو بزک‌کردن چهره‌ی زشتِ ازدواج کودکان میدونیم  ...        https://twitter.com/delafkaar/status/1088224839507300352\n",
              "611  سلام خدمت \\n@USER\\n   adslبصورت آنلاین ثبت نام کردم اما هنوز هیچ یوزر و پسی به دست بنده نرسیده با 2020تماس میگیرم میگه به مخابرات مراجعه کن .به مخابرات هم مراجعه میکنم هیچ جوابی دریافت نمیکنم. \\nاقای جهرمی الان بنده و امثال بنده برای پیگیری به کجا مراجعه کنن؟\\n#اینترنت  ...  https://twitter.com/mirhosseinohadi/status/1092211054929739777\n",
              "630                                                                                                                                              دوستان اکانت دوم آیت الله تناسلی را فالو کنید \\n لایک و ریتوییت اکانت اصلی فراموش نشود \\nاکانت اصلی \\n@USER\\n \\nاکانت دوم \\n@USER  ...     https://twitter.com/FoxNewsIrann/status/1096559732259807232\n",
              "\n",
              "[5 rows x 5 columns]"
            ]
          },
          "metadata": {
            "tags": []
          },
          "execution_count": 100
        }
      ]
    },
    {
      "cell_type": "code",
      "metadata": {
        "colab": {
          "base_uri": "https://localhost:8080/"
        },
        "id": "wZvqK3M661QB",
        "outputId": "5a0b0188-9117-4b5e-860e-df2627aad20b"
      },
      "source": [
        "filtered_df.shape"
      ],
      "execution_count": null,
      "outputs": [
        {
          "output_type": "execute_result",
          "data": {
            "text/plain": [
              "(1994, 5)"
            ]
          },
          "metadata": {
            "tags": []
          },
          "execution_count": 101
        }
      ]
    },
    {
      "cell_type": "code",
      "metadata": {
        "id": "HoTDHKg567Wp"
      },
      "source": [
        "filtered_df = filtered_df.replace(to_replace = \"_\", value = ' ', regex = True)"
      ],
      "execution_count": null,
      "outputs": []
    },
    {
      "cell_type": "code",
      "metadata": {
        "id": "O94fNC-F9HbW"
      },
      "source": [
        "filtered_df = filtered_df.replace(to_replace = \"#\", value = ' ', regex = True)"
      ],
      "execution_count": null,
      "outputs": []
    },
    {
      "cell_type": "code",
      "metadata": {
        "colab": {
          "base_uri": "https://localhost:8080/",
          "height": 306
        },
        "id": "-U3DKHlc9K1j",
        "outputId": "ef6052fc-d4f9-4967-ec88-64cb61cc8af1"
      },
      "source": [
        "filtered_df.head()"
      ],
      "execution_count": null,
      "outputs": [
        {
          "output_type": "execute_result",
          "data": {
            "text/html": [
              "<div>\n",
              "<style scoped>\n",
              "    .dataframe tbody tr th:only-of-type {\n",
              "        vertical-align: middle;\n",
              "    }\n",
              "\n",
              "    .dataframe tbody tr th {\n",
              "        vertical-align: top;\n",
              "    }\n",
              "\n",
              "    .dataframe thead th {\n",
              "        text-align: right;\n",
              "    }\n",
              "</style>\n",
              "<table border=\"1\" class=\"dataframe\">\n",
              "  <thead>\n",
              "    <tr style=\"text-align: right;\">\n",
              "      <th></th>\n",
              "      <th>text</th>\n",
              "      <th>ref1</th>\n",
              "      <th>ref2</th>\n",
              "      <th>ref3</th>\n",
              "      <th>link</th>\n",
              "    </tr>\n",
              "  </thead>\n",
              "  <tbody>\n",
              "    <tr>\n",
              "      <th>0</th>\n",
              "      <td>این مادرجنده رو هر جا دیدید ازش بپرسید زیر پنکه که جرت دادن خوب شدی یا نه</td>\n",
              "      <td>1.0</td>\n",
              "      <td>1</td>\n",
              "      <td>NaN</td>\n",
              "      <td>https://twitter.com/kaveh52/status/1313827917420355584</td>\n",
              "    </tr>\n",
              "    <tr>\n",
              "      <th>1</th>\n",
              "      <td>ترک خر رو چه به این گه خوریا برگرد به طویلت.</td>\n",
              "      <td>1.0</td>\n",
              "      <td>1</td>\n",
              "      <td>NaN</td>\n",
              "      <td>https://twitter.com/Dan torke/status/1313565809457934337</td>\n",
              "    </tr>\n",
              "    <tr>\n",
              "      <th>2</th>\n",
              "      <td>خب جنگ ترک های خر با ارامنه ی نمیدونم چیچی به کجا رسید؟</td>\n",
              "      <td>1.0</td>\n",
              "      <td>1</td>\n",
              "      <td>NaN</td>\n",
              "      <td>https://twitter.com/denushhhh/status/1312039680070877185</td>\n",
              "    </tr>\n",
              "    <tr>\n",
              "      <th>3</th>\n",
              "      <td>یکی که \\nبرام قرمه سبزی بپزه\\nبره سرکار پول بیاره\\nاز سرکار اومد . مُشت و مالم بده\\nپاهامو بشوره\\nخریدای خونه رو بکنه\\nنون بگیره\\nچیـــــه؟Thinking face همونم نداریمPleading faceFrowning faceWeary face</td>\n",
              "      <td>0.0</td>\n",
              "      <td>0</td>\n",
              "      <td>NaN</td>\n",
              "      <td>https://twitter.com/Alaki89950006/status/1311560774154772481</td>\n",
              "    </tr>\n",
              "    <tr>\n",
              "      <th>4</th>\n",
              "      <td>این سعودی های احمق کی باید بفهمن ک با پول نمیشود غیرت ایرانی را شکست داد</td>\n",
              "      <td>0.0</td>\n",
              "      <td>1</td>\n",
              "      <td>1</td>\n",
              "      <td>https://twitter.com/basirat 1988/status/1312462231548821504</td>\n",
              "    </tr>\n",
              "  </tbody>\n",
              "</table>\n",
              "</div>"
            ],
            "text/plain": [
              "                                                                                                                                                                                                        text  ...                                                          link\n",
              "0                                                                                                                                  این مادرجنده رو هر جا دیدید ازش بپرسید زیر پنکه که جرت دادن خوب شدی یا نه  ...        https://twitter.com/kaveh52/status/1313827917420355584\n",
              "1                                                                                                                                                               ترک خر رو چه به این گه خوریا برگرد به طویلت.  ...      https://twitter.com/Dan torke/status/1313565809457934337\n",
              "2                                                                                                                                                    خب جنگ ترک های خر با ارامنه ی نمیدونم چیچی به کجا رسید؟  ...      https://twitter.com/denushhhh/status/1312039680070877185\n",
              "3  یکی که \\nبرام قرمه سبزی بپزه\\nبره سرکار پول بیاره\\nاز سرکار اومد . مُشت و مالم بده\\nپاهامو بشوره\\nخریدای خونه رو بکنه\\nنون بگیره\\nچیـــــه؟Thinking face همونم نداریمPleading faceFrowning faceWeary face  ...  https://twitter.com/Alaki89950006/status/1311560774154772481\n",
              "4                                                                                                                                   این سعودی های احمق کی باید بفهمن ک با پول نمیشود غیرت ایرانی را شکست داد  ...   https://twitter.com/basirat 1988/status/1312462231548821504\n",
              "\n",
              "[5 rows x 5 columns]"
            ]
          },
          "metadata": {
            "tags": []
          },
          "execution_count": 104
        }
      ]
    },
    {
      "cell_type": "code",
      "metadata": {
        "id": "dAlOWcEo9Myv"
      },
      "source": [
        "\n",
        "filtered_df['ref3'] = filtered_df.apply(\n",
        "    lambda row: row['ref1'] if pd.isnull(row['ref3']) else row['ref3'],\n",
        "    axis=1\n",
        ")"
      ],
      "execution_count": null,
      "outputs": []
    },
    {
      "cell_type": "code",
      "metadata": {
        "colab": {
          "base_uri": "https://localhost:8080/",
          "height": 1000
        },
        "id": "YmD5CEGk9ljR",
        "outputId": "637faf32-3506-4a32-b1b1-e6e81e64d6c3"
      },
      "source": [
        "filtered_df.head(20)"
      ],
      "execution_count": null,
      "outputs": [
        {
          "output_type": "execute_result",
          "data": {
            "text/html": [
              "<div>\n",
              "<style scoped>\n",
              "    .dataframe tbody tr th:only-of-type {\n",
              "        vertical-align: middle;\n",
              "    }\n",
              "\n",
              "    .dataframe tbody tr th {\n",
              "        vertical-align: top;\n",
              "    }\n",
              "\n",
              "    .dataframe thead th {\n",
              "        text-align: right;\n",
              "    }\n",
              "</style>\n",
              "<table border=\"1\" class=\"dataframe\">\n",
              "  <thead>\n",
              "    <tr style=\"text-align: right;\">\n",
              "      <th></th>\n",
              "      <th>text</th>\n",
              "      <th>ref1</th>\n",
              "      <th>ref2</th>\n",
              "      <th>ref3</th>\n",
              "      <th>link</th>\n",
              "    </tr>\n",
              "  </thead>\n",
              "  <tbody>\n",
              "    <tr>\n",
              "      <th>0</th>\n",
              "      <td>این مادرجنده رو هر جا دیدید ازش بپرسید زیر پنکه که جرت دادن خوب شدی یا نه</td>\n",
              "      <td>1.0</td>\n",
              "      <td>1</td>\n",
              "      <td>1</td>\n",
              "      <td>https://twitter.com/kaveh52/status/1313827917420355584</td>\n",
              "    </tr>\n",
              "    <tr>\n",
              "      <th>1</th>\n",
              "      <td>ترک خر رو چه به این گه خوریا برگرد به طویلت.</td>\n",
              "      <td>1.0</td>\n",
              "      <td>1</td>\n",
              "      <td>1</td>\n",
              "      <td>https://twitter.com/Dan torke/status/1313565809457934337</td>\n",
              "    </tr>\n",
              "    <tr>\n",
              "      <th>2</th>\n",
              "      <td>خب جنگ ترک های خر با ارامنه ی نمیدونم چیچی به کجا رسید؟</td>\n",
              "      <td>1.0</td>\n",
              "      <td>1</td>\n",
              "      <td>1</td>\n",
              "      <td>https://twitter.com/denushhhh/status/1312039680070877185</td>\n",
              "    </tr>\n",
              "    <tr>\n",
              "      <th>3</th>\n",
              "      <td>یکی که \\nبرام قرمه سبزی بپزه\\nبره سرکار پول بیاره\\nاز سرکار اومد . مُشت و مالم بده\\nپاهامو بشوره\\nخریدای خونه رو بکنه\\nنون بگیره\\nچیـــــه؟Thinking face همونم نداریمPleading faceFrowning faceWeary face</td>\n",
              "      <td>0.0</td>\n",
              "      <td>0</td>\n",
              "      <td>0</td>\n",
              "      <td>https://twitter.com/Alaki89950006/status/1311560774154772481</td>\n",
              "    </tr>\n",
              "    <tr>\n",
              "      <th>4</th>\n",
              "      <td>این سعودی های احمق کی باید بفهمن ک با پول نمیشود غیرت ایرانی را شکست داد</td>\n",
              "      <td>0.0</td>\n",
              "      <td>1</td>\n",
              "      <td>1</td>\n",
              "      <td>https://twitter.com/basirat 1988/status/1312462231548821504</td>\n",
              "    </tr>\n",
              "    <tr>\n",
              "      <th>5</th>\n",
              "      <td>این ایرانی های که از \"جو بایدن\" حمایت میکنن\\nهمون احمق هایین که رفتن به روحانی رای دادن و هنوز هم با ادعای روشنفکری تز صادر میکنن\\n\\nاینارو ول کنید خر و با حرف نمیشه آدم کرد!\\n trump2020\\n make iran great again</td>\n",
              "      <td>1.0</td>\n",
              "      <td></td>\n",
              "      <td>1</td>\n",
              "      <td>https://twitter.com/NaHann 13/status/1311912687136370688</td>\n",
              "    </tr>\n",
              "    <tr>\n",
              "      <th>6</th>\n",
              "      <td>چقدر رذل و پست هست این اردلان \\nخاک تو سرت کنن که طاقت شنیدن نظرات مخالف رو نداری \\nخاک تو سر پدر مادرت که حرامزاده ای مثل تو رو پس انداختن\\nحالا چرا منو بلاک کردی پوفیوز ؟ \\nسری پیش خیلی درد داشت ، نه ؟! Smiling face with open mouth and cold sweat بی بته و بی وجودی ت</td>\n",
              "      <td>1.0</td>\n",
              "      <td>1</td>\n",
              "      <td>1</td>\n",
              "      <td>https://twitter.com/mashrouteh khah/status/1314097724233584640</td>\n",
              "    </tr>\n",
              "    <tr>\n",
              "      <th>7</th>\n",
              "      <td>چرا همه زن داییا بد جنسن ؟؟؟واقعا یکی بیاد بمن بگه زن داییش خوبه جزو معجزاته همه مینالن:////</td>\n",
              "      <td>1.0</td>\n",
              "      <td>1</td>\n",
              "      <td>1</td>\n",
              "      <td>https://twitter.com/paloon2/status/1314105637555638272</td>\n",
              "    </tr>\n",
              "    <tr>\n",
              "      <th>8</th>\n",
              "      <td>کاش همجنسباز بودم این همجنسگراها رو میکردم</td>\n",
              "      <td>1.0</td>\n",
              "      <td>1</td>\n",
              "      <td>1</td>\n",
              "      <td>https://twitter.com/Laughinglory/status/1311405547401474048</td>\n",
              "    </tr>\n",
              "    <tr>\n",
              "      <th>9</th>\n",
              "      <td>وااااى تازه اين كثافتاى همجنسباز رنگين كمون رو هم براى خودشون مصادره كردن... هر وقت به آسمون نگاه ميكنم و رنگين كمون كيبينم جيغ ميكشم :( آخه تا كى تبعيض</td>\n",
              "      <td>1.0</td>\n",
              "      <td>1</td>\n",
              "      <td>1</td>\n",
              "      <td>https://twitter.com/itsgrindelwald/status/1313461936730693633</td>\n",
              "    </tr>\n",
              "    <tr>\n",
              "      <th>10</th>\n",
              "      <td>اگه امریکا زندگی میکرد با این تیپ تخمی میتونس بره تو رستورانای بین راهی واسه راننده کامیونا ساک بزنه و پول خوبی در بیاره</td>\n",
              "      <td>1.0</td>\n",
              "      <td>1</td>\n",
              "      <td>1</td>\n",
              "      <td>https://twitter.com/XCallMeWhiskyX/status/1182231436453191680</td>\n",
              "    </tr>\n",
              "    <tr>\n",
              "      <th>11</th>\n",
              "      <td>اينا زن مسلمون ناقص العقل هستن، نميدونه سواد چي هست داره از پايين سخنراني ميكنه. خود اسلام هم آدم حسابشون نميكنهFace with tears of joyFace with tears of joy</td>\n",
              "      <td>1.0</td>\n",
              "      <td>1</td>\n",
              "      <td>1</td>\n",
              "      <td>https://twitter.com/memol koochike/status/1311543753950269441</td>\n",
              "    </tr>\n",
              "    <tr>\n",
              "      <th>12</th>\n",
              "      <td>در ناقص العقل بودن زن همين بس كه ميگي سربازي مردستيزي نيس</td>\n",
              "      <td>1.0</td>\n",
              "      <td>1</td>\n",
              "      <td>1</td>\n",
              "      <td>https://twitter.com/qeble alam/status/1313841992087089152</td>\n",
              "    </tr>\n",
              "    <tr>\n",
              "      <th>13</th>\n",
              "      <td>طرفداریِ زنِ ایرانی از فوتبالِ جمهوری اسلامی، مانند طرفداریِ زن از اسلام است؛\\nطرفداریِ گوسفند از قصاب!</td>\n",
              "      <td>1.0</td>\n",
              "      <td>1</td>\n",
              "      <td>1</td>\n",
              "      <td>https://twitter.com/MemAR1983/status/1312713372404797442</td>\n",
              "    </tr>\n",
              "    <tr>\n",
              "      <th>14</th>\n",
              "      <td>امام جمعه اصفهان گفته: فضای جامعه باید برای زنانی که کشف‌حجاب می‌کنن ناامن بشه.</td>\n",
              "      <td>1.0</td>\n",
              "      <td>1</td>\n",
              "      <td>1</td>\n",
              "      <td>https://twitter.com/EbneHava/status/1312115291095146496</td>\n",
              "    </tr>\n",
              "    <tr>\n",
              "      <th>15</th>\n",
              "      <td>مرد ایرانی کسخلی چیزی هستی که میخای زن بگیری و برینی تو مال و جان و اعصاب و روان و زندگی و آبروی خودت؟وقتی زن های الان نه با دستشون لباس میشورن نه با دستشون ظرف میشورن نه خیاطی بلدن نه چیزی از انسانیت حالیشونه و همیشه به فکر دادن به یکی دیگه هستن چرا خودتو میخای قورومساق بکنی؟</td>\n",
              "      <td>1.0</td>\n",
              "      <td>1</td>\n",
              "      <td>1</td>\n",
              "      <td>https://twitter.com/khodamamkhodeti/status/1313023707825147905</td>\n",
              "    </tr>\n",
              "    <tr>\n",
              "      <th>16</th>\n",
              "      <td>درود به شرف این شیر زن ایرانی که این کشتزار خانم (!)را سرجاش نشاند...،</td>\n",
              "      <td>1.0</td>\n",
              "      <td>0</td>\n",
              "      <td>1</td>\n",
              "      <td>https://twitter.com/K91Ol/status/1313812041921069058</td>\n",
              "    </tr>\n",
              "    <tr>\n",
              "      <th>17</th>\n",
              "      <td>قیافت جون میده واس اسید</td>\n",
              "      <td>1.0</td>\n",
              "      <td>1</td>\n",
              "      <td>1</td>\n",
              "      <td>https://twitter.com/Aydin29025828/status/1313255192213757954</td>\n",
              "    </tr>\n",
              "    <tr>\n",
              "      <th>18</th>\n",
              "      <td>خدمت معصومه علینژاد میفرمایم که چه رژیم عوض بشه یا نشه تو رو هر وقت و هر جایی ببینم میکشمت..قول میدم</td>\n",
              "      <td>1.0</td>\n",
              "      <td>1</td>\n",
              "      <td>1</td>\n",
              "      <td>https://twitter.com/Alijavanmard110/status/1021269950240100352</td>\n",
              "    </tr>\n",
              "    <tr>\n",
              "      <th>19</th>\n",
              "      <td>مرگ بر وطن فروش\\n مسیح علینژاد اگه پیدات کنم اول میکشمت بعد گوشت کثیفتو میدم به سگ هام بخورن\\nپاکی و نجابت رو از دخترای ایرانی چرا میگیری؟</td>\n",
              "      <td>1.0</td>\n",
              "      <td>1</td>\n",
              "      <td>1</td>\n",
              "      <td>https://twitter.com/ElectroSpider/status/1239130039628599296</td>\n",
              "    </tr>\n",
              "  </tbody>\n",
              "</table>\n",
              "</div>"
            ],
            "text/plain": [
              "                                                                                                                                                                                                                                                                                     text  ...                                                            link\n",
              "0                                                                                                                                                                                                               این مادرجنده رو هر جا دیدید ازش بپرسید زیر پنکه که جرت دادن خوب شدی یا نه  ...          https://twitter.com/kaveh52/status/1313827917420355584\n",
              "1                                                                                                                                                                                                                                            ترک خر رو چه به این گه خوریا برگرد به طویلت.  ...        https://twitter.com/Dan torke/status/1313565809457934337\n",
              "2                                                                                                                                                                                                                                 خب جنگ ترک های خر با ارامنه ی نمیدونم چیچی به کجا رسید؟  ...        https://twitter.com/denushhhh/status/1312039680070877185\n",
              "3                                                                               یکی که \\nبرام قرمه سبزی بپزه\\nبره سرکار پول بیاره\\nاز سرکار اومد . مُشت و مالم بده\\nپاهامو بشوره\\nخریدای خونه رو بکنه\\nنون بگیره\\nچیـــــه؟Thinking face همونم نداریمPleading faceFrowning faceWeary face  ...    https://twitter.com/Alaki89950006/status/1311560774154772481\n",
              "4                                                                                                                                                                                                                این سعودی های احمق کی باید بفهمن ک با پول نمیشود غیرت ایرانی را شکست داد  ...     https://twitter.com/basirat 1988/status/1312462231548821504\n",
              "5                                                                      این ایرانی های که از \"جو بایدن\" حمایت میکنن\\nهمون احمق هایین که رفتن به روحانی رای دادن و هنوز هم با ادعای روشنفکری تز صادر میکنن\\n\\nاینارو ول کنید خر و با حرف نمیشه آدم کرد!\\n trump2020\\n make iran great again  ...        https://twitter.com/NaHann 13/status/1311912687136370688\n",
              "6            چقدر رذل و پست هست این اردلان \\nخاک تو سرت کنن که طاقت شنیدن نظرات مخالف رو نداری \\nخاک تو سر پدر مادرت که حرامزاده ای مثل تو رو پس انداختن\\nحالا چرا منو بلاک کردی پوفیوز ؟ \\nسری پیش خیلی درد داشت ، نه ؟! Smiling face with open mouth and cold sweat بی بته و بی وجودی ت  ...  https://twitter.com/mashrouteh khah/status/1314097724233584640\n",
              "7                                                                                                                                                                                            چرا همه زن داییا بد جنسن ؟؟؟واقعا یکی بیاد بمن بگه زن داییش خوبه جزو معجزاته همه مینالن:////  ...          https://twitter.com/paloon2/status/1314105637555638272\n",
              "8                                                                                                                                                                                                                                              کاش همجنسباز بودم این همجنسگراها رو میکردم  ...     https://twitter.com/Laughinglory/status/1311405547401474048\n",
              "9                                                                                                                                وااااى تازه اين كثافتاى همجنسباز رنگين كمون رو هم براى خودشون مصادره كردن... هر وقت به آسمون نگاه ميكنم و رنگين كمون كيبينم جيغ ميكشم :( آخه تا كى تبعيض  ...   https://twitter.com/itsgrindelwald/status/1313461936730693633\n",
              "10                                                                                                                                                               اگه امریکا زندگی میکرد با این تیپ تخمی میتونس بره تو رستورانای بین راهی واسه راننده کامیونا ساک بزنه و پول خوبی در بیاره  ...   https://twitter.com/XCallMeWhiskyX/status/1182231436453191680\n",
              "11                                                                                                                           اينا زن مسلمون ناقص العقل هستن، نميدونه سواد چي هست داره از پايين سخنراني ميكنه. خود اسلام هم آدم حسابشون نميكنهFace with tears of joyFace with tears of joy  ...   https://twitter.com/memol koochike/status/1311543753950269441\n",
              "12                                                                                                                                                                                                                              در ناقص العقل بودن زن همين بس كه ميگي سربازي مردستيزي نيس  ...       https://twitter.com/qeble alam/status/1313841992087089152\n",
              "13                                                                                                                                                                                طرفداریِ زنِ ایرانی از فوتبالِ جمهوری اسلامی، مانند طرفداریِ زن از اسلام است؛\\nطرفداریِ گوسفند از قصاب!  ...        https://twitter.com/MemAR1983/status/1312713372404797442\n",
              "14                                                                                                                                                                                                        امام جمعه اصفهان گفته: فضای جامعه باید برای زنانی که کشف‌حجاب می‌کنن ناامن بشه.  ...         https://twitter.com/EbneHava/status/1312115291095146496\n",
              "15  مرد ایرانی کسخلی چیزی هستی که میخای زن بگیری و برینی تو مال و جان و اعصاب و روان و زندگی و آبروی خودت؟وقتی زن های الان نه با دستشون لباس میشورن نه با دستشون ظرف میشورن نه خیاطی بلدن نه چیزی از انسانیت حالیشونه و همیشه به فکر دادن به یکی دیگه هستن چرا خودتو میخای قورومساق بکنی؟  ...  https://twitter.com/khodamamkhodeti/status/1313023707825147905\n",
              "16                                                                                                                                                                                                                 درود به شرف این شیر زن ایرانی که این کشتزار خانم (!)را سرجاش نشاند...،  ...            https://twitter.com/K91Ol/status/1313812041921069058\n",
              "17                                                                                                                                                                                                                                                                قیافت جون میده واس اسید  ...    https://twitter.com/Aydin29025828/status/1313255192213757954\n",
              "18                                                                                                                                                                                   خدمت معصومه علینژاد میفرمایم که چه رژیم عوض بشه یا نشه تو رو هر وقت و هر جایی ببینم میکشمت..قول میدم  ...  https://twitter.com/Alijavanmard110/status/1021269950240100352\n",
              "19                                                                                                                                             مرگ بر وطن فروش\\n مسیح علینژاد اگه پیدات کنم اول میکشمت بعد گوشت کثیفتو میدم به سگ هام بخورن\\nپاکی و نجابت رو از دخترای ایرانی چرا میگیری؟  ...    https://twitter.com/ElectroSpider/status/1239130039628599296\n",
              "\n",
              "[20 rows x 5 columns]"
            ]
          },
          "metadata": {
            "tags": []
          },
          "execution_count": 108
        }
      ]
    },
    {
      "cell_type": "code",
      "metadata": {
        "colab": {
          "base_uri": "https://localhost:8080/",
          "height": 594
        },
        "id": "AZmy_bfGEU_S",
        "outputId": "9f38ccac-222b-4046-9a43-4e36abfc5c2b"
      },
      "source": [
        "filtered_df.tail()"
      ],
      "execution_count": null,
      "outputs": [
        {
          "output_type": "execute_result",
          "data": {
            "text/html": [
              "<div>\n",
              "<style scoped>\n",
              "    .dataframe tbody tr th:only-of-type {\n",
              "        vertical-align: middle;\n",
              "    }\n",
              "\n",
              "    .dataframe tbody tr th {\n",
              "        vertical-align: top;\n",
              "    }\n",
              "\n",
              "    .dataframe thead th {\n",
              "        text-align: right;\n",
              "    }\n",
              "</style>\n",
              "<table border=\"1\" class=\"dataframe\">\n",
              "  <thead>\n",
              "    <tr style=\"text-align: right;\">\n",
              "      <th></th>\n",
              "      <th>text</th>\n",
              "      <th>ref1</th>\n",
              "      <th>ref2</th>\n",
              "      <th>ref3</th>\n",
              "      <th>link</th>\n",
              "    </tr>\n",
              "  </thead>\n",
              "  <tbody>\n",
              "    <tr>\n",
              "      <th>1990</th>\n",
              "      <td>من ایشون میشناسم تو اینستام پیج داره تا جایی که دیدم پیشقدم برای هر کاری از فقرا تا بیماری خاص تا حیوانات و...... بود خیلی هام بهش کمک میکنند و قدم به قدم برای خرید لایو میزاره البته بگم شک در این نیست که جزوی از ج.ا ولی چیزی که دیدم و چیزی که پیگیری کردم تا الان کارش خوب بود</td>\n",
              "      <td>0.0</td>\n",
              "      <td>0</td>\n",
              "      <td>0</td>\n",
              "      <td>https://twitter.com/Naslsokhte1/status/1150193068458426369</td>\n",
              "    </tr>\n",
              "    <tr>\n",
              "      <th>1991</th>\n",
              "      <td>پسرا، هم جنسا، چرا  دختر هرچی  بددهن باشه و کصشعر بگه، بیشتر میپسندین؟\\n تو شورتتون نگهش دارین لامصبا!\\n تهاجم  ایرانی بازی</td>\n",
              "      <td>0.0</td>\n",
              "      <td>1</td>\n",
              "      <td>0</td>\n",
              "      <td>https://twitter.com/Merajsn/status/1150193012535939072</td>\n",
              "    </tr>\n",
              "    <tr>\n",
              "      <th>1992</th>\n",
              "      <td>هدایت و بازداشت شده است.\\nامارات سیاست سکوت را در پیش گرفته است برخی منابع خبری حوزه خلیج فارس می گویند: این کشتی به سادگی توسط سپاه بازداشت شده و آسیب دیده است. ایالات متحده می گوید، امکان برقراری تماس با خدمه کشتی وجود ندارد آخرین موقعیت این کشتی در جزیره قشم ثبت شده است .</td>\n",
              "      <td>0.0</td>\n",
              "      <td>0</td>\n",
              "      <td>0</td>\n",
              "      <td>https://twitter.com/MadariSarzamin/status/1150917950393765889</td>\n",
              "    </tr>\n",
              "    <tr>\n",
              "      <th>1993</th>\n",
              "      <td>عزیزان، کسی گفته کاربران توئیتر مستجاب الدعوه اند؟ از اولیا الله اند؟ نفسشون حقه، دعاشون شفاست یا چی که همه اش التماس دعا و صلوات و اینها دارید! حالا امروز یکی تقاضای نماز یوم النمیدونم چی چی هم داشت. \\n بابا بی خیال عزیزان، دو دقیقه اومدیم معاشرت کنیم! مسجد دو کوچه پایین‌تره!</td>\n",
              "      <td>0.0</td>\n",
              "      <td>0</td>\n",
              "      <td>0</td>\n",
              "      <td>https://twitter.com/LeylaNarimani/status/1150917920567881728</td>\n",
              "    </tr>\n",
              "    <tr>\n",
              "      <th>1994</th>\n",
              "      <td>میگن هیچ چیزی بدون دلیل نیست\\nهمه چی دست به دست هم میده تا اون اتفاق بیوفته\\nامشب بدون برنامه الکل بخورم ، کلیدام رو جا بذارم تو خیابون بمونم، عموم همون ساعت جووین شه تلگرام  تکست بدم بهش ، خانومش مسافرت باشه بشینیم تا الان حرف بزنیم و مخشم بزنم که سرمایه کارم رو بده و قبول کنه :)</td>\n",
              "      <td>0.0</td>\n",
              "      <td>0</td>\n",
              "      <td>0</td>\n",
              "      <td>https://twitter.com/themifar/status/1150917824669540353</td>\n",
              "    </tr>\n",
              "  </tbody>\n",
              "</table>\n",
              "</div>"
            ],
            "text/plain": [
              "                                                                                                                                                                                                                                                                                           text  ...                                                           link\n",
              "1990       من ایشون میشناسم تو اینستام پیج داره تا جایی که دیدم پیشقدم برای هر کاری از فقرا تا بیماری خاص تا حیوانات و...... بود خیلی هام بهش کمک میکنند و قدم به قدم برای خرید لایو میزاره البته بگم شک در این نیست که جزوی از ج.ا ولی چیزی که دیدم و چیزی که پیگیری کردم تا الان کارش خوب بود  ...     https://twitter.com/Naslsokhte1/status/1150193068458426369\n",
              "1991                                                                                                                                                                پسرا، هم جنسا، چرا  دختر هرچی  بددهن باشه و کصشعر بگه، بیشتر میپسندین؟\\n تو شورتتون نگهش دارین لامصبا!\\n تهاجم  ایرانی بازی  ...         https://twitter.com/Merajsn/status/1150193012535939072\n",
              "1992        هدایت و بازداشت شده است.\\nامارات سیاست سکوت را در پیش گرفته است برخی منابع خبری حوزه خلیج فارس می گویند: این کشتی به سادگی توسط سپاه بازداشت شده و آسیب دیده است. ایالات متحده می گوید، امکان برقراری تماس با خدمه کشتی وجود ندارد آخرین موقعیت این کشتی در جزیره قشم ثبت شده است .  ...  https://twitter.com/MadariSarzamin/status/1150917950393765889\n",
              "1993      عزیزان، کسی گفته کاربران توئیتر مستجاب الدعوه اند؟ از اولیا الله اند؟ نفسشون حقه، دعاشون شفاست یا چی که همه اش التماس دعا و صلوات و اینها دارید! حالا امروز یکی تقاضای نماز یوم النمیدونم چی چی هم داشت. \\n بابا بی خیال عزیزان، دو دقیقه اومدیم معاشرت کنیم! مسجد دو کوچه پایین‌تره!  ...   https://twitter.com/LeylaNarimani/status/1150917920567881728\n",
              "1994  میگن هیچ چیزی بدون دلیل نیست\\nهمه چی دست به دست هم میده تا اون اتفاق بیوفته\\nامشب بدون برنامه الکل بخورم ، کلیدام رو جا بذارم تو خیابون بمونم، عموم همون ساعت جووین شه تلگرام  تکست بدم بهش ، خانومش مسافرت باشه بشینیم تا الان حرف بزنیم و مخشم بزنم که سرمایه کارم رو بده و قبول کنه :)  ...        https://twitter.com/themifar/status/1150917824669540353\n",
              "\n",
              "[5 rows x 5 columns]"
            ]
          },
          "metadata": {
            "tags": []
          },
          "execution_count": 109
        }
      ]
    },
    {
      "cell_type": "code",
      "metadata": {
        "colab": {
          "base_uri": "https://localhost:8080/",
          "height": 425
        },
        "id": "BI1h5Uv-Ehyq",
        "outputId": "26774570-3c9c-40e7-9db6-f81fe61da74b"
      },
      "source": [
        "raw_df_2.tail()"
      ],
      "execution_count": null,
      "outputs": [
        {
          "output_type": "execute_result",
          "data": {
            "text/html": [
              "<div>\n",
              "<style scoped>\n",
              "    .dataframe tbody tr th:only-of-type {\n",
              "        vertical-align: middle;\n",
              "    }\n",
              "\n",
              "    .dataframe tbody tr th {\n",
              "        vertical-align: top;\n",
              "    }\n",
              "\n",
              "    .dataframe thead th {\n",
              "        text-align: right;\n",
              "    }\n",
              "</style>\n",
              "<table border=\"1\" class=\"dataframe\">\n",
              "  <thead>\n",
              "    <tr style=\"text-align: right;\">\n",
              "      <th></th>\n",
              "      <th>text</th>\n",
              "      <th>ref1</th>\n",
              "      <th>ref2</th>\n",
              "      <th>ref3</th>\n",
              "      <th>link</th>\n",
              "    </tr>\n",
              "  </thead>\n",
              "  <tbody>\n",
              "    <tr>\n",
              "      <th>3202</th>\n",
              "      <td>خداوندا به آبروی حضرت زهراسلام الله علیها \\nتمامی این بندگان عزیزت که دراین گرمای شدید ، رعایت حجاب وعفاف میکنند را\\nاز عذاب دنیا وآخرت محافظت بفرما\\n حجاب</td>\n",
              "      <td>0</td>\n",
              "      <td>0.0</td>\n",
              "      <td>0.0</td>\n",
              "      <td>https://twitter.com/khadeem313/status/1145844379438989312</td>\n",
              "    </tr>\n",
              "    <tr>\n",
              "      <th>3203</th>\n",
              "      <td>تو هر دعوا سكرين اون بوس كه تاريخش مال سه چهار سال پيش هست ر بكوبن تو سرش. \\nخيلي از كاربران مثل خودم زير دوسال اينجا هستيم. و جز زحمت و تلاش طرفين دعواها چيزي نديديم. \\nنميدونم شايد بعضي از اين باندها بعد از ترند شدن ها، يه حس مغرور شدن بهشون دست ميده. و هر باند فكر كنه كه خودشون</td>\n",
              "      <td>0</td>\n",
              "      <td>0.0</td>\n",
              "      <td>0.0</td>\n",
              "      <td>https://twitter.com/freedom92979546/status/1145844341216358403</td>\n",
              "    </tr>\n",
              "    <tr>\n",
              "      <th>3204</th>\n",
              "      <td>بزرگ مرد تاریخ مصر انور سادات روحش شاد .</td>\n",
              "      <td>0</td>\n",
              "      <td>0.0</td>\n",
              "      <td>0.0</td>\n",
              "      <td>https://twitter.com/kianizad/status/1145844317941948417</td>\n",
              "    </tr>\n",
              "    <tr>\n",
              "      <th>3205</th>\n",
              "      <td>نمی‌خوام حالا حرف سکسیستی/ریسیستی بزنم.\\n[حرف سکسیستی/ریسیستی می‌زند.]</td>\n",
              "      <td>0</td>\n",
              "      <td>0.0</td>\n",
              "      <td>0.0</td>\n",
              "      <td>https://twitter.com/mehdimk/status/1145844294735015936</td>\n",
              "    </tr>\n",
              "    <tr>\n",
              "      <th>3206</th>\n",
              "      <td>یکی از سیاستهای کثیف اسلام که میتواند رقیبی برای دروغ مصلحتی (اسلامی) باشد همین روش عصبانی کردن دشمنان و مخالفان است ک جمهوری اسلامی در پیش گرفته است</td>\n",
              "      <td>0</td>\n",
              "      <td>0.0</td>\n",
              "      <td>0.0</td>\n",
              "      <td>https://twitter.com/pabedar/status/1145843920536047617</td>\n",
              "    </tr>\n",
              "  </tbody>\n",
              "</table>\n",
              "</div>"
            ],
            "text/plain": [
              "                                                                                                                                                                                                                                                                                           text  ...                                                            link\n",
              "3202                                                                                                                                خداوندا به آبروی حضرت زهراسلام الله علیها \\nتمامی این بندگان عزیزت که دراین گرمای شدید ، رعایت حجاب وعفاف میکنند را\\nاز عذاب دنیا وآخرت محافظت بفرما\\n حجاب  ...       https://twitter.com/khadeem313/status/1145844379438989312\n",
              "3203  تو هر دعوا سكرين اون بوس كه تاريخش مال سه چهار سال پيش هست ر بكوبن تو سرش. \\nخيلي از كاربران مثل خودم زير دوسال اينجا هستيم. و جز زحمت و تلاش طرفين دعواها چيزي نديديم. \\nنميدونم شايد بعضي از اين باندها بعد از ترند شدن ها، يه حس مغرور شدن بهشون دست ميده. و هر باند فكر كنه كه خودشون  ...  https://twitter.com/freedom92979546/status/1145844341216358403\n",
              "3204                                                                                                                                                                                                                                                   بزرگ مرد تاریخ مصر انور سادات روحش شاد .  ...         https://twitter.com/kianizad/status/1145844317941948417\n",
              "3205                                                                                                                                                                                                                     نمی‌خوام حالا حرف سکسیستی/ریسیستی بزنم.\\n[حرف سکسیستی/ریسیستی می‌زند.]  ...          https://twitter.com/mehdimk/status/1145844294735015936\n",
              "3206                                                                                                                                      یکی از سیاستهای کثیف اسلام که میتواند رقیبی برای دروغ مصلحتی (اسلامی) باشد همین روش عصبانی کردن دشمنان و مخالفان است ک جمهوری اسلامی در پیش گرفته است  ...          https://twitter.com/pabedar/status/1145843920536047617\n",
              "\n",
              "[5 rows x 5 columns]"
            ]
          },
          "metadata": {
            "tags": []
          },
          "execution_count": 110
        }
      ]
    },
    {
      "cell_type": "code",
      "metadata": {
        "id": "XUws6NOlF0vS"
      },
      "source": [
        "final_df = raw_df_2.append(filtered_df)"
      ],
      "execution_count": null,
      "outputs": []
    },
    {
      "cell_type": "code",
      "metadata": {
        "id": "9MWDS9DTGNGH"
      },
      "source": [
        "final_df.reset_index(inplace=True,  drop=True)"
      ],
      "execution_count": null,
      "outputs": []
    },
    {
      "cell_type": "code",
      "metadata": {
        "colab": {
          "base_uri": "https://localhost:8080/",
          "height": 408
        },
        "id": "jrOLALl0GPBe",
        "outputId": "32865cb5-bb04-4846-b83a-326976a630ee"
      },
      "source": [
        "final_df.head()"
      ],
      "execution_count": null,
      "outputs": [
        {
          "output_type": "execute_result",
          "data": {
            "text/html": [
              "<div>\n",
              "<style scoped>\n",
              "    .dataframe tbody tr th:only-of-type {\n",
              "        vertical-align: middle;\n",
              "    }\n",
              "\n",
              "    .dataframe tbody tr th {\n",
              "        vertical-align: top;\n",
              "    }\n",
              "\n",
              "    .dataframe thead th {\n",
              "        text-align: right;\n",
              "    }\n",
              "</style>\n",
              "<table border=\"1\" class=\"dataframe\">\n",
              "  <thead>\n",
              "    <tr style=\"text-align: right;\">\n",
              "      <th></th>\n",
              "      <th>text</th>\n",
              "      <th>ref1</th>\n",
              "      <th>ref2</th>\n",
              "      <th>ref3</th>\n",
              "      <th>link</th>\n",
              "    </tr>\n",
              "  </thead>\n",
              "  <tbody>\n",
              "    <tr>\n",
              "      <th>0</th>\n",
              "      <td>بچه های عزیز این کشتزار منو بلاک کرده یکی که دوست داره نظر منو بهش منشن کنه.</td>\n",
              "      <td>1.0</td>\n",
              "      <td>0</td>\n",
              "      <td>1</td>\n",
              "      <td>https://twitter.com/DrErovay/status/1249849840453980161</td>\n",
              "    </tr>\n",
              "    <tr>\n",
              "      <th>1</th>\n",
              "      <td>سیاسیون محترم از  نمایندگان گرفته تا  شهرداران برخی  نواحی در مناطق شهری و...\\nچرافکر میکنید پیام  تبریک و  تسلیت شما مهمه برای مردم؟\\nبه مدیران رسانه ها با کلی افاده چنین پیام هایی ارسال میکنید که پوشش بدهند!\\nخواهشا درک کنید که پیام تبریک و تسلیت شما دردی از مردم دوا نخواهد کرد</td>\n",
              "      <td>0.0</td>\n",
              "      <td>0</td>\n",
              "      <td>0</td>\n",
              "      <td>https://twitter.com/atefeh heidari/status/1007411884167921664</td>\n",
              "    </tr>\n",
              "    <tr>\n",
              "      <th>2</th>\n",
              "      <td>با اعدام مخالفم \\n\\nکاش راهکاری برای نابودی و انقراض اخوند و مذهبی متعصب جنایتکار و مفسدان و خائنان سیاسی .اقتصادی و اجتماعی پیدا میشد \\nمانند \\nسقوط شهاب سنگ در حوزه علمیه .پایگاه بسیج که خدا مسئول شاخته شود</td>\n",
              "      <td>1.0</td>\n",
              "      <td>0</td>\n",
              "      <td>1</td>\n",
              "      <td>https://twitter.com/fariborz c/status/1012485751181922304</td>\n",
              "    </tr>\n",
              "    <tr>\n",
              "      <th>3</th>\n",
              "      <td>دونوع آدم داریم : یکی اونکه هیچی به کیرش نیست و از هفت دولت آزاده؛ یکی هم اونکه همه چی به کیرشه و تازه چیزایی که واسه دسته اول مهم نیست هم به کیرش میگیره و کلا آدم کسخلیه و هیچوقت تو هیچ سگدونی‌ای هیچ گهی نمیشه، جزو دسته دوم نباشید:*</td>\n",
              "      <td>1.0</td>\n",
              "      <td>0</td>\n",
              "      <td>0</td>\n",
              "      <td>https://twitter.com/llil ili lill/status/1019008718837571584</td>\n",
              "    </tr>\n",
              "    <tr>\n",
              "      <th>4</th>\n",
              "      <td>هيچ زنداني بدتر از ،دختر بودن، نيست....</td>\n",
              "      <td>1.0</td>\n",
              "      <td>0</td>\n",
              "      <td>0</td>\n",
              "      <td>https://twitter.com/virgoOoOol/status/1023357260955889665</td>\n",
              "    </tr>\n",
              "  </tbody>\n",
              "</table>\n",
              "</div>"
            ],
            "text/plain": [
              "                                                                                                                                                                                                                                                                                        text  ...                                                           link\n",
              "0                                                                                                                                                                                                               بچه های عزیز این کشتزار منو بلاک کرده یکی که دوست داره نظر منو بهش منشن کنه.  ...        https://twitter.com/DrErovay/status/1249849840453980161\n",
              "1   سیاسیون محترم از  نمایندگان گرفته تا  شهرداران برخی  نواحی در مناطق شهری و...\\nچرافکر میکنید پیام  تبریک و  تسلیت شما مهمه برای مردم؟\\nبه مدیران رسانه ها با کلی افاده چنین پیام هایی ارسال میکنید که پوشش بدهند!\\nخواهشا درک کنید که پیام تبریک و تسلیت شما دردی از مردم دوا نخواهد کرد  ...  https://twitter.com/atefeh heidari/status/1007411884167921664\n",
              "2                                                                           با اعدام مخالفم \\n\\nکاش راهکاری برای نابودی و انقراض اخوند و مذهبی متعصب جنایتکار و مفسدان و خائنان سیاسی .اقتصادی و اجتماعی پیدا میشد \\nمانند \\nسقوط شهاب سنگ در حوزه علمیه .پایگاه بسیج که خدا مسئول شاخته شود  ...      https://twitter.com/fariborz c/status/1012485751181922304\n",
              "3                                                  دونوع آدم داریم : یکی اونکه هیچی به کیرش نیست و از هفت دولت آزاده؛ یکی هم اونکه همه چی به کیرشه و تازه چیزایی که واسه دسته اول مهم نیست هم به کیرش میگیره و کلا آدم کسخلیه و هیچوقت تو هیچ سگدونی‌ای هیچ گهی نمیشه، جزو دسته دوم نباشید:*  ...   https://twitter.com/llil ili lill/status/1019008718837571584\n",
              "4                                                                                                                                                                                                                                                    هيچ زنداني بدتر از ،دختر بودن، نيست....  ...      https://twitter.com/virgoOoOol/status/1023357260955889665\n",
              "\n",
              "[5 rows x 5 columns]"
            ]
          },
          "metadata": {
            "tags": []
          },
          "execution_count": 114
        }
      ]
    },
    {
      "cell_type": "code",
      "metadata": {
        "colab": {
          "base_uri": "https://localhost:8080/",
          "height": 594
        },
        "id": "XFioTm0RGcR9",
        "outputId": "e99f7480-9584-4fff-830d-c574b16557b0"
      },
      "source": [
        "final_df.tail()"
      ],
      "execution_count": null,
      "outputs": [
        {
          "output_type": "execute_result",
          "data": {
            "text/html": [
              "<div>\n",
              "<style scoped>\n",
              "    .dataframe tbody tr th:only-of-type {\n",
              "        vertical-align: middle;\n",
              "    }\n",
              "\n",
              "    .dataframe tbody tr th {\n",
              "        vertical-align: top;\n",
              "    }\n",
              "\n",
              "    .dataframe thead th {\n",
              "        text-align: right;\n",
              "    }\n",
              "</style>\n",
              "<table border=\"1\" class=\"dataframe\">\n",
              "  <thead>\n",
              "    <tr style=\"text-align: right;\">\n",
              "      <th></th>\n",
              "      <th>text</th>\n",
              "      <th>ref1</th>\n",
              "      <th>ref2</th>\n",
              "      <th>ref3</th>\n",
              "      <th>link</th>\n",
              "    </tr>\n",
              "  </thead>\n",
              "  <tbody>\n",
              "    <tr>\n",
              "      <th>5196</th>\n",
              "      <td>من ایشون میشناسم تو اینستام پیج داره تا جایی که دیدم پیشقدم برای هر کاری از فقرا تا بیماری خاص تا حیوانات و...... بود خیلی هام بهش کمک میکنند و قدم به قدم برای خرید لایو میزاره البته بگم شک در این نیست که جزوی از ج.ا ولی چیزی که دیدم و چیزی که پیگیری کردم تا الان کارش خوب بود</td>\n",
              "      <td>0.0</td>\n",
              "      <td>0</td>\n",
              "      <td>0</td>\n",
              "      <td>https://twitter.com/Naslsokhte1/status/1150193068458426369</td>\n",
              "    </tr>\n",
              "    <tr>\n",
              "      <th>5197</th>\n",
              "      <td>پسرا، هم جنسا، چرا  دختر هرچی  بددهن باشه و کصشعر بگه، بیشتر میپسندین؟\\n تو شورتتون نگهش دارین لامصبا!\\n تهاجم  ایرانی بازی</td>\n",
              "      <td>0.0</td>\n",
              "      <td>1</td>\n",
              "      <td>0</td>\n",
              "      <td>https://twitter.com/Merajsn/status/1150193012535939072</td>\n",
              "    </tr>\n",
              "    <tr>\n",
              "      <th>5198</th>\n",
              "      <td>هدایت و بازداشت شده است.\\nامارات سیاست سکوت را در پیش گرفته است برخی منابع خبری حوزه خلیج فارس می گویند: این کشتی به سادگی توسط سپاه بازداشت شده و آسیب دیده است. ایالات متحده می گوید، امکان برقراری تماس با خدمه کشتی وجود ندارد آخرین موقعیت این کشتی در جزیره قشم ثبت شده است .</td>\n",
              "      <td>0.0</td>\n",
              "      <td>0</td>\n",
              "      <td>0</td>\n",
              "      <td>https://twitter.com/MadariSarzamin/status/1150917950393765889</td>\n",
              "    </tr>\n",
              "    <tr>\n",
              "      <th>5199</th>\n",
              "      <td>عزیزان، کسی گفته کاربران توئیتر مستجاب الدعوه اند؟ از اولیا الله اند؟ نفسشون حقه، دعاشون شفاست یا چی که همه اش التماس دعا و صلوات و اینها دارید! حالا امروز یکی تقاضای نماز یوم النمیدونم چی چی هم داشت. \\n بابا بی خیال عزیزان، دو دقیقه اومدیم معاشرت کنیم! مسجد دو کوچه پایین‌تره!</td>\n",
              "      <td>0.0</td>\n",
              "      <td>0</td>\n",
              "      <td>0</td>\n",
              "      <td>https://twitter.com/LeylaNarimani/status/1150917920567881728</td>\n",
              "    </tr>\n",
              "    <tr>\n",
              "      <th>5200</th>\n",
              "      <td>میگن هیچ چیزی بدون دلیل نیست\\nهمه چی دست به دست هم میده تا اون اتفاق بیوفته\\nامشب بدون برنامه الکل بخورم ، کلیدام رو جا بذارم تو خیابون بمونم، عموم همون ساعت جووین شه تلگرام  تکست بدم بهش ، خانومش مسافرت باشه بشینیم تا الان حرف بزنیم و مخشم بزنم که سرمایه کارم رو بده و قبول کنه :)</td>\n",
              "      <td>0.0</td>\n",
              "      <td>0</td>\n",
              "      <td>0</td>\n",
              "      <td>https://twitter.com/themifar/status/1150917824669540353</td>\n",
              "    </tr>\n",
              "  </tbody>\n",
              "</table>\n",
              "</div>"
            ],
            "text/plain": [
              "                                                                                                                                                                                                                                                                                           text  ...                                                           link\n",
              "5196       من ایشون میشناسم تو اینستام پیج داره تا جایی که دیدم پیشقدم برای هر کاری از فقرا تا بیماری خاص تا حیوانات و...... بود خیلی هام بهش کمک میکنند و قدم به قدم برای خرید لایو میزاره البته بگم شک در این نیست که جزوی از ج.ا ولی چیزی که دیدم و چیزی که پیگیری کردم تا الان کارش خوب بود  ...     https://twitter.com/Naslsokhte1/status/1150193068458426369\n",
              "5197                                                                                                                                                                پسرا، هم جنسا، چرا  دختر هرچی  بددهن باشه و کصشعر بگه، بیشتر میپسندین؟\\n تو شورتتون نگهش دارین لامصبا!\\n تهاجم  ایرانی بازی  ...         https://twitter.com/Merajsn/status/1150193012535939072\n",
              "5198        هدایت و بازداشت شده است.\\nامارات سیاست سکوت را در پیش گرفته است برخی منابع خبری حوزه خلیج فارس می گویند: این کشتی به سادگی توسط سپاه بازداشت شده و آسیب دیده است. ایالات متحده می گوید، امکان برقراری تماس با خدمه کشتی وجود ندارد آخرین موقعیت این کشتی در جزیره قشم ثبت شده است .  ...  https://twitter.com/MadariSarzamin/status/1150917950393765889\n",
              "5199      عزیزان، کسی گفته کاربران توئیتر مستجاب الدعوه اند؟ از اولیا الله اند؟ نفسشون حقه، دعاشون شفاست یا چی که همه اش التماس دعا و صلوات و اینها دارید! حالا امروز یکی تقاضای نماز یوم النمیدونم چی چی هم داشت. \\n بابا بی خیال عزیزان، دو دقیقه اومدیم معاشرت کنیم! مسجد دو کوچه پایین‌تره!  ...   https://twitter.com/LeylaNarimani/status/1150917920567881728\n",
              "5200  میگن هیچ چیزی بدون دلیل نیست\\nهمه چی دست به دست هم میده تا اون اتفاق بیوفته\\nامشب بدون برنامه الکل بخورم ، کلیدام رو جا بذارم تو خیابون بمونم، عموم همون ساعت جووین شه تلگرام  تکست بدم بهش ، خانومش مسافرت باشه بشینیم تا الان حرف بزنیم و مخشم بزنم که سرمایه کارم رو بده و قبول کنه :)  ...        https://twitter.com/themifar/status/1150917824669540353\n",
              "\n",
              "[5 rows x 5 columns]"
            ]
          },
          "metadata": {
            "tags": []
          },
          "execution_count": 115
        }
      ]
    },
    {
      "cell_type": "code",
      "metadata": {
        "id": "oi21GK9qGhN_"
      },
      "source": [
        "final_df.to_csv(\"final_hate.csv\")"
      ],
      "execution_count": null,
      "outputs": []
    },
    {
      "cell_type": "code",
      "metadata": {
        "id": "5hB1NCb4GpbK"
      },
      "source": [
        "!cp final_hate.csv \"drive/My Drive/\""
      ],
      "execution_count": null,
      "outputs": []
    },
    {
      "cell_type": "code",
      "metadata": {
        "id": "FPrWYYrxGzze"
      },
      "source": [
        ""
      ],
      "execution_count": null,
      "outputs": []
    }
  ]
}