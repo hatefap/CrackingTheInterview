{
  "nbformat": 4,
  "nbformat_minor": 0,
  "metadata": {
    "colab": {
      "name": "laser.ipynb",
      "provenance": [],
      "collapsed_sections": [],
      "toc_visible": true,
      "mount_file_id": "1ZwTm2e7ozPE9VKGdALYiJuOKaFrYe94F",
      "authorship_tag": "ABX9TyMXl0T9YLjMLQ9E9csd4cSu",
      "include_colab_link": true
    },
    "kernelspec": {
      "display_name": "Python 3",
      "name": "python3"
    },
    "language_info": {
      "name": "python"
    },
    "accelerator": "GPU"
  },
  "cells": [
    {
      "cell_type": "markdown",
      "metadata": {
        "id": "view-in-github",
        "colab_type": "text"
      },
      "source": [
        "<a href=\"https://colab.research.google.com/github/hatefap/CrackingTheInterview/blob/master/laser.ipynb\" target=\"_parent\"><img src=\"https://colab.research.google.com/assets/colab-badge.svg\" alt=\"Open In Colab\"/></a>"
      ]
    },
    {
      "cell_type": "code",
      "metadata": {
        "id": "Ke35XxO3hSib"
      },
      "source": [
        "import numpy as np\n",
        "import pandas as pd\n",
        "import torch\n",
        "import torch.nn as nn\n",
        "import re\n",
        "from sklearn.model_selection import train_test_split\n",
        "from sklearn.metrics import classification_report"
      ],
      "execution_count": null,
      "outputs": []
    },
    {
      "cell_type": "code",
      "metadata": {
        "colab": {
          "base_uri": "https://localhost:8080/"
        },
        "id": "fEBXWTXVhVSq",
        "outputId": "81db138b-f2fd-4f65-dbb4-fe5fdb9e347e"
      },
      "source": [
        "!pip install laserembeddings"
      ],
      "execution_count": null,
      "outputs": [
        {
          "output_type": "stream",
          "text": [
            "Requirement already satisfied: laserembeddings in /usr/local/lib/python3.7/dist-packages (1.1.1)\n",
            "Requirement already satisfied: numpy<2.0.0,>=1.15.4 in /usr/local/lib/python3.7/dist-packages (from laserembeddings) (1.19.5)\n",
            "Requirement already satisfied: transliterate==1.10.2 in /usr/local/lib/python3.7/dist-packages (from laserembeddings) (1.10.2)\n",
            "Requirement already satisfied: torch<2.0.0,>=1.0.1.post2 in /usr/local/lib/python3.7/dist-packages (from laserembeddings) (1.8.1+cu101)\n",
            "Requirement already satisfied: subword-nmt<0.4.0,>=0.3.6 in /usr/local/lib/python3.7/dist-packages (from laserembeddings) (0.3.7)\n",
            "Requirement already satisfied: sacremoses==0.0.35 in /usr/local/lib/python3.7/dist-packages (from laserembeddings) (0.0.35)\n",
            "Requirement already satisfied: six>=1.1.0 in /usr/local/lib/python3.7/dist-packages (from transliterate==1.10.2->laserembeddings) (1.15.0)\n",
            "Requirement already satisfied: typing-extensions in /usr/local/lib/python3.7/dist-packages (from torch<2.0.0,>=1.0.1.post2->laserembeddings) (3.7.4.3)\n",
            "Requirement already satisfied: tqdm in /usr/local/lib/python3.7/dist-packages (from sacremoses==0.0.35->laserembeddings) (4.41.1)\n",
            "Requirement already satisfied: joblib in /usr/local/lib/python3.7/dist-packages (from sacremoses==0.0.35->laserembeddings) (1.0.1)\n",
            "Requirement already satisfied: click in /usr/local/lib/python3.7/dist-packages (from sacremoses==0.0.35->laserembeddings) (7.1.2)\n"
          ],
          "name": "stdout"
        }
      ]
    },
    {
      "cell_type": "code",
      "metadata": {
        "colab": {
          "base_uri": "https://localhost:8080/"
        },
        "id": "4NJecZAUhg-a",
        "outputId": "dd4fd6a9-645b-4679-e43e-1cac7be7eb4c"
      },
      "source": [
        "!python -m laserembeddings download-models"
      ],
      "execution_count": null,
      "outputs": [
        {
          "output_type": "stream",
          "text": [
            "Downloading models into /usr/local/lib/python3.7/dist-packages/laserembeddings/data\n",
            "\n",
            "✅   Downloaded https://dl.fbaipublicfiles.com/laser/models/93langs.fcodes    \n",
            "✅   Downloaded https://dl.fbaipublicfiles.com/laser/models/93langs.fvocab    \n",
            "✅   Downloaded https://dl.fbaipublicfiles.com/laser/models/bilstm.93langs.2018-12-26.pt    \n",
            "\n",
            "✨ You're all set!\n"
          ],
          "name": "stdout"
        }
      ]
    },
    {
      "cell_type": "code",
      "metadata": {
        "id": "2olpLGvvhthf"
      },
      "source": [
        "from laserembeddings import Laser"
      ],
      "execution_count": null,
      "outputs": []
    },
    {
      "cell_type": "code",
      "metadata": {
        "id": "QleGwPSXh5E3"
      },
      "source": [
        "laser = Laser()"
      ],
      "execution_count": null,
      "outputs": []
    },
    {
      "cell_type": "code",
      "metadata": {
        "colab": {
          "base_uri": "https://localhost:8080/",
          "height": 543
        },
        "id": "ME5uhN4Zh_yn",
        "outputId": "0a84660c-f031-495b-ba4e-b356e7eeef21"
      },
      "source": [
        "farsi_path = \"drive/MyDrive/final_final.csv\"\n",
        "english_path = \"drive/MyDrive/my_final_english_hate.csv\"\n",
        "eng = pd.read_csv(english_path)\n",
        "farsi = pd.read_csv(farsi_path)\n",
        "farsi.head()"
      ],
      "execution_count": null,
      "outputs": [
        {
          "output_type": "execute_result",
          "data": {
            "text/html": [
              "<div>\n",
              "<style scoped>\n",
              "    .dataframe tbody tr th:only-of-type {\n",
              "        vertical-align: middle;\n",
              "    }\n",
              "\n",
              "    .dataframe tbody tr th {\n",
              "        vertical-align: top;\n",
              "    }\n",
              "\n",
              "    .dataframe thead th {\n",
              "        text-align: right;\n",
              "    }\n",
              "</style>\n",
              "<table border=\"1\" class=\"dataframe\">\n",
              "  <thead>\n",
              "    <tr style=\"text-align: right;\">\n",
              "      <th></th>\n",
              "      <th>id</th>\n",
              "      <th>text</th>\n",
              "      <th>ref1</th>\n",
              "      <th>ref2</th>\n",
              "      <th>link</th>\n",
              "      <th>norm_text</th>\n",
              "      <th>google</th>\n",
              "      <th>mbart</th>\n",
              "      <th>ref3</th>\n",
              "    </tr>\n",
              "  </thead>\n",
              "  <tbody>\n",
              "    <tr>\n",
              "      <th>0</th>\n",
              "      <td>0</td>\n",
              "      <td>بچه های عزیز این کشتزار منو بلاک کرده یکی که د...</td>\n",
              "      <td>1.0</td>\n",
              "      <td>0.0</td>\n",
              "      <td>https://twitter.com/DrErovay/status/1249849840...</td>\n",
              "      <td>بچه‌های عزیز این کشتزار منو بلاک کرده یکی که د...</td>\n",
              "      <td>Children's Menu block the field of view of one...</td>\n",
              "      <td>My dear children, I've been blocked on this fa...</td>\n",
              "      <td>1.0</td>\n",
              "    </tr>\n",
              "    <tr>\n",
              "      <th>1</th>\n",
              "      <td>1</td>\n",
              "      <td>سیاسیون محترم از  نمایندگان گرفته تا  شهردارا...</td>\n",
              "      <td>0.0</td>\n",
              "      <td>0.0</td>\n",
              "      <td>https://twitter.com/atefeh heidari/status/1007...</td>\n",
              "      <td>سیاسیون محترم از نمایندگان گرفته تا شهرداران ...</td>\n",
              "      <td>Distinguished delegates politicians to munici...</td>\n",
              "      <td>From respectable politicians to elected offici...</td>\n",
              "      <td>0.0</td>\n",
              "    </tr>\n",
              "    <tr>\n",
              "      <th>2</th>\n",
              "      <td>2</td>\n",
              "      <td>با اعدام مخالفم \\n\\nکاش راهکاری برای نابودی و ...</td>\n",
              "      <td>1.0</td>\n",
              "      <td>0.0</td>\n",
              "      <td>https://twitter.com/fariborz c/status/10124857...</td>\n",
              "      <td>با اعدام مخالفم \\n\\nکاش راهکاری برای نابودی و ...</td>\n",
              "      <td>I disagree with execution\\n\\nIf only way to an...</td>\n",
              "      <td>With the execution of my opponent, I wish ther...</td>\n",
              "      <td>1.0</td>\n",
              "    </tr>\n",
              "    <tr>\n",
              "      <th>3</th>\n",
              "      <td>3</td>\n",
              "      <td>دونوع آدم داریم : یکی اونکه هیچی به کیرش نیست ...</td>\n",
              "      <td>1.0</td>\n",
              "      <td>0.0</td>\n",
              "      <td>https://twitter.com/llil ili lill/status/10190...</td>\n",
              "      <td>دونوع آدم داریم: یکی اونکه هیچی به کیرش نیست و...</td>\n",
              "      <td>There are two types of people: one Avnkh nothi...</td>\n",
              "      <td>There are two types of people: There's the one...</td>\n",
              "      <td>0.0</td>\n",
              "    </tr>\n",
              "    <tr>\n",
              "      <th>4</th>\n",
              "      <td>4</td>\n",
              "      <td>هيچ زنداني بدتر از ،دختر بودن، نيست....</td>\n",
              "      <td>1.0</td>\n",
              "      <td>0.0</td>\n",
              "      <td>https://twitter.com/virgoOoOol/status/10233572...</td>\n",
              "      <td>هیچ زندانی بدتر از، دختر بودن، نیست ….</td>\n",
              "      <td>No prisoners worse, the girl is not ....</td>\n",
              "      <td>There is no prison worse than being a girl...</td>\n",
              "      <td>0.0</td>\n",
              "    </tr>\n",
              "  </tbody>\n",
              "</table>\n",
              "</div>"
            ],
            "text/plain": [
              "   id  ... ref3\n",
              "0   0  ...  1.0\n",
              "1   1  ...  0.0\n",
              "2   2  ...  1.0\n",
              "3   3  ...  0.0\n",
              "4   4  ...  0.0\n",
              "\n",
              "[5 rows x 9 columns]"
            ]
          },
          "metadata": {
            "tags": []
          },
          "execution_count": 33
        }
      ]
    },
    {
      "cell_type": "code",
      "metadata": {
        "colab": {
          "base_uri": "https://localhost:8080/",
          "height": 204
        },
        "id": "fhO6D5IVHYQA",
        "outputId": "46fb638c-35fb-4f56-c7b3-321f3b4dadf7"
      },
      "source": [
        "eng.head()"
      ],
      "execution_count": null,
      "outputs": [
        {
          "output_type": "execute_result",
          "data": {
            "text/html": [
              "<div>\n",
              "<style scoped>\n",
              "    .dataframe tbody tr th:only-of-type {\n",
              "        vertical-align: middle;\n",
              "    }\n",
              "\n",
              "    .dataframe tbody tr th {\n",
              "        vertical-align: top;\n",
              "    }\n",
              "\n",
              "    .dataframe thead th {\n",
              "        text-align: right;\n",
              "    }\n",
              "</style>\n",
              "<table border=\"1\" class=\"dataframe\">\n",
              "  <thead>\n",
              "    <tr style=\"text-align: right;\">\n",
              "      <th></th>\n",
              "      <th>Unnamed: 0</th>\n",
              "      <th>tweet</th>\n",
              "      <th>class</th>\n",
              "    </tr>\n",
              "  </thead>\n",
              "  <tbody>\n",
              "    <tr>\n",
              "      <th>0</th>\n",
              "      <td>0</td>\n",
              "      <td>\"@USER @USER @USER queer\" gaywad</td>\n",
              "      <td>1</td>\n",
              "    </tr>\n",
              "    <tr>\n",
              "      <th>1</th>\n",
              "      <td>1</td>\n",
              "      <td>\"@USER @USER alsarabsss\" hes a beaner smh you ...</td>\n",
              "      <td>1</td>\n",
              "    </tr>\n",
              "    <tr>\n",
              "      <th>2</th>\n",
              "      <td>2</td>\n",
              "      <td>\"@USER @USER you're fucking gay, blacklisted h...</td>\n",
              "      <td>1</td>\n",
              "    </tr>\n",
              "    <tr>\n",
              "      <th>3</th>\n",
              "      <td>3</td>\n",
              "      <td>\"@USER LMFAOOOO I HATE BLACK PEOPLE https://t....</td>\n",
              "      <td>1</td>\n",
              "    </tr>\n",
              "    <tr>\n",
              "      <th>4</th>\n",
              "      <td>4</td>\n",
              "      <td>\"@USER \"At least I'm not a nigger\" http://t.co...</td>\n",
              "      <td>1</td>\n",
              "    </tr>\n",
              "  </tbody>\n",
              "</table>\n",
              "</div>"
            ],
            "text/plain": [
              "   Unnamed: 0                                              tweet  class\n",
              "0           0                   \"@USER @USER @USER queer\" gaywad      1\n",
              "1           1  \"@USER @USER alsarabsss\" hes a beaner smh you ...      1\n",
              "2           2  \"@USER @USER you're fucking gay, blacklisted h...      1\n",
              "3           3  \"@USER LMFAOOOO I HATE BLACK PEOPLE https://t....      1\n",
              "4           4  \"@USER \"At least I'm not a nigger\" http://t.co...      1"
            ]
          },
          "metadata": {
            "tags": []
          },
          "execution_count": 34
        }
      ]
    },
    {
      "cell_type": "code",
      "metadata": {
        "id": "SXsHjcoljynV"
      },
      "source": [
        "eng = eng.drop(\"Unnamed: 0\", axis=1)"
      ],
      "execution_count": null,
      "outputs": []
    },
    {
      "cell_type": "code",
      "metadata": {
        "colab": {
          "base_uri": "https://localhost:8080/",
          "height": 204
        },
        "id": "CHv8HJ9FkYu2",
        "outputId": "62406e73-4129-4b52-b06f-e08ddf70fc1a"
      },
      "source": [
        "farsi = farsi[['norm_text', 'ref3']]\n",
        "farsi.columns = ['tweet', 'class']\n",
        "farsi.head()"
      ],
      "execution_count": null,
      "outputs": [
        {
          "output_type": "execute_result",
          "data": {
            "text/html": [
              "<div>\n",
              "<style scoped>\n",
              "    .dataframe tbody tr th:only-of-type {\n",
              "        vertical-align: middle;\n",
              "    }\n",
              "\n",
              "    .dataframe tbody tr th {\n",
              "        vertical-align: top;\n",
              "    }\n",
              "\n",
              "    .dataframe thead th {\n",
              "        text-align: right;\n",
              "    }\n",
              "</style>\n",
              "<table border=\"1\" class=\"dataframe\">\n",
              "  <thead>\n",
              "    <tr style=\"text-align: right;\">\n",
              "      <th></th>\n",
              "      <th>tweet</th>\n",
              "      <th>class</th>\n",
              "    </tr>\n",
              "  </thead>\n",
              "  <tbody>\n",
              "    <tr>\n",
              "      <th>0</th>\n",
              "      <td>بچه‌های عزیز این کشتزار منو بلاک کرده یکی که د...</td>\n",
              "      <td>1.0</td>\n",
              "    </tr>\n",
              "    <tr>\n",
              "      <th>1</th>\n",
              "      <td>سیاسیون محترم از نمایندگان گرفته تا شهرداران ...</td>\n",
              "      <td>0.0</td>\n",
              "    </tr>\n",
              "    <tr>\n",
              "      <th>2</th>\n",
              "      <td>با اعدام مخالفم \\n\\nکاش راهکاری برای نابودی و ...</td>\n",
              "      <td>1.0</td>\n",
              "    </tr>\n",
              "    <tr>\n",
              "      <th>3</th>\n",
              "      <td>دونوع آدم داریم: یکی اونکه هیچی به کیرش نیست و...</td>\n",
              "      <td>0.0</td>\n",
              "    </tr>\n",
              "    <tr>\n",
              "      <th>4</th>\n",
              "      <td>هیچ زندانی بدتر از، دختر بودن، نیست ….</td>\n",
              "      <td>0.0</td>\n",
              "    </tr>\n",
              "  </tbody>\n",
              "</table>\n",
              "</div>"
            ],
            "text/plain": [
              "                                               tweet  class\n",
              "0  بچه‌های عزیز این کشتزار منو بلاک کرده یکی که د...    1.0\n",
              "1   سیاسیون محترم از نمایندگان گرفته تا شهرداران ...    0.0\n",
              "2  با اعدام مخالفم \\n\\nکاش راهکاری برای نابودی و ...    1.0\n",
              "3  دونوع آدم داریم: یکی اونکه هیچی به کیرش نیست و...    0.0\n",
              "4             هیچ زندانی بدتر از، دختر بودن، نیست ….    0.0"
            ]
          },
          "metadata": {
            "tags": []
          },
          "execution_count": 36
        }
      ]
    },
    {
      "cell_type": "code",
      "metadata": {
        "colab": {
          "base_uri": "https://localhost:8080/",
          "height": 204
        },
        "id": "59AEhd3PoE-x",
        "outputId": "1bb8143e-c762-4899-9708-1289ad890e3a"
      },
      "source": [
        "farsi.tail()"
      ],
      "execution_count": null,
      "outputs": [
        {
          "output_type": "execute_result",
          "data": {
            "text/html": [
              "<div>\n",
              "<style scoped>\n",
              "    .dataframe tbody tr th:only-of-type {\n",
              "        vertical-align: middle;\n",
              "    }\n",
              "\n",
              "    .dataframe tbody tr th {\n",
              "        vertical-align: top;\n",
              "    }\n",
              "\n",
              "    .dataframe thead th {\n",
              "        text-align: right;\n",
              "    }\n",
              "</style>\n",
              "<table border=\"1\" class=\"dataframe\">\n",
              "  <thead>\n",
              "    <tr style=\"text-align: right;\">\n",
              "      <th></th>\n",
              "      <th>tweet</th>\n",
              "      <th>class</th>\n",
              "    </tr>\n",
              "  </thead>\n",
              "  <tbody>\n",
              "    <tr>\n",
              "      <th>5196</th>\n",
              "      <td>پسرا، هم جنسا، چرا دختر هرچی بددهن باشه و کصشع...</td>\n",
              "      <td>0.0</td>\n",
              "    </tr>\n",
              "    <tr>\n",
              "      <th>5197</th>\n",
              "      <td>هدایت و بازداشت شده است. \\nامارات سیاست سکوت ر...</td>\n",
              "      <td>0.0</td>\n",
              "    </tr>\n",
              "    <tr>\n",
              "      <th>5198</th>\n",
              "      <td>عزیزان، کسی گفته کاربران توئیتر مستجاب الدعوه‌...</td>\n",
              "      <td>0.0</td>\n",
              "    </tr>\n",
              "    <tr>\n",
              "      <th>5199</th>\n",
              "      <td>میگن هیچ چیزی بدون دلیل نیست\\nهمه چی دست به دس...</td>\n",
              "      <td>0.0</td>\n",
              "    </tr>\n",
              "    <tr>\n",
              "      <th>5200</th>\n",
              "      <td>NaN</td>\n",
              "      <td>NaN</td>\n",
              "    </tr>\n",
              "  </tbody>\n",
              "</table>\n",
              "</div>"
            ],
            "text/plain": [
              "                                                  tweet  class\n",
              "5196  پسرا، هم جنسا، چرا دختر هرچی بددهن باشه و کصشع...    0.0\n",
              "5197  هدایت و بازداشت شده است. \\nامارات سیاست سکوت ر...    0.0\n",
              "5198  عزیزان، کسی گفته کاربران توئیتر مستجاب الدعوه‌...    0.0\n",
              "5199  میگن هیچ چیزی بدون دلیل نیست\\nهمه چی دست به دس...    0.0\n",
              "5200                                                NaN    NaN"
            ]
          },
          "metadata": {
            "tags": []
          },
          "execution_count": 37
        }
      ]
    },
    {
      "cell_type": "code",
      "metadata": {
        "colab": {
          "base_uri": "https://localhost:8080/",
          "height": 204
        },
        "id": "u-n4Nf5SoLOD",
        "outputId": "4de6261a-bf6c-4ee9-9b91-82fda10ca1be"
      },
      "source": [
        "farsi = farsi.dropna()\n",
        "farsi.tail()"
      ],
      "execution_count": null,
      "outputs": [
        {
          "output_type": "execute_result",
          "data": {
            "text/html": [
              "<div>\n",
              "<style scoped>\n",
              "    .dataframe tbody tr th:only-of-type {\n",
              "        vertical-align: middle;\n",
              "    }\n",
              "\n",
              "    .dataframe tbody tr th {\n",
              "        vertical-align: top;\n",
              "    }\n",
              "\n",
              "    .dataframe thead th {\n",
              "        text-align: right;\n",
              "    }\n",
              "</style>\n",
              "<table border=\"1\" class=\"dataframe\">\n",
              "  <thead>\n",
              "    <tr style=\"text-align: right;\">\n",
              "      <th></th>\n",
              "      <th>tweet</th>\n",
              "      <th>class</th>\n",
              "    </tr>\n",
              "  </thead>\n",
              "  <tbody>\n",
              "    <tr>\n",
              "      <th>5195</th>\n",
              "      <td>من ایشون میشناسم تو اینستام پیج داره تا جایی ک...</td>\n",
              "      <td>0.0</td>\n",
              "    </tr>\n",
              "    <tr>\n",
              "      <th>5196</th>\n",
              "      <td>پسرا، هم جنسا، چرا دختر هرچی بددهن باشه و کصشع...</td>\n",
              "      <td>0.0</td>\n",
              "    </tr>\n",
              "    <tr>\n",
              "      <th>5197</th>\n",
              "      <td>هدایت و بازداشت شده است. \\nامارات سیاست سکوت ر...</td>\n",
              "      <td>0.0</td>\n",
              "    </tr>\n",
              "    <tr>\n",
              "      <th>5198</th>\n",
              "      <td>عزیزان، کسی گفته کاربران توئیتر مستجاب الدعوه‌...</td>\n",
              "      <td>0.0</td>\n",
              "    </tr>\n",
              "    <tr>\n",
              "      <th>5199</th>\n",
              "      <td>میگن هیچ چیزی بدون دلیل نیست\\nهمه چی دست به دس...</td>\n",
              "      <td>0.0</td>\n",
              "    </tr>\n",
              "  </tbody>\n",
              "</table>\n",
              "</div>"
            ],
            "text/plain": [
              "                                                  tweet  class\n",
              "5195  من ایشون میشناسم تو اینستام پیج داره تا جایی ک...    0.0\n",
              "5196  پسرا، هم جنسا، چرا دختر هرچی بددهن باشه و کصشع...    0.0\n",
              "5197  هدایت و بازداشت شده است. \\nامارات سیاست سکوت ر...    0.0\n",
              "5198  عزیزان، کسی گفته کاربران توئیتر مستجاب الدعوه‌...    0.0\n",
              "5199  میگن هیچ چیزی بدون دلیل نیست\\nهمه چی دست به دس...    0.0"
            ]
          },
          "metadata": {
            "tags": []
          },
          "execution_count": 38
        }
      ]
    },
    {
      "cell_type": "code",
      "metadata": {
        "colab": {
          "base_uri": "https://localhost:8080/"
        },
        "id": "3Lm9pGLjqmDv",
        "outputId": "6a97ea84-e1af-4243-ea3c-a378a7de5ee5"
      },
      "source": [
        "!pip install hazm"
      ],
      "execution_count": null,
      "outputs": [
        {
          "output_type": "stream",
          "text": [
            "Requirement already satisfied: hazm in /usr/local/lib/python3.7/dist-packages (0.7.0)\n",
            "Requirement already satisfied: nltk==3.3 in /usr/local/lib/python3.7/dist-packages (from hazm) (3.3)\n",
            "Requirement already satisfied: libwapiti>=0.2.1; platform_system != \"Windows\" in /usr/local/lib/python3.7/dist-packages (from hazm) (0.2.1)\n",
            "Requirement already satisfied: six in /usr/local/lib/python3.7/dist-packages (from nltk==3.3->hazm) (1.15.0)\n"
          ],
          "name": "stdout"
        }
      ]
    },
    {
      "cell_type": "code",
      "metadata": {
        "id": "1SbLcN75hZNx"
      },
      "source": [
        "\n",
        "def deEmojify(row):\n",
        "    text = row.tweet\n",
        "    regrex_pattern = re.compile(pattern = \"[\"\n",
        "        u\"\\U0001F600-\\U0001F64F\"  # emoticons\n",
        "        u\"\\U0001F300-\\U0001F5FF\"  # symbols & pictographs\n",
        "        u\"\\U0001F680-\\U0001F6FF\"  # transport & map symbols\n",
        "        u\"\\U0001F1E0-\\U0001F1FF\"  # flags (iOS)\n",
        "                           \"]+\", flags = re.UNICODE)\n",
        "    return regrex_pattern.sub(r'',text)"
      ],
      "execution_count": null,
      "outputs": []
    },
    {
      "cell_type": "code",
      "metadata": {
        "id": "f5CAFINXj_Z1"
      },
      "source": [
        "eng['tweet'] = eng.apply(deEmojify, axis=1)"
      ],
      "execution_count": null,
      "outputs": []
    },
    {
      "cell_type": "code",
      "metadata": {
        "id": "tGkBUQ72khQB"
      },
      "source": [
        "eng = eng.sample(frac=1).reset_index(drop=True)"
      ],
      "execution_count": null,
      "outputs": []
    },
    {
      "cell_type": "code",
      "metadata": {
        "colab": {
          "base_uri": "https://localhost:8080/",
          "height": 204
        },
        "id": "HsvCPjA1k3AM",
        "outputId": "4172490d-04d1-4c99-8f62-3ef9e344dfc6"
      },
      "source": [
        "eng.head()"
      ],
      "execution_count": null,
      "outputs": [
        {
          "output_type": "execute_result",
          "data": {
            "text/html": [
              "<div>\n",
              "<style scoped>\n",
              "    .dataframe tbody tr th:only-of-type {\n",
              "        vertical-align: middle;\n",
              "    }\n",
              "\n",
              "    .dataframe tbody tr th {\n",
              "        vertical-align: top;\n",
              "    }\n",
              "\n",
              "    .dataframe thead th {\n",
              "        text-align: right;\n",
              "    }\n",
              "</style>\n",
              "<table border=\"1\" class=\"dataframe\">\n",
              "  <thead>\n",
              "    <tr style=\"text-align: right;\">\n",
              "      <th></th>\n",
              "      <th>tweet</th>\n",
              "      <th>class</th>\n",
              "    </tr>\n",
              "  </thead>\n",
              "  <tbody>\n",
              "    <tr>\n",
              "      <th>0</th>\n",
              "      <td>Dear ,  ICC instead of banning MS Dhoni to wea...</td>\n",
              "      <td>0</td>\n",
              "    </tr>\n",
              "    <tr>\n",
              "      <th>1</th>\n",
              "      <td>@USER hey James your music still sucks, anyone...</td>\n",
              "      <td>1</td>\n",
              "    </tr>\n",
              "    <tr>\n",
              "      <th>2</th>\n",
              "      <td>Absolutely take it, Worst cricket world cup ev...</td>\n",
              "      <td>0</td>\n",
              "    </tr>\n",
              "    <tr>\n",
              "      <th>3</th>\n",
              "      <td>Changed in last five years     1.First decide ...</td>\n",
              "      <td>0</td>\n",
              "    </tr>\n",
              "    <tr>\n",
              "      <th>4</th>\n",
              "      <td>@USER Where are you? Why isn't this case with ...</td>\n",
              "      <td>1</td>\n",
              "    </tr>\n",
              "  </tbody>\n",
              "</table>\n",
              "</div>"
            ],
            "text/plain": [
              "                                               tweet  class\n",
              "0  Dear ,  ICC instead of banning MS Dhoni to wea...      0\n",
              "1  @USER hey James your music still sucks, anyone...      1\n",
              "2  Absolutely take it, Worst cricket world cup ev...      0\n",
              "3  Changed in last five years     1.First decide ...      0\n",
              "4  @USER Where are you? Why isn't this case with ...      1"
            ]
          },
          "metadata": {
            "tags": []
          },
          "execution_count": 43
        }
      ]
    },
    {
      "cell_type": "code",
      "metadata": {
        "id": "lncWVNvVHpvr"
      },
      "source": [
        "eng['embeddings'] = eng.apply(lambda row:laser.embed_sentences( [row.tweet]\n",
        "    ,\n",
        "    lang='en'), axis=1)\n"
      ],
      "execution_count": null,
      "outputs": []
    },
    {
      "cell_type": "code",
      "metadata": {
        "id": "aWE5bDqbI-7j"
      },
      "source": [
        "eng['embeddings'] = eng.apply(lambda row:row.embeddings[0], axis=1)\n"
      ],
      "execution_count": null,
      "outputs": []
    },
    {
      "cell_type": "code",
      "metadata": {
        "colab": {
          "base_uri": "https://localhost:8080/",
          "height": 204
        },
        "id": "bZzIGzVtJT4k",
        "outputId": "7fb7ce23-da2e-4cc9-ea58-fb8a1c587f33"
      },
      "source": [
        "eng.head()"
      ],
      "execution_count": null,
      "outputs": [
        {
          "output_type": "execute_result",
          "data": {
            "text/html": [
              "<div>\n",
              "<style scoped>\n",
              "    .dataframe tbody tr th:only-of-type {\n",
              "        vertical-align: middle;\n",
              "    }\n",
              "\n",
              "    .dataframe tbody tr th {\n",
              "        vertical-align: top;\n",
              "    }\n",
              "\n",
              "    .dataframe thead th {\n",
              "        text-align: right;\n",
              "    }\n",
              "</style>\n",
              "<table border=\"1\" class=\"dataframe\">\n",
              "  <thead>\n",
              "    <tr style=\"text-align: right;\">\n",
              "      <th></th>\n",
              "      <th>tweet</th>\n",
              "      <th>class</th>\n",
              "      <th>embeddings</th>\n",
              "    </tr>\n",
              "  </thead>\n",
              "  <tbody>\n",
              "    <tr>\n",
              "      <th>0</th>\n",
              "      <td>Dear ,  ICC instead of banning MS Dhoni to wea...</td>\n",
              "      <td>0</td>\n",
              "      <td>[0.0031174975, 0.0023718362, -0.0018391929, 0....</td>\n",
              "    </tr>\n",
              "    <tr>\n",
              "      <th>1</th>\n",
              "      <td>@USER hey James your music still sucks, anyone...</td>\n",
              "      <td>1</td>\n",
              "      <td>[0.008926708, 0.010169069, -0.002842401, 0.008...</td>\n",
              "    </tr>\n",
              "    <tr>\n",
              "      <th>2</th>\n",
              "      <td>Absolutely take it, Worst cricket world cup ev...</td>\n",
              "      <td>0</td>\n",
              "      <td>[0.012971832, -1.96477e-05, 0.040654447, 0.033...</td>\n",
              "    </tr>\n",
              "    <tr>\n",
              "      <th>3</th>\n",
              "      <td>Changed in last five years     1.First decide ...</td>\n",
              "      <td>0</td>\n",
              "      <td>[0.047831852, 0.010176154, 7.78924e-05, -0.000...</td>\n",
              "    </tr>\n",
              "    <tr>\n",
              "      <th>4</th>\n",
              "      <td>@USER Where are you? Why isn't this case with ...</td>\n",
              "      <td>1</td>\n",
              "      <td>[0.008555521, 0.0035703606, 0.0054964153, 0.01...</td>\n",
              "    </tr>\n",
              "  </tbody>\n",
              "</table>\n",
              "</div>"
            ],
            "text/plain": [
              "                                               tweet  ...                                         embeddings\n",
              "0  Dear ,  ICC instead of banning MS Dhoni to wea...  ...  [0.0031174975, 0.0023718362, -0.0018391929, 0....\n",
              "1  @USER hey James your music still sucks, anyone...  ...  [0.008926708, 0.010169069, -0.002842401, 0.008...\n",
              "2  Absolutely take it, Worst cricket world cup ev...  ...  [0.012971832, -1.96477e-05, 0.040654447, 0.033...\n",
              "3  Changed in last five years     1.First decide ...  ...  [0.047831852, 0.010176154, 7.78924e-05, -0.000...\n",
              "4  @USER Where are you? Why isn't this case with ...  ...  [0.008555521, 0.0035703606, 0.0054964153, 0.01...\n",
              "\n",
              "[5 rows x 3 columns]"
            ]
          },
          "metadata": {
            "tags": []
          },
          "execution_count": 47
        }
      ]
    },
    {
      "cell_type": "code",
      "metadata": {
        "id": "KFzxq4-qJWwH"
      },
      "source": [
        "y = eng[\"class\"]\n",
        "x = eng[['tweet', 'embeddings']]"
      ],
      "execution_count": null,
      "outputs": []
    },
    {
      "cell_type": "code",
      "metadata": {
        "id": "_Kpi7fr5J3kD"
      },
      "source": [
        "# english\n",
        "x_train =  pd.DataFrame(x['embeddings'].to_list())\n",
        "y_train = y.astype(dtype='float32')"
      ],
      "execution_count": null,
      "outputs": []
    },
    {
      "cell_type": "code",
      "metadata": {
        "colab": {
          "base_uri": "https://localhost:8080/",
          "height": 253
        },
        "id": "7gdEnmWZonhF",
        "outputId": "6f0ba13a-fc75-4f62-a9fc-553aaa7765bc"
      },
      "source": [
        "x_train.head()"
      ],
      "execution_count": null,
      "outputs": [
        {
          "output_type": "execute_result",
          "data": {
            "text/html": [
              "<div>\n",
              "<style scoped>\n",
              "    .dataframe tbody tr th:only-of-type {\n",
              "        vertical-align: middle;\n",
              "    }\n",
              "\n",
              "    .dataframe tbody tr th {\n",
              "        vertical-align: top;\n",
              "    }\n",
              "\n",
              "    .dataframe thead th {\n",
              "        text-align: right;\n",
              "    }\n",
              "</style>\n",
              "<table border=\"1\" class=\"dataframe\">\n",
              "  <thead>\n",
              "    <tr style=\"text-align: right;\">\n",
              "      <th></th>\n",
              "      <th>0</th>\n",
              "      <th>1</th>\n",
              "      <th>2</th>\n",
              "      <th>3</th>\n",
              "      <th>4</th>\n",
              "      <th>5</th>\n",
              "      <th>6</th>\n",
              "      <th>7</th>\n",
              "      <th>8</th>\n",
              "      <th>9</th>\n",
              "      <th>10</th>\n",
              "      <th>11</th>\n",
              "      <th>12</th>\n",
              "      <th>13</th>\n",
              "      <th>14</th>\n",
              "      <th>15</th>\n",
              "      <th>16</th>\n",
              "      <th>17</th>\n",
              "      <th>18</th>\n",
              "      <th>19</th>\n",
              "      <th>20</th>\n",
              "      <th>21</th>\n",
              "      <th>22</th>\n",
              "      <th>23</th>\n",
              "      <th>24</th>\n",
              "      <th>25</th>\n",
              "      <th>26</th>\n",
              "      <th>27</th>\n",
              "      <th>28</th>\n",
              "      <th>29</th>\n",
              "      <th>30</th>\n",
              "      <th>31</th>\n",
              "      <th>32</th>\n",
              "      <th>33</th>\n",
              "      <th>34</th>\n",
              "      <th>35</th>\n",
              "      <th>36</th>\n",
              "      <th>37</th>\n",
              "      <th>38</th>\n",
              "      <th>39</th>\n",
              "      <th>...</th>\n",
              "      <th>984</th>\n",
              "      <th>985</th>\n",
              "      <th>986</th>\n",
              "      <th>987</th>\n",
              "      <th>988</th>\n",
              "      <th>989</th>\n",
              "      <th>990</th>\n",
              "      <th>991</th>\n",
              "      <th>992</th>\n",
              "      <th>993</th>\n",
              "      <th>994</th>\n",
              "      <th>995</th>\n",
              "      <th>996</th>\n",
              "      <th>997</th>\n",
              "      <th>998</th>\n",
              "      <th>999</th>\n",
              "      <th>1000</th>\n",
              "      <th>1001</th>\n",
              "      <th>1002</th>\n",
              "      <th>1003</th>\n",
              "      <th>1004</th>\n",
              "      <th>1005</th>\n",
              "      <th>1006</th>\n",
              "      <th>1007</th>\n",
              "      <th>1008</th>\n",
              "      <th>1009</th>\n",
              "      <th>1010</th>\n",
              "      <th>1011</th>\n",
              "      <th>1012</th>\n",
              "      <th>1013</th>\n",
              "      <th>1014</th>\n",
              "      <th>1015</th>\n",
              "      <th>1016</th>\n",
              "      <th>1017</th>\n",
              "      <th>1018</th>\n",
              "      <th>1019</th>\n",
              "      <th>1020</th>\n",
              "      <th>1021</th>\n",
              "      <th>1022</th>\n",
              "      <th>1023</th>\n",
              "    </tr>\n",
              "  </thead>\n",
              "  <tbody>\n",
              "    <tr>\n",
              "      <th>0</th>\n",
              "      <td>0.003117</td>\n",
              "      <td>0.002372</td>\n",
              "      <td>-0.001839</td>\n",
              "      <td>0.022990</td>\n",
              "      <td>0.004446</td>\n",
              "      <td>0.052800</td>\n",
              "      <td>0.007595</td>\n",
              "      <td>0.023102</td>\n",
              "      <td>0.010597</td>\n",
              "      <td>0.008126</td>\n",
              "      <td>0.049275</td>\n",
              "      <td>0.006277</td>\n",
              "      <td>0.008518</td>\n",
              "      <td>0.000700</td>\n",
              "      <td>0.014200</td>\n",
              "      <td>0.014805</td>\n",
              "      <td>0.037084</td>\n",
              "      <td>0.010441</td>\n",
              "      <td>0.008030</td>\n",
              "      <td>0.031470</td>\n",
              "      <td>0.030859</td>\n",
              "      <td>0.063824</td>\n",
              "      <td>-0.000010</td>\n",
              "      <td>0.024079</td>\n",
              "      <td>0.017756</td>\n",
              "      <td>0.012099</td>\n",
              "      <td>0.011254</td>\n",
              "      <td>0.035956</td>\n",
              "      <td>0.001600</td>\n",
              "      <td>0.022081</td>\n",
              "      <td>0.045858</td>\n",
              "      <td>0.002794</td>\n",
              "      <td>0.059937</td>\n",
              "      <td>0.009157</td>\n",
              "      <td>0.000855</td>\n",
              "      <td>0.018354</td>\n",
              "      <td>0.024751</td>\n",
              "      <td>0.027238</td>\n",
              "      <td>-0.000836</td>\n",
              "      <td>-0.000001</td>\n",
              "      <td>...</td>\n",
              "      <td>0.025749</td>\n",
              "      <td>-0.000808</td>\n",
              "      <td>0.017026</td>\n",
              "      <td>-0.000052</td>\n",
              "      <td>0.051626</td>\n",
              "      <td>0.055887</td>\n",
              "      <td>0.040003</td>\n",
              "      <td>0.000106</td>\n",
              "      <td>0.026241</td>\n",
              "      <td>0.023992</td>\n",
              "      <td>0.047635</td>\n",
              "      <td>-0.000550</td>\n",
              "      <td>0.002601</td>\n",
              "      <td>-0.002015</td>\n",
              "      <td>0.023069</td>\n",
              "      <td>0.002487</td>\n",
              "      <td>0.000756</td>\n",
              "      <td>0.027046</td>\n",
              "      <td>0.001640</td>\n",
              "      <td>0.044396</td>\n",
              "      <td>0.025927</td>\n",
              "      <td>0.051886</td>\n",
              "      <td>0.001350</td>\n",
              "      <td>0.021142</td>\n",
              "      <td>0.003638</td>\n",
              "      <td>0.001641</td>\n",
              "      <td>0.018996</td>\n",
              "      <td>-0.000539</td>\n",
              "      <td>0.003806</td>\n",
              "      <td>0.001092</td>\n",
              "      <td>0.035582</td>\n",
              "      <td>0.002544</td>\n",
              "      <td>0.003117</td>\n",
              "      <td>0.024228</td>\n",
              "      <td>0.003673</td>\n",
              "      <td>0.001072</td>\n",
              "      <td>0.020589</td>\n",
              "      <td>0.030277</td>\n",
              "      <td>0.031182</td>\n",
              "      <td>0.030853</td>\n",
              "    </tr>\n",
              "    <tr>\n",
              "      <th>1</th>\n",
              "      <td>0.008927</td>\n",
              "      <td>0.010169</td>\n",
              "      <td>-0.002842</td>\n",
              "      <td>0.008693</td>\n",
              "      <td>0.015077</td>\n",
              "      <td>0.011100</td>\n",
              "      <td>0.002808</td>\n",
              "      <td>0.041029</td>\n",
              "      <td>0.046282</td>\n",
              "      <td>-0.000234</td>\n",
              "      <td>0.007076</td>\n",
              "      <td>0.001384</td>\n",
              "      <td>0.000315</td>\n",
              "      <td>0.039544</td>\n",
              "      <td>0.008078</td>\n",
              "      <td>-0.000681</td>\n",
              "      <td>0.038611</td>\n",
              "      <td>0.002871</td>\n",
              "      <td>0.010935</td>\n",
              "      <td>0.005911</td>\n",
              "      <td>-0.002042</td>\n",
              "      <td>-0.000118</td>\n",
              "      <td>-0.000090</td>\n",
              "      <td>0.001145</td>\n",
              "      <td>0.037311</td>\n",
              "      <td>0.072575</td>\n",
              "      <td>0.024628</td>\n",
              "      <td>0.014092</td>\n",
              "      <td>0.002348</td>\n",
              "      <td>0.003903</td>\n",
              "      <td>0.056931</td>\n",
              "      <td>0.005750</td>\n",
              "      <td>0.002479</td>\n",
              "      <td>0.026939</td>\n",
              "      <td>-0.001038</td>\n",
              "      <td>0.014694</td>\n",
              "      <td>0.007875</td>\n",
              "      <td>0.007915</td>\n",
              "      <td>0.040112</td>\n",
              "      <td>0.000140</td>\n",
              "      <td>...</td>\n",
              "      <td>0.001305</td>\n",
              "      <td>-0.002465</td>\n",
              "      <td>0.014136</td>\n",
              "      <td>0.005926</td>\n",
              "      <td>-0.002175</td>\n",
              "      <td>0.005772</td>\n",
              "      <td>0.043182</td>\n",
              "      <td>0.001529</td>\n",
              "      <td>0.013578</td>\n",
              "      <td>0.013691</td>\n",
              "      <td>0.010144</td>\n",
              "      <td>-0.000626</td>\n",
              "      <td>-0.000263</td>\n",
              "      <td>0.011322</td>\n",
              "      <td>0.013324</td>\n",
              "      <td>-0.000251</td>\n",
              "      <td>0.000468</td>\n",
              "      <td>0.023615</td>\n",
              "      <td>0.011808</td>\n",
              "      <td>0.041421</td>\n",
              "      <td>0.013095</td>\n",
              "      <td>0.011158</td>\n",
              "      <td>0.014184</td>\n",
              "      <td>0.000969</td>\n",
              "      <td>0.007882</td>\n",
              "      <td>0.025693</td>\n",
              "      <td>0.024113</td>\n",
              "      <td>-0.001354</td>\n",
              "      <td>-0.001986</td>\n",
              "      <td>0.001421</td>\n",
              "      <td>0.036700</td>\n",
              "      <td>0.001560</td>\n",
              "      <td>0.008112</td>\n",
              "      <td>-0.002955</td>\n",
              "      <td>0.006415</td>\n",
              "      <td>0.005416</td>\n",
              "      <td>0.020413</td>\n",
              "      <td>0.016052</td>\n",
              "      <td>0.023731</td>\n",
              "      <td>0.025050</td>\n",
              "    </tr>\n",
              "    <tr>\n",
              "      <th>2</th>\n",
              "      <td>0.012972</td>\n",
              "      <td>-0.000020</td>\n",
              "      <td>0.040654</td>\n",
              "      <td>0.033012</td>\n",
              "      <td>0.017886</td>\n",
              "      <td>0.005245</td>\n",
              "      <td>0.000226</td>\n",
              "      <td>0.031476</td>\n",
              "      <td>0.018842</td>\n",
              "      <td>0.005589</td>\n",
              "      <td>0.059239</td>\n",
              "      <td>0.003095</td>\n",
              "      <td>0.000356</td>\n",
              "      <td>0.021311</td>\n",
              "      <td>0.026290</td>\n",
              "      <td>0.029194</td>\n",
              "      <td>0.009528</td>\n",
              "      <td>0.016297</td>\n",
              "      <td>0.000275</td>\n",
              "      <td>0.030084</td>\n",
              "      <td>0.015545</td>\n",
              "      <td>0.019726</td>\n",
              "      <td>-0.000049</td>\n",
              "      <td>0.015777</td>\n",
              "      <td>0.021716</td>\n",
              "      <td>0.000261</td>\n",
              "      <td>0.000061</td>\n",
              "      <td>0.007039</td>\n",
              "      <td>-0.000404</td>\n",
              "      <td>0.015720</td>\n",
              "      <td>0.002155</td>\n",
              "      <td>0.019679</td>\n",
              "      <td>0.004024</td>\n",
              "      <td>0.014902</td>\n",
              "      <td>0.018226</td>\n",
              "      <td>0.004216</td>\n",
              "      <td>0.031718</td>\n",
              "      <td>0.012778</td>\n",
              "      <td>0.000006</td>\n",
              "      <td>0.000047</td>\n",
              "      <td>...</td>\n",
              "      <td>0.027003</td>\n",
              "      <td>0.000609</td>\n",
              "      <td>0.009085</td>\n",
              "      <td>0.006057</td>\n",
              "      <td>0.035851</td>\n",
              "      <td>0.047674</td>\n",
              "      <td>0.037715</td>\n",
              "      <td>-0.000247</td>\n",
              "      <td>0.025907</td>\n",
              "      <td>0.025005</td>\n",
              "      <td>0.001000</td>\n",
              "      <td>-0.000435</td>\n",
              "      <td>-0.000186</td>\n",
              "      <td>0.026766</td>\n",
              "      <td>0.026106</td>\n",
              "      <td>0.005349</td>\n",
              "      <td>0.002157</td>\n",
              "      <td>-0.001236</td>\n",
              "      <td>0.013900</td>\n",
              "      <td>0.033635</td>\n",
              "      <td>0.031776</td>\n",
              "      <td>0.036311</td>\n",
              "      <td>0.048544</td>\n",
              "      <td>-0.000449</td>\n",
              "      <td>0.011325</td>\n",
              "      <td>0.005910</td>\n",
              "      <td>0.029098</td>\n",
              "      <td>-0.000529</td>\n",
              "      <td>0.003543</td>\n",
              "      <td>0.001510</td>\n",
              "      <td>0.053596</td>\n",
              "      <td>0.009492</td>\n",
              "      <td>0.006391</td>\n",
              "      <td>0.003279</td>\n",
              "      <td>0.016281</td>\n",
              "      <td>0.002777</td>\n",
              "      <td>0.017728</td>\n",
              "      <td>0.021583</td>\n",
              "      <td>0.010171</td>\n",
              "      <td>0.038417</td>\n",
              "    </tr>\n",
              "    <tr>\n",
              "      <th>3</th>\n",
              "      <td>0.047832</td>\n",
              "      <td>0.010176</td>\n",
              "      <td>0.000078</td>\n",
              "      <td>-0.000409</td>\n",
              "      <td>0.010386</td>\n",
              "      <td>0.007353</td>\n",
              "      <td>0.007708</td>\n",
              "      <td>0.047639</td>\n",
              "      <td>-0.002822</td>\n",
              "      <td>0.067938</td>\n",
              "      <td>0.015368</td>\n",
              "      <td>0.007629</td>\n",
              "      <td>0.007121</td>\n",
              "      <td>0.005021</td>\n",
              "      <td>0.004876</td>\n",
              "      <td>0.034954</td>\n",
              "      <td>0.040596</td>\n",
              "      <td>0.002970</td>\n",
              "      <td>0.007224</td>\n",
              "      <td>0.022856</td>\n",
              "      <td>0.051820</td>\n",
              "      <td>0.086115</td>\n",
              "      <td>-0.000019</td>\n",
              "      <td>0.027434</td>\n",
              "      <td>0.049204</td>\n",
              "      <td>0.048782</td>\n",
              "      <td>0.004330</td>\n",
              "      <td>0.006554</td>\n",
              "      <td>0.001175</td>\n",
              "      <td>0.018723</td>\n",
              "      <td>0.045369</td>\n",
              "      <td>0.017861</td>\n",
              "      <td>0.011729</td>\n",
              "      <td>0.012486</td>\n",
              "      <td>0.056494</td>\n",
              "      <td>0.033724</td>\n",
              "      <td>0.050707</td>\n",
              "      <td>0.025786</td>\n",
              "      <td>0.002289</td>\n",
              "      <td>0.000156</td>\n",
              "      <td>...</td>\n",
              "      <td>0.006713</td>\n",
              "      <td>0.001430</td>\n",
              "      <td>0.022090</td>\n",
              "      <td>0.003149</td>\n",
              "      <td>0.012095</td>\n",
              "      <td>0.016555</td>\n",
              "      <td>0.023127</td>\n",
              "      <td>0.007705</td>\n",
              "      <td>0.030804</td>\n",
              "      <td>0.025527</td>\n",
              "      <td>-0.000246</td>\n",
              "      <td>0.004194</td>\n",
              "      <td>0.003710</td>\n",
              "      <td>0.021119</td>\n",
              "      <td>0.013888</td>\n",
              "      <td>0.005726</td>\n",
              "      <td>-0.000323</td>\n",
              "      <td>0.010194</td>\n",
              "      <td>0.005931</td>\n",
              "      <td>0.037300</td>\n",
              "      <td>0.004974</td>\n",
              "      <td>0.020111</td>\n",
              "      <td>0.009727</td>\n",
              "      <td>-0.000054</td>\n",
              "      <td>0.001553</td>\n",
              "      <td>-0.001242</td>\n",
              "      <td>0.006333</td>\n",
              "      <td>0.000372</td>\n",
              "      <td>0.002442</td>\n",
              "      <td>0.000904</td>\n",
              "      <td>-0.003327</td>\n",
              "      <td>0.041326</td>\n",
              "      <td>0.004831</td>\n",
              "      <td>0.029180</td>\n",
              "      <td>0.018356</td>\n",
              "      <td>0.008074</td>\n",
              "      <td>0.024054</td>\n",
              "      <td>0.066603</td>\n",
              "      <td>0.012784</td>\n",
              "      <td>0.033870</td>\n",
              "    </tr>\n",
              "    <tr>\n",
              "      <th>4</th>\n",
              "      <td>0.008556</td>\n",
              "      <td>0.003570</td>\n",
              "      <td>0.005496</td>\n",
              "      <td>0.010051</td>\n",
              "      <td>0.007730</td>\n",
              "      <td>0.045267</td>\n",
              "      <td>0.049428</td>\n",
              "      <td>0.026842</td>\n",
              "      <td>0.012675</td>\n",
              "      <td>0.001223</td>\n",
              "      <td>0.028820</td>\n",
              "      <td>0.000712</td>\n",
              "      <td>0.004302</td>\n",
              "      <td>0.002887</td>\n",
              "      <td>0.005704</td>\n",
              "      <td>0.008727</td>\n",
              "      <td>0.034685</td>\n",
              "      <td>0.009686</td>\n",
              "      <td>0.019069</td>\n",
              "      <td>0.000137</td>\n",
              "      <td>0.021424</td>\n",
              "      <td>0.064962</td>\n",
              "      <td>0.000869</td>\n",
              "      <td>0.012280</td>\n",
              "      <td>0.029029</td>\n",
              "      <td>0.003381</td>\n",
              "      <td>0.011271</td>\n",
              "      <td>0.029281</td>\n",
              "      <td>-0.000650</td>\n",
              "      <td>0.005504</td>\n",
              "      <td>0.045089</td>\n",
              "      <td>0.026013</td>\n",
              "      <td>-0.000662</td>\n",
              "      <td>0.010328</td>\n",
              "      <td>0.001270</td>\n",
              "      <td>0.018917</td>\n",
              "      <td>0.024698</td>\n",
              "      <td>0.017924</td>\n",
              "      <td>0.000437</td>\n",
              "      <td>-0.000043</td>\n",
              "      <td>...</td>\n",
              "      <td>0.044671</td>\n",
              "      <td>-0.000055</td>\n",
              "      <td>0.019660</td>\n",
              "      <td>0.001630</td>\n",
              "      <td>-0.001932</td>\n",
              "      <td>0.042147</td>\n",
              "      <td>0.052855</td>\n",
              "      <td>-0.000019</td>\n",
              "      <td>0.030112</td>\n",
              "      <td>0.006085</td>\n",
              "      <td>0.001021</td>\n",
              "      <td>-0.000324</td>\n",
              "      <td>0.014961</td>\n",
              "      <td>0.005190</td>\n",
              "      <td>0.028613</td>\n",
              "      <td>0.001247</td>\n",
              "      <td>0.002776</td>\n",
              "      <td>0.004919</td>\n",
              "      <td>0.024057</td>\n",
              "      <td>0.038780</td>\n",
              "      <td>0.013592</td>\n",
              "      <td>0.018443</td>\n",
              "      <td>0.006194</td>\n",
              "      <td>0.001207</td>\n",
              "      <td>0.008388</td>\n",
              "      <td>-0.001365</td>\n",
              "      <td>0.029492</td>\n",
              "      <td>-0.000073</td>\n",
              "      <td>-0.000065</td>\n",
              "      <td>0.000731</td>\n",
              "      <td>0.050573</td>\n",
              "      <td>0.020767</td>\n",
              "      <td>0.000379</td>\n",
              "      <td>0.002085</td>\n",
              "      <td>0.011848</td>\n",
              "      <td>0.002977</td>\n",
              "      <td>0.018112</td>\n",
              "      <td>0.044516</td>\n",
              "      <td>0.026557</td>\n",
              "      <td>0.041415</td>\n",
              "    </tr>\n",
              "  </tbody>\n",
              "</table>\n",
              "<p>5 rows × 1024 columns</p>\n",
              "</div>"
            ],
            "text/plain": [
              "       0         1         2     ...      1021      1022      1023\n",
              "0  0.003117  0.002372 -0.001839  ...  0.030277  0.031182  0.030853\n",
              "1  0.008927  0.010169 -0.002842  ...  0.016052  0.023731  0.025050\n",
              "2  0.012972 -0.000020  0.040654  ...  0.021583  0.010171  0.038417\n",
              "3  0.047832  0.010176  0.000078  ...  0.066603  0.012784  0.033870\n",
              "4  0.008556  0.003570  0.005496  ...  0.044516  0.026557  0.041415\n",
              "\n",
              "[5 rows x 1024 columns]"
            ]
          },
          "metadata": {
            "tags": []
          },
          "execution_count": 66
        }
      ]
    },
    {
      "cell_type": "code",
      "metadata": {
        "id": "4lR-fEGGm1b0"
      },
      "source": [
        "farsi['tweet'] = farsi.apply(deEmojify, axis=1)"
      ],
      "execution_count": null,
      "outputs": []
    },
    {
      "cell_type": "code",
      "metadata": {
        "id": "mRfcYj3bnIw1"
      },
      "source": [
        "farsi = farsi.sample(frac=1).reset_index(drop=True)"
      ],
      "execution_count": null,
      "outputs": []
    },
    {
      "cell_type": "code",
      "metadata": {
        "colab": {
          "base_uri": "https://localhost:8080/",
          "height": 204
        },
        "id": "810s4vm9nQ4i",
        "outputId": "0649f217-29d7-4360-bff9-41ce40a6fef7"
      },
      "source": [
        "farsi.head()"
      ],
      "execution_count": null,
      "outputs": [
        {
          "output_type": "execute_result",
          "data": {
            "text/html": [
              "<div>\n",
              "<style scoped>\n",
              "    .dataframe tbody tr th:only-of-type {\n",
              "        vertical-align: middle;\n",
              "    }\n",
              "\n",
              "    .dataframe tbody tr th {\n",
              "        vertical-align: top;\n",
              "    }\n",
              "\n",
              "    .dataframe thead th {\n",
              "        text-align: right;\n",
              "    }\n",
              "</style>\n",
              "<table border=\"1\" class=\"dataframe\">\n",
              "  <thead>\n",
              "    <tr style=\"text-align: right;\">\n",
              "      <th></th>\n",
              "      <th>tweet</th>\n",
              "      <th>class</th>\n",
              "    </tr>\n",
              "  </thead>\n",
              "  <tbody>\n",
              "    <tr>\n",
              "      <th>0</th>\n",
              "      <td>با این حال، شما کتاب «خداحافظ‌گری کوپر» را برد...</td>\n",
              "      <td>0.0</td>\n",
              "    </tr>\n",
              "    <tr>\n",
              "      <th>1</th>\n",
              "      <td>من تو این ٥ ماه متوجه شدم تمام بچه‌های اروپایی...</td>\n",
              "      <td>0.0</td>\n",
              "    </tr>\n",
              "    <tr>\n",
              "      <th>2</th>\n",
              "      <td>در کوردستان احزاب کوردستانی با مردم خود بیعت ت...</td>\n",
              "      <td>0.0</td>\n",
              "    </tr>\n",
              "    <tr>\n",
              "      <th>3</th>\n",
              "      <td>دختر آبی برای حقوق از دست رفته‌اش جنگید و به م...</td>\n",
              "      <td>0.0</td>\n",
              "    </tr>\n",
              "    <tr>\n",
              "      <th>4</th>\n",
              "      <td>بهترین موضع آمریکا در قبال توقیف نفتکش بریتانی...</td>\n",
              "      <td>1.0</td>\n",
              "    </tr>\n",
              "  </tbody>\n",
              "</table>\n",
              "</div>"
            ],
            "text/plain": [
              "                                               tweet  class\n",
              "0  با این حال، شما کتاب «خداحافظ‌گری کوپر» را برد...    0.0\n",
              "1  من تو این ٥ ماه متوجه شدم تمام بچه‌های اروپایی...    0.0\n",
              "2  در کوردستان احزاب کوردستانی با مردم خود بیعت ت...    0.0\n",
              "3  دختر آبی برای حقوق از دست رفته‌اش جنگید و به م...    0.0\n",
              "4  بهترین موضع آمریکا در قبال توقیف نفتکش بریتانی...    1.0"
            ]
          },
          "metadata": {
            "tags": []
          },
          "execution_count": 53
        }
      ]
    },
    {
      "cell_type": "code",
      "metadata": {
        "id": "ZLeiF-qjJ_Ui"
      },
      "source": [
        "farsi['embeddings'] = farsi.apply(lambda row:laser.embed_sentences( [row.tweet]\n",
        "    ,\n",
        "    lang='pes'), axis=1)"
      ],
      "execution_count": null,
      "outputs": []
    },
    {
      "cell_type": "code",
      "metadata": {
        "colab": {
          "base_uri": "https://localhost:8080/",
          "height": 204
        },
        "id": "z-IX_ZRBKTOx",
        "outputId": "f57ebaa7-1b12-4205-f912-46dd4b7c7175"
      },
      "source": [
        "farsi.head()"
      ],
      "execution_count": null,
      "outputs": [
        {
          "output_type": "execute_result",
          "data": {
            "text/html": [
              "<div>\n",
              "<style scoped>\n",
              "    .dataframe tbody tr th:only-of-type {\n",
              "        vertical-align: middle;\n",
              "    }\n",
              "\n",
              "    .dataframe tbody tr th {\n",
              "        vertical-align: top;\n",
              "    }\n",
              "\n",
              "    .dataframe thead th {\n",
              "        text-align: right;\n",
              "    }\n",
              "</style>\n",
              "<table border=\"1\" class=\"dataframe\">\n",
              "  <thead>\n",
              "    <tr style=\"text-align: right;\">\n",
              "      <th></th>\n",
              "      <th>tweet</th>\n",
              "      <th>class</th>\n",
              "      <th>embeddings</th>\n",
              "    </tr>\n",
              "  </thead>\n",
              "  <tbody>\n",
              "    <tr>\n",
              "      <th>0</th>\n",
              "      <td>با این حال، شما کتاب «خداحافظ‌گری کوپر» را برد...</td>\n",
              "      <td>0.0</td>\n",
              "      <td>[[0.014829095, 0.020921092, 0.0014574535, 0.00...</td>\n",
              "    </tr>\n",
              "    <tr>\n",
              "      <th>1</th>\n",
              "      <td>من تو این ٥ ماه متوجه شدم تمام بچه‌های اروپایی...</td>\n",
              "      <td>0.0</td>\n",
              "      <td>[[0.016591031, 0.009440024, 0.0018926356, 0.01...</td>\n",
              "    </tr>\n",
              "    <tr>\n",
              "      <th>2</th>\n",
              "      <td>در کوردستان احزاب کوردستانی با مردم خود بیعت ت...</td>\n",
              "      <td>0.0</td>\n",
              "      <td>[[0.005744106, 0.0065343273, 0.0020629675, 0.0...</td>\n",
              "    </tr>\n",
              "    <tr>\n",
              "      <th>3</th>\n",
              "      <td>دختر آبی برای حقوق از دست رفته‌اش جنگید و به م...</td>\n",
              "      <td>0.0</td>\n",
              "      <td>[[0.012158961, -4.1281505e-06, 0.0028556427, 0...</td>\n",
              "    </tr>\n",
              "    <tr>\n",
              "      <th>4</th>\n",
              "      <td>بهترین موضع آمریکا در قبال توقیف نفتکش بریتانی...</td>\n",
              "      <td>1.0</td>\n",
              "      <td>[[0.008261064, 0.0026255003, 0.0041782763, 0.0...</td>\n",
              "    </tr>\n",
              "  </tbody>\n",
              "</table>\n",
              "</div>"
            ],
            "text/plain": [
              "                                               tweet  ...                                         embeddings\n",
              "0  با این حال، شما کتاب «خداحافظ‌گری کوپر» را برد...  ...  [[0.014829095, 0.020921092, 0.0014574535, 0.00...\n",
              "1  من تو این ٥ ماه متوجه شدم تمام بچه‌های اروپایی...  ...  [[0.016591031, 0.009440024, 0.0018926356, 0.01...\n",
              "2  در کوردستان احزاب کوردستانی با مردم خود بیعت ت...  ...  [[0.005744106, 0.0065343273, 0.0020629675, 0.0...\n",
              "3  دختر آبی برای حقوق از دست رفته‌اش جنگید و به م...  ...  [[0.012158961, -4.1281505e-06, 0.0028556427, 0...\n",
              "4  بهترین موضع آمریکا در قبال توقیف نفتکش بریتانی...  ...  [[0.008261064, 0.0026255003, 0.0041782763, 0.0...\n",
              "\n",
              "[5 rows x 3 columns]"
            ]
          },
          "metadata": {
            "tags": []
          },
          "execution_count": 56
        }
      ]
    },
    {
      "cell_type": "code",
      "metadata": {
        "id": "iNnAVXTfLIsW"
      },
      "source": [
        "farsi['embeddings'] = farsi.apply(lambda row:row.embeddings[0], axis=1)"
      ],
      "execution_count": null,
      "outputs": []
    },
    {
      "cell_type": "code",
      "metadata": {
        "colab": {
          "base_uri": "https://localhost:8080/",
          "height": 204
        },
        "id": "uM43WSLzoJ0-",
        "outputId": "e7f20a83-0095-46e3-b243-5be51d9b2827"
      },
      "source": [
        "farsi.head()"
      ],
      "execution_count": null,
      "outputs": [
        {
          "output_type": "execute_result",
          "data": {
            "text/html": [
              "<div>\n",
              "<style scoped>\n",
              "    .dataframe tbody tr th:only-of-type {\n",
              "        vertical-align: middle;\n",
              "    }\n",
              "\n",
              "    .dataframe tbody tr th {\n",
              "        vertical-align: top;\n",
              "    }\n",
              "\n",
              "    .dataframe thead th {\n",
              "        text-align: right;\n",
              "    }\n",
              "</style>\n",
              "<table border=\"1\" class=\"dataframe\">\n",
              "  <thead>\n",
              "    <tr style=\"text-align: right;\">\n",
              "      <th></th>\n",
              "      <th>tweet</th>\n",
              "      <th>class</th>\n",
              "      <th>embeddings</th>\n",
              "    </tr>\n",
              "  </thead>\n",
              "  <tbody>\n",
              "    <tr>\n",
              "      <th>0</th>\n",
              "      <td>با این حال، شما کتاب «خداحافظ‌گری کوپر» را برد...</td>\n",
              "      <td>0.0</td>\n",
              "      <td>[0.014829095, 0.020921092, 0.0014574535, 0.006...</td>\n",
              "    </tr>\n",
              "    <tr>\n",
              "      <th>1</th>\n",
              "      <td>من تو این ٥ ماه متوجه شدم تمام بچه‌های اروپایی...</td>\n",
              "      <td>0.0</td>\n",
              "      <td>[0.016591031, 0.009440024, 0.0018926356, 0.011...</td>\n",
              "    </tr>\n",
              "    <tr>\n",
              "      <th>2</th>\n",
              "      <td>در کوردستان احزاب کوردستانی با مردم خود بیعت ت...</td>\n",
              "      <td>0.0</td>\n",
              "      <td>[0.005744106, 0.0065343273, 0.0020629675, 0.02...</td>\n",
              "    </tr>\n",
              "    <tr>\n",
              "      <th>3</th>\n",
              "      <td>دختر آبی برای حقوق از دست رفته‌اش جنگید و به م...</td>\n",
              "      <td>0.0</td>\n",
              "      <td>[0.012158961, -4.1281505e-06, 0.0028556427, 0....</td>\n",
              "    </tr>\n",
              "    <tr>\n",
              "      <th>4</th>\n",
              "      <td>بهترین موضع آمریکا در قبال توقیف نفتکش بریتانی...</td>\n",
              "      <td>1.0</td>\n",
              "      <td>[0.008261064, 0.0026255003, 0.0041782763, 0.01...</td>\n",
              "    </tr>\n",
              "  </tbody>\n",
              "</table>\n",
              "</div>"
            ],
            "text/plain": [
              "                                               tweet  ...                                         embeddings\n",
              "0  با این حال، شما کتاب «خداحافظ‌گری کوپر» را برد...  ...  [0.014829095, 0.020921092, 0.0014574535, 0.006...\n",
              "1  من تو این ٥ ماه متوجه شدم تمام بچه‌های اروپایی...  ...  [0.016591031, 0.009440024, 0.0018926356, 0.011...\n",
              "2  در کوردستان احزاب کوردستانی با مردم خود بیعت ت...  ...  [0.005744106, 0.0065343273, 0.0020629675, 0.02...\n",
              "3  دختر آبی برای حقوق از دست رفته‌اش جنگید و به م...  ...  [0.012158961, -4.1281505e-06, 0.0028556427, 0....\n",
              "4  بهترین موضع آمریکا در قبال توقیف نفتکش بریتانی...  ...  [0.008261064, 0.0026255003, 0.0041782763, 0.01...\n",
              "\n",
              "[5 rows x 3 columns]"
            ]
          },
          "metadata": {
            "tags": []
          },
          "execution_count": 67
        }
      ]
    },
    {
      "cell_type": "code",
      "metadata": {
        "id": "nTw1nVuEuWJp"
      },
      "source": [
        "y_fa = farsi[\"class\"]\n",
        "x_fa = pd.DataFrame(farsi['embeddings'].to_list())"
      ],
      "execution_count": null,
      "outputs": []
    },
    {
      "cell_type": "code",
      "metadata": {
        "id": "U0XrW_cV9zoc"
      },
      "source": [
        "x_tune, x_test, y_tune, y_test = train_test_split(x_fa, y_fa, test_size=0.4, random_state=101)"
      ],
      "execution_count": null,
      "outputs": []
    },
    {
      "cell_type": "markdown",
      "metadata": {
        "id": "Lr-DX6wlgYE1"
      },
      "source": [
        "# New Section"
      ]
    },
    {
      "cell_type": "code",
      "metadata": {
        "colab": {
          "base_uri": "https://localhost:8080/"
        },
        "id": "4A6vE0yXJGb0",
        "outputId": "0aae9f01-e4a2-4783-e39d-226cdd82b9d6"
      },
      "source": [
        "print(x_tune.shape, x_test.shape)"
      ],
      "execution_count": null,
      "outputs": [
        {
          "output_type": "stream",
          "text": [
            "(3120, 1024) (2080, 1024)\n"
          ],
          "name": "stdout"
        }
      ]
    },
    {
      "cell_type": "code",
      "metadata": {
        "id": "t_EqNLM1Jnzq"
      },
      "source": [
        "xx_train = x_train.values.tolist()\n",
        "xx_test = x_test.values.tolist()\n",
        "yy_train = y_train.values.astype(dtype='float32').tolist()\n",
        "yy_test = y_test.values.astype(dtype='float32').tolist()\n",
        "xx_tune = x_tune.values.tolist()\n",
        "yy_tune = y_tune.values.tolist()"
      ],
      "execution_count": null,
      "outputs": []
    },
    {
      "cell_type": "code",
      "metadata": {
        "id": "fQL-DcsOJv3t"
      },
      "source": [
        "\n",
        "import torch\n",
        "cuda0 = torch.device('cuda:0')\n",
        "xx_train = torch.tensor(xx_train, dtype=torch.float32, device=cuda0)\n",
        "xx_test = torch.tensor(xx_test, dtype=torch.float32, device=cuda0)\n",
        "yy_train = torch.tensor(yy_train, dtype=torch.float32, device=cuda0)\n",
        "yy_test = torch.tensor(yy_test, dtype=torch.float32, device=cuda0)\n",
        "xx_tune = torch.tensor(xx_tune, dtype=torch.float32, device=cuda0)\n",
        "yy_tune = torch.tensor(yy_tune, dtype=torch.float32, device=cuda0)"
      ],
      "execution_count": null,
      "outputs": []
    },
    {
      "cell_type": "code",
      "metadata": {
        "id": "VKZy26um-NCA"
      },
      "source": [
        "from torch import nn\n",
        "torch.manual_seed(101)\n",
        "class Network(nn.Module):\n",
        "  def __init__(self):\n",
        "    super().__init__()\n",
        "    self.fc1 = nn.Linear(1024, 768)\n",
        "    self.fc2 = nn.Linear(768, 128)\n",
        "    self.fc3 = nn.Linear(128, 1)\n",
        "    self.relu = nn.LeakyReLU()\n",
        "    self.sigmoid = nn.Sigmoid()\n",
        "\n",
        "  def forward(self, x):\n",
        "    f1 = self.relu(self.fc1(x))\n",
        "    f2 = self.relu(self.fc2(f1))\n",
        "    output = self.fc3(f2)\n",
        "    output = self.sigmoid(output)\n",
        "    return output"
      ],
      "execution_count": null,
      "outputs": []
    },
    {
      "cell_type": "code",
      "metadata": {
        "id": "y88rk-pP7NQf"
      },
      "source": [
        "# we want to change network architeture change below "
      ],
      "execution_count": null,
      "outputs": []
    },
    {
      "cell_type": "code",
      "metadata": {
        "id": "F6x93U_W7LL7"
      },
      "source": [
        "# from torch import nn\n",
        "# torch.manual_seed(101)\n",
        "# class Network(nn.Module):\n",
        "#   def __init__(self):\n",
        "#     super().__init__()\n",
        "#     self.fc1 = nn.Linear(1024, 768)\n",
        "#     self.fc2 = nn.Linear(768, 1)\n",
        "#   # self.fc3 = nn.Linear(128, 1)\n",
        "#     self.relu = nn.LeakyReLU()\n",
        "#     self.sigmoid = nn.Sigmoid()\n",
        "\n",
        "#   def forward(self, x):\n",
        "#     f1 = self.relu(self.fc1(x))\n",
        "#   # f2 = self.relu(self.fc2(f1))\n",
        "#     output = self.fc2(f1)\n",
        "#     output = self.sigmoid(output)\n",
        "#     return output"
      ],
      "execution_count": null,
      "outputs": []
    },
    {
      "cell_type": "code",
      "metadata": {
        "id": "wccpcMtYB_bx",
        "colab": {
          "base_uri": "https://localhost:8080/"
        },
        "outputId": "07be2e63-4e64-446c-9c2a-413a8888c977"
      },
      "source": [
        "model = Network()\n",
        "model.to('cuda:0')"
      ],
      "execution_count": null,
      "outputs": [
        {
          "output_type": "execute_result",
          "data": {
            "text/plain": [
              "Network(\n",
              "  (fc1): Linear(in_features=1024, out_features=768, bias=True)\n",
              "  (fc2): Linear(in_features=768, out_features=128, bias=True)\n",
              "  (fc3): Linear(in_features=128, out_features=1, bias=True)\n",
              "  (relu): LeakyReLU(negative_slope=0.01)\n",
              "  (sigmoid): Sigmoid()\n",
              ")"
            ]
          },
          "metadata": {
            "tags": []
          },
          "execution_count": 206
        }
      ]
    },
    {
      "cell_type": "code",
      "metadata": {
        "id": "gl1F8k4BDG6e"
      },
      "source": [
        "\n",
        "# define the optimizer\n",
        "criterion = nn.BCELoss()\n",
        "optimizer = torch.optim.AdamW(model.parameters(),\n",
        "                  lr = 1e-5) \n",
        "n_epochs = 100 # or whatever\n",
        "batch_size = 16 # or whatever"
      ],
      "execution_count": null,
      "outputs": []
    },
    {
      "cell_type": "code",
      "metadata": {
        "colab": {
          "base_uri": "https://localhost:8080/"
        },
        "id": "jdRPsih_cM9n",
        "outputId": "31bf5d78-f5db-4ed8-848b-62fa7cfd9e6e"
      },
      "source": [
        "xx_train.size()[0]"
      ],
      "execution_count": null,
      "outputs": [
        {
          "output_type": "execute_result",
          "data": {
            "text/plain": [
              "10853"
            ]
          },
          "metadata": {
            "tags": []
          },
          "execution_count": 208
        }
      ]
    },
    {
      "cell_type": "code",
      "metadata": {
        "id": "AEJJkVP7DtLm"
      },
      "source": [
        "model.train()\n",
        "torch.manual_seed(101)\n",
        "for epoch in range(n_epochs):\n",
        "\n",
        "    # X is a torch Variable\n",
        "    #  permutation = torch.randperm(X.size()[0])\n",
        "\n",
        "    for i in range(0,xx_train.size()[0], batch_size):\n",
        "        optimizer.zero_grad()\n",
        "\n",
        "        # indices = permutation[i:i+batch_size]\n",
        "        batch_x, batch_y = xx_train[i:i+batch_size], yy_train[i:i+batch_size]\n",
        "\n",
        "        # in case you wanted a semi-full example\n",
        "        outputs = model.forward(batch_x)\n",
        "        loss = criterion(outputs.squeeze(),batch_y)\n",
        "\n",
        "        loss.backward()\n",
        "        optimizer.step()"
      ],
      "execution_count": null,
      "outputs": []
    },
    {
      "cell_type": "code",
      "metadata": {
        "id": "PVOKEQpdErgL"
      },
      "source": [
        "model.eval()\n",
        "y_pred = model(xx_tune)\n",
        "y_pred = y_pred.squeeze()\n",
        "y_pred = torch.round(y_pred)"
      ],
      "execution_count": null,
      "outputs": []
    },
    {
      "cell_type": "code",
      "metadata": {
        "colab": {
          "base_uri": "https://localhost:8080/"
        },
        "id": "mBmS8586hXSo",
        "outputId": "3c7e683d-c1ed-42dd-dd97-ff7631f6a1cb"
      },
      "source": [
        "print(classification_report([int(i) for i in yy_tune], [int(j) for j in y_pred]))"
      ],
      "execution_count": null,
      "outputs": [
        {
          "output_type": "stream",
          "text": [
            "              precision    recall  f1-score   support\n",
            "\n",
            "           0       0.91      0.73      0.81      2654\n",
            "           1       0.27      0.57      0.37       466\n",
            "\n",
            "    accuracy                           0.71      3120\n",
            "   macro avg       0.59      0.65      0.59      3120\n",
            "weighted avg       0.81      0.71      0.74      3120\n",
            "\n"
          ],
          "name": "stdout"
        }
      ]
    },
    {
      "cell_type": "code",
      "metadata": {
        "id": "GCyx8DcnEI7f"
      },
      "source": [
        "# train using fine tune\n"
      ],
      "execution_count": null,
      "outputs": []
    },
    {
      "cell_type": "code",
      "metadata": {
        "id": "M1TUIOQpsG7y"
      },
      "source": [
        "model.train()\n",
        "\n",
        "for epoch in range(30):\n",
        "\n",
        "    # X is a torch Variable\n",
        "    #  permutation = torch.randperm(X.size()[0])\n",
        "\n",
        "    for i in range(0,xx_tune.size()[0], batch_size):\n",
        "        optimizer.zero_grad()\n",
        "\n",
        "        # indices = permutation[i:i+batch_size]\n",
        "        batch_x, batch_y = xx_tune[i:i+batch_size], yy_tune[i:i+batch_size]\n",
        "\n",
        "        # in case you wanted a semi-full example\n",
        "        outputs = model.forward(batch_x)\n",
        "        loss = criterion(outputs.squeeze(),batch_y)\n",
        "\n",
        "        loss.backward()\n",
        "        optimizer.step()"
      ],
      "execution_count": null,
      "outputs": []
    },
    {
      "cell_type": "code",
      "metadata": {
        "id": "fn_qgODE3ED0"
      },
      "source": [
        "model.eval()\n",
        "yy_pred = model(xx_test)\n",
        "yy_pred = yy_pred.squeeze()\n",
        "yy_pred = torch.round(yy_pred)"
      ],
      "execution_count": null,
      "outputs": []
    },
    {
      "cell_type": "code",
      "metadata": {
        "colab": {
          "base_uri": "https://localhost:8080/"
        },
        "id": "JBTp8niu__Ci",
        "outputId": "15b9d17e-d89d-4a93-b7ae-e1af83886864"
      },
      "source": [
        "print(\"result for testing against dataset\")"
      ],
      "execution_count": null,
      "outputs": [
        {
          "output_type": "stream",
          "text": [
            "result for testing against dataset\n"
          ],
          "name": "stdout"
        }
      ]
    },
    {
      "cell_type": "code",
      "metadata": {
        "id": "0OuYC9O43QAd",
        "colab": {
          "base_uri": "https://localhost:8080/"
        },
        "outputId": "bc20ec6d-d6aa-45a5-db27-a4fc40c5cd77"
      },
      "source": [
        "print(classification_report([int(i) for i in yy_test], [int(j) for j in yy_pred]))"
      ],
      "execution_count": null,
      "outputs": [
        {
          "output_type": "stream",
          "text": [
            "              precision    recall  f1-score   support\n",
            "\n",
            "           0       0.90      0.96      0.93      1782\n",
            "           1       0.61      0.34      0.44       298\n",
            "\n",
            "    accuracy                           0.87      2080\n",
            "   macro avg       0.75      0.65      0.68      2080\n",
            "weighted avg       0.86      0.87      0.86      2080\n",
            "\n"
          ],
          "name": "stdout"
        }
      ]
    },
    {
      "cell_type": "code",
      "metadata": {
        "id": "gCbiI3u2_6mw"
      },
      "source": [
        "# lets see what happens if we dont use english dataset and only use farsi dataset"
      ],
      "execution_count": null,
      "outputs": []
    },
    {
      "cell_type": "code",
      "metadata": {
        "colab": {
          "base_uri": "https://localhost:8080/"
        },
        "id": "GymBOHGyGk2v",
        "outputId": "8da61a82-faa1-4154-c1ab-c81ad5bb015b"
      },
      "source": [
        "model_farsi_only = Network()\n",
        "model_farsi_only.to('cuda:0')"
      ],
      "execution_count": null,
      "outputs": [
        {
          "output_type": "execute_result",
          "data": {
            "text/plain": [
              "Network(\n",
              "  (fc1): Linear(in_features=1024, out_features=768, bias=True)\n",
              "  (fc2): Linear(in_features=768, out_features=128, bias=True)\n",
              "  (fc3): Linear(in_features=128, out_features=1, bias=True)\n",
              "  (relu): LeakyReLU(negative_slope=0.01)\n",
              "  (sigmoid): Sigmoid()\n",
              ")"
            ]
          },
          "metadata": {
            "tags": []
          },
          "execution_count": 199
        }
      ]
    },
    {
      "cell_type": "code",
      "metadata": {
        "id": "XYEBa21uIgmV"
      },
      "source": [
        "# define the optimizer\n",
        "criterion = nn.BCELoss()\n",
        "optimizer = torch.optim.AdamW(model_farsi_only.parameters(),\n",
        "                  lr = 1e-5) \n",
        "n_epochs = 100 # or whatever\n",
        "batch_size = 16 # or whatever"
      ],
      "execution_count": null,
      "outputs": []
    },
    {
      "cell_type": "code",
      "metadata": {
        "id": "HWpLIAkBGvlE"
      },
      "source": [
        "model_farsi_only.train()\n",
        "torch.manual_seed(101)\n",
        "for epoch in range(n_epochs):\n",
        "\n",
        "    # X is a torch Variable\n",
        "    #  permutation = torch.randperm(X.size()[0])\n",
        "\n",
        "    for i in range(0,xx_tune.size()[0], batch_size):\n",
        "        optimizer.zero_grad()\n",
        "\n",
        "        # indices = permutation[i:i+batch_size]\n",
        "        batch_x, batch_y = xx_tune[i:i+batch_size], yy_tune[i:i+batch_size]\n",
        "\n",
        "        # in case you wanted a semi-full example\n",
        "        outputs = model_farsi_only.forward(batch_x)\n",
        "        loss = criterion(outputs.squeeze(),batch_y)\n",
        "\n",
        "        loss.backward()\n",
        "        optimizer.step()"
      ],
      "execution_count": null,
      "outputs": []
    },
    {
      "cell_type": "code",
      "metadata": {
        "colab": {
          "base_uri": "https://localhost:8080/"
        },
        "id": "__Y7QqivHuHj",
        "outputId": "75e62ed3-3cfe-47b6-915e-4d18ed454687"
      },
      "source": [
        "model_farsi_only.eval()\n",
        "yy_pred = model_farsi_only(xx_test)\n",
        "yy_pred = yy_pred.squeeze()\n",
        "yy_pred = torch.round(yy_pred)\n",
        "print(classification_report([int(i) for i in yy_test], [int(j) for j in yy_pred]))"
      ],
      "execution_count": null,
      "outputs": [
        {
          "output_type": "stream",
          "text": [
            "              precision    recall  f1-score   support\n",
            "\n",
            "           0       0.90      0.97      0.93      1782\n",
            "           1       0.67      0.36      0.47       298\n",
            "\n",
            "    accuracy                           0.88      2080\n",
            "   macro avg       0.79      0.66      0.70      2080\n",
            "weighted avg       0.87      0.88      0.87      2080\n",
            "\n"
          ],
          "name": "stdout"
        }
      ]
    },
    {
      "cell_type": "code",
      "metadata": {
        "id": "K_HrlyiwH96k"
      },
      "source": [
        ""
      ],
      "execution_count": null,
      "outputs": []
    }
  ]
}