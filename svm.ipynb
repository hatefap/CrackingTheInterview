{
  "nbformat": 4,
  "nbformat_minor": 0,
  "metadata": {
    "colab": {
      "name": "svm.ipynb",
      "provenance": [],
      "collapsed_sections": [],
      "mount_file_id": "1b7IlXogMxTCtIF3o7wBZyVui4Vya-Nm6",
      "authorship_tag": "ABX9TyMBNehqnv9ekazY8YeLS1wq",
      "include_colab_link": true
    },
    "kernelspec": {
      "name": "python3",
      "display_name": "Python 3"
    },
    "language_info": {
      "name": "python"
    }
  },
  "cells": [
    {
      "cell_type": "markdown",
      "metadata": {
        "id": "view-in-github",
        "colab_type": "text"
      },
      "source": [
        "<a href=\"https://colab.research.google.com/github/hatefap/CrackingTheInterview/blob/master/svm.ipynb\" target=\"_parent\"><img src=\"https://colab.research.google.com/assets/colab-badge.svg\" alt=\"Open In Colab\"/></a>"
      ]
    },
    {
      "cell_type": "code",
      "metadata": {
        "id": "dccZay6y7JKL"
      },
      "source": [
        "import pandas as pd\n",
        "import numpy as np\n",
        "import nltk\n",
        "from nltk.tokenize import word_tokenize\n",
        "from nltk import pos_tag\n",
        "from nltk.corpus import stopwords\n",
        "from nltk.stem import WordNetLemmatizer\n",
        "from sklearn.preprocessing import LabelEncoder\n",
        "from collections import defaultdict\n",
        "from nltk.corpus import wordnet as wn\n",
        "from sklearn.feature_extraction.text import TfidfVectorizer\n",
        "from sklearn import model_selection, naive_bayes, svm\n",
        "from sklearn.metrics import accuracy_score\n",
        "from sklearn.metrics import classification_report\n",
        "import re"
      ],
      "execution_count": null,
      "outputs": []
    },
    {
      "cell_type": "code",
      "metadata": {
        "colab": {
          "base_uri": "https://localhost:8080/"
        },
        "id": "Jf5APExb72Xc",
        "outputId": "27090531-dce6-4f8a-cb90-d85747c99b1e"
      },
      "source": [
        "nltk.download('punkt')\n",
        "nltk.download('wordnet')\n",
        "nltk.download('averaged_perceptron_tagger')\n",
        "nltk.download('stopwords')\n",
        "\n",
        "np.random.seed(101)"
      ],
      "execution_count": null,
      "outputs": [
        {
          "output_type": "stream",
          "text": [
            "[nltk_data] Downloading package punkt to /root/nltk_data...\n",
            "[nltk_data]   Package punkt is already up-to-date!\n",
            "[nltk_data] Downloading package wordnet to /root/nltk_data...\n",
            "[nltk_data]   Package wordnet is already up-to-date!\n",
            "[nltk_data] Downloading package averaged_perceptron_tagger to\n",
            "[nltk_data]     /root/nltk_data...\n",
            "[nltk_data]   Package averaged_perceptron_tagger is already up-to-\n",
            "[nltk_data]       date!\n",
            "[nltk_data] Downloading package stopwords to /root/nltk_data...\n",
            "[nltk_data]   Package stopwords is already up-to-date!\n"
          ],
          "name": "stdout"
        }
      ]
    },
    {
      "cell_type": "code",
      "metadata": {
        "id": "zIJrUv0l74sn"
      },
      "source": [
        "farsi_path = \"drive/MyDrive/final_final.csv\"\n",
        "english_path = \"drive/MyDrive/my_final_english_hate.csv\"\n",
        "eng = pd.read_csv(english_path)\n",
        "farsi = pd.read_csv(farsi_path)"
      ],
      "execution_count": null,
      "outputs": []
    },
    {
      "cell_type": "code",
      "metadata": {
        "id": "POs-eiWm77Yu"
      },
      "source": [
        "farsi = farsi[['google', 'mbart', 'ref3']]"
      ],
      "execution_count": null,
      "outputs": []
    },
    {
      "cell_type": "code",
      "metadata": {
        "id": "X1skLGdT8MOk"
      },
      "source": [
        "def deEmojify(row):\n",
        "    text = row.tweet\n",
        "    regrex_pattern = re.compile(pattern = \"[\"\n",
        "        u\"\\U0001F600-\\U0001F64F\"  # emoticons\n",
        "        u\"\\U0001F300-\\U0001F5FF\"  # symbols & pictographs\n",
        "        u\"\\U0001F680-\\U0001F6FF\"  # transport & map symbols\n",
        "        u\"\\U0001F1E0-\\U0001F1FF\"  # flags (iOS)\n",
        "                           \"]+\", flags = re.UNICODE)\n",
        "    return regrex_pattern.sub(r'',text)"
      ],
      "execution_count": null,
      "outputs": []
    },
    {
      "cell_type": "code",
      "metadata": {
        "colab": {
          "base_uri": "https://localhost:8080/",
          "height": 204
        },
        "id": "NTmXUqqQ8PHT",
        "outputId": "530087c0-2264-4d62-df04-141238917918"
      },
      "source": [
        "eng = eng.drop(\"Unnamed: 0\", axis=1)\n",
        "eng['tweet'] = eng.apply(deEmojify, axis=1)\n",
        "eng = eng.sample(frac=1).reset_index(drop=True)\n",
        "eng.head()"
      ],
      "execution_count": null,
      "outputs": [
        {
          "output_type": "execute_result",
          "data": {
            "text/html": [
              "<div>\n",
              "<style scoped>\n",
              "    .dataframe tbody tr th:only-of-type {\n",
              "        vertical-align: middle;\n",
              "    }\n",
              "\n",
              "    .dataframe tbody tr th {\n",
              "        vertical-align: top;\n",
              "    }\n",
              "\n",
              "    .dataframe thead th {\n",
              "        text-align: right;\n",
              "    }\n",
              "</style>\n",
              "<table border=\"1\" class=\"dataframe\">\n",
              "  <thead>\n",
              "    <tr style=\"text-align: right;\">\n",
              "      <th></th>\n",
              "      <th>tweet</th>\n",
              "      <th>class</th>\n",
              "    </tr>\n",
              "  </thead>\n",
              "  <tbody>\n",
              "    <tr>\n",
              "      <th>0</th>\n",
              "      <td>RT @USER You a hoe if you give your number to ...</td>\n",
              "      <td>1</td>\n",
              "    </tr>\n",
              "    <tr>\n",
              "      <th>1</th>\n",
              "      <td>Best rider? That goes to a blaxican.</td>\n",
              "      <td>0</td>\n",
              "    </tr>\n",
              "    <tr>\n",
              "      <th>2</th>\n",
              "      <td>@USER hes just a friggin idiot that can say an...</td>\n",
              "      <td>1</td>\n",
              "    </tr>\n",
              "    <tr>\n",
              "      <th>3</th>\n",
              "      <td>That niggas retarded</td>\n",
              "      <td>1</td>\n",
              "    </tr>\n",
              "    <tr>\n",
              "      <th>4</th>\n",
              "      <td>Why is my mother bothering me about the trash?...</td>\n",
              "      <td>0</td>\n",
              "    </tr>\n",
              "  </tbody>\n",
              "</table>\n",
              "</div>"
            ],
            "text/plain": [
              "                                               tweet  class\n",
              "0  RT @USER You a hoe if you give your number to ...      1\n",
              "1               Best rider? That goes to a blaxican.      0\n",
              "2  @USER hes just a friggin idiot that can say an...      1\n",
              "3                               That niggas retarded      1\n",
              "4  Why is my mother bothering me about the trash?...      0"
            ]
          },
          "metadata": {
            "tags": []
          },
          "execution_count": 79
        }
      ]
    },
    {
      "cell_type": "code",
      "metadata": {
        "id": "K9fu5QDu8R_G"
      },
      "source": [
        "def deEmojifyGoogle(row):\n",
        "    text = row.google\n",
        "    regrex_pattern = re.compile(pattern = \"[\"\n",
        "        u\"\\U0001F600-\\U0001F64F\"  # emoticons\n",
        "        u\"\\U0001F300-\\U0001F5FF\"  # symbols & pictographs\n",
        "        u\"\\U0001F680-\\U0001F6FF\"  # transport & map symbols\n",
        "        u\"\\U0001F1E0-\\U0001F1FF\"  # flags (iOS)\n",
        "                           \"]+\", flags = re.UNICODE)\n",
        "    return regrex_pattern.sub(r'',text)"
      ],
      "execution_count": null,
      "outputs": []
    },
    {
      "cell_type": "code",
      "metadata": {
        "id": "kuhaV6jQ8YF6"
      },
      "source": [
        "def deEmojifyMbart(row):\n",
        "    text = row.mbart\n",
        "    regrex_pattern = re.compile(pattern = \"[\"\n",
        "        u\"\\U0001F600-\\U0001F64F\"  # emoticons\n",
        "        u\"\\U0001F300-\\U0001F5FF\"  # symbols & pictographs\n",
        "        u\"\\U0001F680-\\U0001F6FF\"  # transport & map symbols\n",
        "        u\"\\U0001F1E0-\\U0001F1FF\"  # flags (iOS)\n",
        "                           \"]+\", flags = re.UNICODE)\n",
        "    return regrex_pattern.sub(r'',text)"
      ],
      "execution_count": null,
      "outputs": []
    },
    {
      "cell_type": "code",
      "metadata": {
        "colab": {
          "base_uri": "https://localhost:8080/",
          "height": 204
        },
        "id": "I2JUu_Vn8ada",
        "outputId": "6fb6ffac-d9c7-433b-8f38-2913c1012eaa"
      },
      "source": [
        "farsi = farsi.dropna()\n",
        "farsi['google'] = farsi.apply(deEmojifyGoogle, axis=1)\n",
        "farsi['mbart'] = farsi.apply(deEmojifyMbart, axis=1)\n",
        "farsi = farsi.sample(frac=1).reset_index(drop=True)\n",
        "farsi.head()"
      ],
      "execution_count": null,
      "outputs": [
        {
          "output_type": "execute_result",
          "data": {
            "text/html": [
              "<div>\n",
              "<style scoped>\n",
              "    .dataframe tbody tr th:only-of-type {\n",
              "        vertical-align: middle;\n",
              "    }\n",
              "\n",
              "    .dataframe tbody tr th {\n",
              "        vertical-align: top;\n",
              "    }\n",
              "\n",
              "    .dataframe thead th {\n",
              "        text-align: right;\n",
              "    }\n",
              "</style>\n",
              "<table border=\"1\" class=\"dataframe\">\n",
              "  <thead>\n",
              "    <tr style=\"text-align: right;\">\n",
              "      <th></th>\n",
              "      <th>google</th>\n",
              "      <th>mbart</th>\n",
              "      <th>ref3</th>\n",
              "    </tr>\n",
              "  </thead>\n",
              "  <tbody>\n",
              "    <tr>\n",
              "      <th>0</th>\n",
              "      <td>Bvdymyr and tell us that we're ten more comfor...</td>\n",
              "      <td>We were like, we're going to make it easier fo...</td>\n",
              "      <td>0.0</td>\n",
              "    </tr>\n",
              "    <tr>\n",
              "      <th>1</th>\n",
              "      <td>We happened upon the streets Gzart.\\nA city\\nW...</td>\n",
              "      <td>We sat in that alley that had fallen over — it...</td>\n",
              "      <td>0.0</td>\n",
              "    </tr>\n",
              "    <tr>\n",
              "      <th>2</th>\n",
              "      <td>The number of male and female have a very diff...</td>\n",
              "      <td>The number of boys and girls doesn't seem that...</td>\n",
              "      <td>0.0</td>\n",
              "    </tr>\n",
              "    <tr>\n",
              "      <th>3</th>\n",
              "      <td>If Arab students are female doctor Persian He ...</td>\n",
              "      <td>If you're an Arab student, the Ph.D. student o...</td>\n",
              "      <td>0.0</td>\n",
              "    </tr>\n",
              "    <tr>\n",
              "      <th>4</th>\n",
              "      <td>I was jumping up Qtlm a hedgehog.\\nThe prayer ...</td>\n",
              "      <td>It wasn't long before I was going to be the ki...</td>\n",
              "      <td>0.0</td>\n",
              "    </tr>\n",
              "  </tbody>\n",
              "</table>\n",
              "</div>"
            ],
            "text/plain": [
              "                                              google  ... ref3\n",
              "0  Bvdymyr and tell us that we're ten more comfor...  ...  0.0\n",
              "1  We happened upon the streets Gzart.\\nA city\\nW...  ...  0.0\n",
              "2  The number of male and female have a very diff...  ...  0.0\n",
              "3  If Arab students are female doctor Persian He ...  ...  0.0\n",
              "4  I was jumping up Qtlm a hedgehog.\\nThe prayer ...  ...  0.0\n",
              "\n",
              "[5 rows x 3 columns]"
            ]
          },
          "metadata": {
            "tags": []
          },
          "execution_count": 82
        }
      ]
    },
    {
      "cell_type": "code",
      "metadata": {
        "id": "fEJevMsB8cjh"
      },
      "source": [
        "x_train = eng[['tweet']]\n",
        "y_train = eng[['class']]"
      ],
      "execution_count": null,
      "outputs": []
    },
    {
      "cell_type": "code",
      "metadata": {
        "id": "DxwqSOwS8f7b"
      },
      "source": [
        "x_google = farsi[['google']]\n",
        "y_google = farsi[['ref3']]\n",
        "x_mbart = farsi[['mbart']]\n",
        "y_mbart = farsi[['ref3']]"
      ],
      "execution_count": null,
      "outputs": []
    },
    {
      "cell_type": "code",
      "metadata": {
        "id": "uJMQy1jR84uh"
      },
      "source": [
        "y_google.columns = ['class']\n",
        "y_mbart.columns = ['class'] "
      ],
      "execution_count": null,
      "outputs": []
    },
    {
      "cell_type": "code",
      "metadata": {
        "colab": {
          "base_uri": "https://localhost:8080/"
        },
        "id": "cQH-S_O_8_By",
        "outputId": "e472a016-abd0-403c-85bf-f7511d444a50"
      },
      "source": [
        "x_train['tweet']    = [entry.lower() for entry in x_train['tweet']]\n",
        "x_google['google'] = [entry.lower() for entry in x_google['google']]\n",
        "x_mbart['mbart']   = [entry.lower() for entry in x_mbart['mbart']]"
      ],
      "execution_count": null,
      "outputs": [
        {
          "output_type": "stream",
          "text": [
            "/usr/local/lib/python3.7/dist-packages/ipykernel_launcher.py:1: SettingWithCopyWarning: \n",
            "A value is trying to be set on a copy of a slice from a DataFrame.\n",
            "Try using .loc[row_indexer,col_indexer] = value instead\n",
            "\n",
            "See the caveats in the documentation: https://pandas.pydata.org/pandas-docs/stable/user_guide/indexing.html#returning-a-view-versus-a-copy\n",
            "  \"\"\"Entry point for launching an IPython kernel.\n",
            "/usr/local/lib/python3.7/dist-packages/ipykernel_launcher.py:2: SettingWithCopyWarning: \n",
            "A value is trying to be set on a copy of a slice from a DataFrame.\n",
            "Try using .loc[row_indexer,col_indexer] = value instead\n",
            "\n",
            "See the caveats in the documentation: https://pandas.pydata.org/pandas-docs/stable/user_guide/indexing.html#returning-a-view-versus-a-copy\n",
            "  \n",
            "/usr/local/lib/python3.7/dist-packages/ipykernel_launcher.py:3: SettingWithCopyWarning: \n",
            "A value is trying to be set on a copy of a slice from a DataFrame.\n",
            "Try using .loc[row_indexer,col_indexer] = value instead\n",
            "\n",
            "See the caveats in the documentation: https://pandas.pydata.org/pandas-docs/stable/user_guide/indexing.html#returning-a-view-versus-a-copy\n",
            "  This is separate from the ipykernel package so we can avoid doing imports until\n"
          ],
          "name": "stderr"
        }
      ]
    },
    {
      "cell_type": "code",
      "metadata": {
        "colab": {
          "base_uri": "https://localhost:8080/"
        },
        "id": "sGEtXjbs9BfK",
        "outputId": "fe479bd6-66a2-49a1-9906-f7232d8854c7"
      },
      "source": [
        "x_train['tweet']    = [word_tokenize(entry) for entry in x_train['tweet']]\n",
        "x_google['google'] = [word_tokenize(entry) for entry in x_google['google']]\n",
        "x_mbart['mbart']   = [word_tokenize(entry) for entry in x_mbart['mbart']]"
      ],
      "execution_count": null,
      "outputs": [
        {
          "output_type": "stream",
          "text": [
            "/usr/local/lib/python3.7/dist-packages/ipykernel_launcher.py:1: SettingWithCopyWarning: \n",
            "A value is trying to be set on a copy of a slice from a DataFrame.\n",
            "Try using .loc[row_indexer,col_indexer] = value instead\n",
            "\n",
            "See the caveats in the documentation: https://pandas.pydata.org/pandas-docs/stable/user_guide/indexing.html#returning-a-view-versus-a-copy\n",
            "  \"\"\"Entry point for launching an IPython kernel.\n",
            "/usr/local/lib/python3.7/dist-packages/ipykernel_launcher.py:2: SettingWithCopyWarning: \n",
            "A value is trying to be set on a copy of a slice from a DataFrame.\n",
            "Try using .loc[row_indexer,col_indexer] = value instead\n",
            "\n",
            "See the caveats in the documentation: https://pandas.pydata.org/pandas-docs/stable/user_guide/indexing.html#returning-a-view-versus-a-copy\n",
            "  \n",
            "/usr/local/lib/python3.7/dist-packages/ipykernel_launcher.py:3: SettingWithCopyWarning: \n",
            "A value is trying to be set on a copy of a slice from a DataFrame.\n",
            "Try using .loc[row_indexer,col_indexer] = value instead\n",
            "\n",
            "See the caveats in the documentation: https://pandas.pydata.org/pandas-docs/stable/user_guide/indexing.html#returning-a-view-versus-a-copy\n",
            "  This is separate from the ipykernel package so we can avoid doing imports until\n"
          ],
          "name": "stderr"
        }
      ]
    },
    {
      "cell_type": "code",
      "metadata": {
        "id": "fARk8KtL9EbZ"
      },
      "source": [
        "tag_map = defaultdict(lambda : wn.NOUN)\n",
        "tag_map['J'] = wn.ADJ\n",
        "tag_map['V'] = wn.VERB\n",
        "tag_map['R'] = wn.ADV"
      ],
      "execution_count": null,
      "outputs": []
    },
    {
      "cell_type": "code",
      "metadata": {
        "id": "C_vNJwRS_g2N"
      },
      "source": [
        "def clean(pd, name):\n",
        "  for index,entry in enumerate(pd[name]):\n",
        "    # Declaring Empty List to store the words that follow the rules for this step\n",
        "    Final_words = []\n",
        "    # Initializing WordNetLemmatizer()\n",
        "    word_Lemmatized = WordNetLemmatizer()\n",
        "    # pos_tag function below will provide the 'tag' i.e if the word is Noun(N) or Verb(V) or something else.\n",
        "    for word, tag in pos_tag(entry):\n",
        "        # Below condition is to check for Stop words and consider only alphabets\n",
        "        if word not in stopwords.words('english') and word.isalpha():\n",
        "            word_Final = word_Lemmatized.lemmatize(word,tag_map[tag[0]])\n",
        "            Final_words.append(word_Final)\n",
        "    # The final processed set of words for each iteration will be stored in 'text_final'\n",
        "    pd.loc[index,'text_final'] = str(Final_words)\n",
        "  return pd"
      ],
      "execution_count": null,
      "outputs": []
    },
    {
      "cell_type": "code",
      "metadata": {
        "colab": {
          "base_uri": "https://localhost:8080/"
        },
        "id": "XmfemXX9_lNc",
        "outputId": "f99a2e9e-e81d-423d-e840-5c9b6586d0f4"
      },
      "source": [
        "x_train = clean(x_train, 'tweet')\n",
        "x_google = clean(x_google, 'google')\n",
        "x_mbart = clean(x_mbart, 'mbart')"
      ],
      "execution_count": null,
      "outputs": [
        {
          "output_type": "stream",
          "text": [
            "/usr/local/lib/python3.7/dist-packages/pandas/core/indexing.py:1596: SettingWithCopyWarning: \n",
            "A value is trying to be set on a copy of a slice from a DataFrame.\n",
            "Try using .loc[row_indexer,col_indexer] = value instead\n",
            "\n",
            "See the caveats in the documentation: https://pandas.pydata.org/pandas-docs/stable/user_guide/indexing.html#returning-a-view-versus-a-copy\n",
            "  self.obj[key] = _infer_fill_value(value)\n",
            "/usr/local/lib/python3.7/dist-packages/pandas/core/indexing.py:1763: SettingWithCopyWarning: \n",
            "A value is trying to be set on a copy of a slice from a DataFrame.\n",
            "Try using .loc[row_indexer,col_indexer] = value instead\n",
            "\n",
            "See the caveats in the documentation: https://pandas.pydata.org/pandas-docs/stable/user_guide/indexing.html#returning-a-view-versus-a-copy\n",
            "  isetter(loc, value)\n",
            "/usr/local/lib/python3.7/dist-packages/pandas/core/indexing.py:670: SettingWithCopyWarning: \n",
            "A value is trying to be set on a copy of a slice from a DataFrame\n",
            "\n",
            "See the caveats in the documentation: https://pandas.pydata.org/pandas-docs/stable/user_guide/indexing.html#returning-a-view-versus-a-copy\n",
            "  iloc._setitem_with_indexer(indexer, value)\n",
            "/usr/local/lib/python3.7/dist-packages/ipykernel_launcher.py:14: SettingWithCopyWarning: \n",
            "A value is trying to be set on a copy of a slice from a DataFrame\n",
            "\n",
            "See the caveats in the documentation: https://pandas.pydata.org/pandas-docs/stable/user_guide/indexing.html#returning-a-view-versus-a-copy\n",
            "  \n"
          ],
          "name": "stderr"
        }
      ]
    },
    {
      "cell_type": "code",
      "metadata": {
        "id": "gh2OxVZF_nb9"
      },
      "source": [
        "tune_X_google, Test_X_google, tune_Y_google, Test_Y_google = model_selection.train_test_split(x_google['text_final'],y_google ,test_size=0.4, random_state=101)\n",
        "\n",
        "tune_X_mbart, Test_X_mbart, tune_Y_mbart, Test_Y_mbart  = model_selection.train_test_split(x_mbart['text_final'],y_mbart ,test_size=0.4, random_state=101)\n"
      ],
      "execution_count": null,
      "outputs": []
    },
    {
      "cell_type": "code",
      "metadata": {
        "id": "z3RFJ4R8_q6F"
      },
      "source": [
        "tune_Y_google = tune_Y_google.astype(dtype=\"int\")  \n",
        "Test_Y_google = Test_Y_google.astype(dtype=\"int\")\n",
        "tune_Y_mbart = tune_Y_mbart.astype(dtype=\"int\")\n",
        "Test_Y_mbart = Test_Y_mbart.astype(dtype=\"int\")"
      ],
      "execution_count": null,
      "outputs": []
    },
    {
      "cell_type": "code",
      "metadata": {
        "colab": {
          "base_uri": "https://localhost:8080/"
        },
        "id": "StWmcaO7_t_o",
        "outputId": "e52d66d9-986a-46ab-efae-6d439633e623"
      },
      "source": [
        "tune_X_google"
      ],
      "execution_count": null,
      "outputs": [
        {
          "output_type": "execute_result",
          "data": {
            "text/plain": [
              "3214    ['guy', 'monster', 'time', 'pass', 'demon', 'p...\n",
              "1262    ['late', 'late', 'cable', 'direct', 'czech', '...\n",
              "2069    ['khbrayn', 'week', 'hell', 'late', 'hdadksyf'...\n",
              "322     ['know', 'manvk', 'khodabakhshian', 'go', 'mea...\n",
              "4294    ['reed', 'ya', 'club', 'sorry', 'sorry', 'say'...\n",
              "                              ...                        \n",
              "4171    ['ready', 'help', 'account', 'number', 'announ...\n",
              "599           ['simple', 'nemishe', 'little', 'shrewish']\n",
              "1361    ['pretty', 'cool', 'one', 'hour', 'delete', 'k...\n",
              "1547    ['nothing', 'never', 'wan', 'na', 'n', 'pituit...\n",
              "4959                                    ['think', 'like']\n",
              "Name: text_final, Length: 3120, dtype: object"
            ]
          },
          "metadata": {
            "tags": []
          },
          "execution_count": 93
        }
      ]
    },
    {
      "cell_type": "code",
      "metadata": {
        "colab": {
          "base_uri": "https://localhost:8080/"
        },
        "id": "Ab6nCPPN_yJs",
        "outputId": "fc825796-32cd-422a-e081-15702a680ef6"
      },
      "source": [
        "x_train = x_train['text_final']\n",
        "x_train"
      ],
      "execution_count": null,
      "outputs": [
        {
          "output_type": "execute_result",
          "data": {
            "text/plain": [
              "0        ['rt', 'user', 'hoe', 'give', 'number', 'anoth...\n",
              "1                      ['best', 'rider', 'go', 'blaxican']\n",
              "2        ['user', 'he', 'friggin', 'idiot', 'say', 'any...\n",
              "3                                      ['nigga', 'retard']\n",
              "4        ['mother', 'bother', 'trash', 'day', 'leave', ...\n",
              "                               ...                        \n",
              "10848                                   ['user', 'faggot']\n",
              "10849    ['rangzen', 'people', 'stop', 'fake', 'activis...\n",
              "10850    ['user', 'orange', 'menace', 'user', 'side', '...\n",
              "10851                           ['like', 'bitch', 'nigga']\n",
              "10852    ['user', 'lmao', 'yes', 'kind', 'like', 'ghett...\n",
              "Name: text_final, Length: 10853, dtype: object"
            ]
          },
          "metadata": {
            "tags": []
          },
          "execution_count": 94
        }
      ]
    },
    {
      "cell_type": "code",
      "metadata": {
        "id": "iiTFRy3OAf9j"
      },
      "source": [
        "max_features = 500"
      ],
      "execution_count": null,
      "outputs": []
    },
    {
      "cell_type": "code",
      "metadata": {
        "id": "nlvHZfDn_0Me"
      },
      "source": [
        "Tfidf_vect_x_train = TfidfVectorizer(max_features=max_features)\n",
        "Tfidf_vect_x_train.fit(x_train)\n",
        "\n",
        "Train_X_Tfidf      = Tfidf_vect_x_train.transform(x_train)\n",
        "tune_google_Tfidf  = Tfidf_vect_x_train.transform(tune_X_google)\n",
        "tune_mbart_Tfidf   = Tfidf_vect_x_train.transform(tune_X_mbart)\n",
        "test_google_Tfidf  = Tfidf_vect_x_train.transform(Test_X_google)\n",
        "Test_mbart_Tfidf   = Tfidf_vect_x_train.transform(Test_X_mbart)"
      ],
      "execution_count": null,
      "outputs": []
    },
    {
      "cell_type": "code",
      "metadata": {
        "colab": {
          "base_uri": "https://localhost:8080/"
        },
        "id": "rkxvQD0fAsFy",
        "outputId": "30802df1-21ed-47d7-cd49-dabda8cfe2a9"
      },
      "source": [
        "SVM = svm.SVC(C=0.5, kernel='linear', degree=3, gamma='auto')\n",
        "SVM.fit(Train_X_Tfidf,y_train)"
      ],
      "execution_count": null,
      "outputs": [
        {
          "output_type": "stream",
          "text": [
            "/usr/local/lib/python3.7/dist-packages/sklearn/utils/validation.py:760: DataConversionWarning: A column-vector y was passed when a 1d array was expected. Please change the shape of y to (n_samples, ), for example using ravel().\n",
            "  y = column_or_1d(y, warn=True)\n"
          ],
          "name": "stderr"
        },
        {
          "output_type": "execute_result",
          "data": {
            "text/plain": [
              "SVC(C=0.5, break_ties=False, cache_size=200, class_weight=None, coef0=0.0,\n",
              "    decision_function_shape='ovr', degree=3, gamma='auto', kernel='linear',\n",
              "    max_iter=-1, probability=False, random_state=None, shrinking=True,\n",
              "    tol=0.001, verbose=False)"
            ]
          },
          "metadata": {
            "tags": []
          },
          "execution_count": 97
        }
      ]
    },
    {
      "cell_type": "code",
      "metadata": {
        "colab": {
          "base_uri": "https://localhost:8080/"
        },
        "id": "zh9m0NzfBS2a",
        "outputId": "fac1cfc8-3e10-41e6-9126-096a5ee3f544"
      },
      "source": [
        "predictions_NB = SVM.predict(tune_google_Tfidf)\n",
        "print(classification_report(tune_Y_google , predictions_NB))"
      ],
      "execution_count": null,
      "outputs": [
        {
          "output_type": "stream",
          "text": [
            "              precision    recall  f1-score   support\n",
            "\n",
            "           0       0.87      0.98      0.92      2644\n",
            "           1       0.54      0.16      0.24       476\n",
            "\n",
            "    accuracy                           0.85      3120\n",
            "   macro avg       0.70      0.57      0.58      3120\n",
            "weighted avg       0.82      0.85      0.81      3120\n",
            "\n"
          ],
          "name": "stdout"
        }
      ]
    },
    {
      "cell_type": "code",
      "metadata": {
        "colab": {
          "base_uri": "https://localhost:8080/"
        },
        "id": "qRtDt1u1BYJT",
        "outputId": "f0564075-7ad3-4298-e5bf-b55da99b20ec"
      },
      "source": [
        "# x_train = x_train.append(tune_X_google)\n",
        "# y_train = y_train.append(tune_Y_google)\n",
        "# x_train.reset_index(inplace=True, drop=True)\n",
        "# y_train.reset_index(inplace=True, drop=True)\n",
        "# x_train\n",
        "x_train = x_train.append(tune_X_mbart)\n",
        "y_train = y_train.append(tune_Y_mbart)\n",
        "x_train.reset_index(inplace=True, drop=True)\n",
        "y_train.reset_index(inplace=True, drop=True)\n",
        "x_train"
      ],
      "execution_count": null,
      "outputs": [
        {
          "output_type": "execute_result",
          "data": {
            "text/plain": [
              "0        ['rt', 'user', 'hoe', 'give', 'number', 'anoth...\n",
              "1                      ['best', 'rider', 'go', 'blaxican']\n",
              "2        ['user', 'he', 'friggin', 'idiot', 'say', 'any...\n",
              "3                                      ['nigga', 'retard']\n",
              "4        ['mother', 'bother', 'trash', 'day', 'leave', ...\n",
              "                               ...                        \n",
              "13968    ['go', 'help', 'get', 'account', 'number', 'sa...\n",
              "13969                                           ['simple']\n",
              "13970    ['really', 'fun', 'spend', 'hour', 'diving', '...\n",
              "13971                               ['say', 'pray', 'god']\n",
              "13972                                    ['think', 'coma']\n",
              "Name: text_final, Length: 13973, dtype: object"
            ]
          },
          "metadata": {
            "tags": []
          },
          "execution_count": 99
        }
      ]
    },
    {
      "cell_type": "code",
      "metadata": {
        "colab": {
          "base_uri": "https://localhost:8080/"
        },
        "id": "RemVo13zQP-I",
        "outputId": "f04d5b19-b2a0-4c88-a59a-c605731c132c"
      },
      "source": [
        "x_train"
      ],
      "execution_count": null,
      "outputs": [
        {
          "output_type": "execute_result",
          "data": {
            "text/plain": [
              "0        ['rt', 'user', 'hoe', 'give', 'number', 'anoth...\n",
              "1                      ['best', 'rider', 'go', 'blaxican']\n",
              "2        ['user', 'he', 'friggin', 'idiot', 'say', 'any...\n",
              "3                                      ['nigga', 'retard']\n",
              "4        ['mother', 'bother', 'trash', 'day', 'leave', ...\n",
              "                               ...                        \n",
              "13968    ['go', 'help', 'get', 'account', 'number', 'sa...\n",
              "13969                                           ['simple']\n",
              "13970    ['really', 'fun', 'spend', 'hour', 'diving', '...\n",
              "13971                               ['say', 'pray', 'god']\n",
              "13972                                    ['think', 'coma']\n",
              "Name: text_final, Length: 13973, dtype: object"
            ]
          },
          "metadata": {
            "tags": []
          },
          "execution_count": 100
        }
      ]
    },
    {
      "cell_type": "code",
      "metadata": {
        "colab": {
          "base_uri": "https://localhost:8080/",
          "height": 419
        },
        "id": "Z53rbEYqQS35",
        "outputId": "609f3042-63f4-4202-fcdd-5a32f456ea86"
      },
      "source": [
        "y_train"
      ],
      "execution_count": null,
      "outputs": [
        {
          "output_type": "execute_result",
          "data": {
            "text/html": [
              "<div>\n",
              "<style scoped>\n",
              "    .dataframe tbody tr th:only-of-type {\n",
              "        vertical-align: middle;\n",
              "    }\n",
              "\n",
              "    .dataframe tbody tr th {\n",
              "        vertical-align: top;\n",
              "    }\n",
              "\n",
              "    .dataframe thead th {\n",
              "        text-align: right;\n",
              "    }\n",
              "</style>\n",
              "<table border=\"1\" class=\"dataframe\">\n",
              "  <thead>\n",
              "    <tr style=\"text-align: right;\">\n",
              "      <th></th>\n",
              "      <th>class</th>\n",
              "    </tr>\n",
              "  </thead>\n",
              "  <tbody>\n",
              "    <tr>\n",
              "      <th>0</th>\n",
              "      <td>1</td>\n",
              "    </tr>\n",
              "    <tr>\n",
              "      <th>1</th>\n",
              "      <td>0</td>\n",
              "    </tr>\n",
              "    <tr>\n",
              "      <th>2</th>\n",
              "      <td>1</td>\n",
              "    </tr>\n",
              "    <tr>\n",
              "      <th>3</th>\n",
              "      <td>1</td>\n",
              "    </tr>\n",
              "    <tr>\n",
              "      <th>4</th>\n",
              "      <td>0</td>\n",
              "    </tr>\n",
              "    <tr>\n",
              "      <th>...</th>\n",
              "      <td>...</td>\n",
              "    </tr>\n",
              "    <tr>\n",
              "      <th>13968</th>\n",
              "      <td>1</td>\n",
              "    </tr>\n",
              "    <tr>\n",
              "      <th>13969</th>\n",
              "      <td>1</td>\n",
              "    </tr>\n",
              "    <tr>\n",
              "      <th>13970</th>\n",
              "      <td>0</td>\n",
              "    </tr>\n",
              "    <tr>\n",
              "      <th>13971</th>\n",
              "      <td>0</td>\n",
              "    </tr>\n",
              "    <tr>\n",
              "      <th>13972</th>\n",
              "      <td>0</td>\n",
              "    </tr>\n",
              "  </tbody>\n",
              "</table>\n",
              "<p>13973 rows × 1 columns</p>\n",
              "</div>"
            ],
            "text/plain": [
              "       class\n",
              "0          1\n",
              "1          0\n",
              "2          1\n",
              "3          1\n",
              "4          0\n",
              "...      ...\n",
              "13968      1\n",
              "13969      1\n",
              "13970      0\n",
              "13971      0\n",
              "13972      0\n",
              "\n",
              "[13973 rows x 1 columns]"
            ]
          },
          "metadata": {
            "tags": []
          },
          "execution_count": 101
        }
      ]
    },
    {
      "cell_type": "code",
      "metadata": {
        "id": "OYOnw0xLJRjy"
      },
      "source": [
        "# Tfidf_vect_x_train = TfidfVectorizer(max_features=max_features)\n",
        "# Tfidf_vect_x_train.fit(x_train)\n",
        "# Train_X_Tfidf      = Tfidf_vect_x_train.transform(x_train)\n",
        "\n",
        "\n",
        "Tfidf_vect_x_train = TfidfVectorizer(max_features=max_features)\n",
        "Tfidf_vect_x_train.fit(x_train)\n",
        "Train_X_Tfidf      = Tfidf_vect_x_train.transform(x_train)"
      ],
      "execution_count": null,
      "outputs": []
    },
    {
      "cell_type": "code",
      "metadata": {
        "id": "ZAqM5PMfJbEY"
      },
      "source": [
        "# test_google_Tfidf  = Tfidf_vect_x_train.transform(Test_X_google)\n",
        "\n",
        "test_mbart_Tfidf  = Tfidf_vect_x_train.transform(Test_X_mbart)"
      ],
      "execution_count": null,
      "outputs": []
    },
    {
      "cell_type": "code",
      "metadata": {
        "colab": {
          "base_uri": "https://localhost:8080/"
        },
        "id": "grqnX15dJf3u",
        "outputId": "2ad85a79-f300-4379-a0ae-cfd253f4dfff"
      },
      "source": [
        "# SVM = svm.SVC(C=0.5, kernel='linear', degree=3, gamma='auto')\n",
        "# SVM.fit(Train_X_Tfidf,y_train)\n",
        "\n",
        "\n",
        "SVM = svm.SVC(C=0.5, kernel='linear', degree=3, gamma='auto')\n",
        "SVM.fit(Train_X_Tfidf,y_train)"
      ],
      "execution_count": null,
      "outputs": [
        {
          "output_type": "stream",
          "text": [
            "/usr/local/lib/python3.7/dist-packages/sklearn/utils/validation.py:760: DataConversionWarning: A column-vector y was passed when a 1d array was expected. Please change the shape of y to (n_samples, ), for example using ravel().\n",
            "  y = column_or_1d(y, warn=True)\n"
          ],
          "name": "stderr"
        },
        {
          "output_type": "execute_result",
          "data": {
            "text/plain": [
              "SVC(C=0.5, break_ties=False, cache_size=200, class_weight=None, coef0=0.0,\n",
              "    decision_function_shape='ovr', degree=3, gamma='auto', kernel='linear',\n",
              "    max_iter=-1, probability=False, random_state=None, shrinking=True,\n",
              "    tol=0.001, verbose=False)"
            ]
          },
          "metadata": {
            "tags": []
          },
          "execution_count": 104
        }
      ]
    },
    {
      "cell_type": "code",
      "metadata": {
        "colab": {
          "base_uri": "https://localhost:8080/"
        },
        "id": "ZtNdQLb4Jj1_",
        "outputId": "b9495a46-45b1-46ec-a341-087ce06ab987"
      },
      "source": [
        "# predictions_svm = SVM.predict(test_google_Tfidf)\n",
        "\n",
        "# # # result of test for google translate\n",
        "# print(\"result of test for google translate\")\n",
        "# print(classification_report( Test_Y_google, predictions_svm))\n",
        "\n",
        "\n",
        "\n",
        "predictions_svm = SVM.predict(test_mbart_Tfidf)\n",
        "\n",
        "# # result of test for mbart translate\n",
        "print(\"result of test for mbart translate\")\n",
        "print(classification_report( Test_Y_mbart, predictions_svm))"
      ],
      "execution_count": null,
      "outputs": [
        {
          "output_type": "stream",
          "text": [
            "result of test for mbart translate\n",
            "              precision    recall  f1-score   support\n",
            "\n",
            "           0       0.86      0.99      0.92      1792\n",
            "           1       0.31      0.01      0.03       288\n",
            "\n",
            "    accuracy                           0.86      2080\n",
            "   macro avg       0.59      0.50      0.48      2080\n",
            "weighted avg       0.79      0.86      0.80      2080\n",
            "\n"
          ],
          "name": "stdout"
        }
      ]
    },
    {
      "cell_type": "markdown",
      "metadata": {
        "id": "jNsTllfDXKeg"
      },
      "source": [
        "**not use english dataset**\n"
      ]
    },
    {
      "cell_type": "code",
      "metadata": {
        "id": "6SbmncHfXMpQ"
      },
      "source": [
        "Tfidf_vect = TfidfVectorizer(max_features=max_features)\n",
        "Tfidf_vect.fit(tune_X_google)\n",
        "Train_X_Tfidf = Tfidf_vect.transform(tune_X_google)\n",
        "Test_X_Tfidf = Tfidf_vect.transform(Test_X_google)"
      ],
      "execution_count": null,
      "outputs": []
    },
    {
      "cell_type": "code",
      "metadata": {
        "colab": {
          "base_uri": "https://localhost:8080/"
        },
        "id": "n8xFDyocXUqv",
        "outputId": "1646aa1b-ab26-43e5-c404-67b6b931ddd0"
      },
      "source": [
        "SVM = svm.SVC(C=0.5, kernel='linear', degree=3, gamma='auto')\n",
        "SVM.fit(Train_X_Tfidf,tune_Y_google)"
      ],
      "execution_count": null,
      "outputs": [
        {
          "output_type": "stream",
          "text": [
            "/usr/local/lib/python3.7/dist-packages/sklearn/utils/validation.py:760: DataConversionWarning: A column-vector y was passed when a 1d array was expected. Please change the shape of y to (n_samples, ), for example using ravel().\n",
            "  y = column_or_1d(y, warn=True)\n"
          ],
          "name": "stderr"
        },
        {
          "output_type": "execute_result",
          "data": {
            "text/plain": [
              "SVC(C=0.5, break_ties=False, cache_size=200, class_weight=None, coef0=0.0,\n",
              "    decision_function_shape='ovr', degree=3, gamma='auto', kernel='linear',\n",
              "    max_iter=-1, probability=False, random_state=None, shrinking=True,\n",
              "    tol=0.001, verbose=False)"
            ]
          },
          "metadata": {
            "tags": []
          },
          "execution_count": 109
        }
      ]
    },
    {
      "cell_type": "code",
      "metadata": {
        "colab": {
          "base_uri": "https://localhost:8080/"
        },
        "id": "YP5A3pCLXlb_",
        "outputId": "00be1abe-a56b-4d35-cdf6-848f446c4c80"
      },
      "source": [
        "predictions_SVM = SVM.predict(Test_X_Tfidf)\n",
        "print(\"test if we dont use english train dataset\")\n",
        "print(classification_report( Test_Y_google, predictions_SVM))"
      ],
      "execution_count": null,
      "outputs": [
        {
          "output_type": "stream",
          "text": [
            "test if we dont use english train dataset\n",
            "              precision    recall  f1-score   support\n",
            "\n",
            "           0       0.87      1.00      0.93      1792\n",
            "           1       0.70      0.06      0.10       288\n",
            "\n",
            "    accuracy                           0.87      2080\n",
            "   macro avg       0.78      0.53      0.52      2080\n",
            "weighted avg       0.84      0.87      0.81      2080\n",
            "\n"
          ],
          "name": "stdout"
        }
      ]
    },
    {
      "cell_type": "code",
      "metadata": {
        "id": "sW3SxHjmXuwW"
      },
      "source": [
        "Tfidf_vect = TfidfVectorizer(max_features=max_features)\n",
        "Tfidf_vect.fit(tune_X_mbart)\n",
        "Train_X_Tfidf = Tfidf_vect.transform(tune_X_mbart)\n",
        "Test_X_Tfidf = Tfidf_vect.transform(Test_X_mbart)"
      ],
      "execution_count": null,
      "outputs": []
    },
    {
      "cell_type": "code",
      "metadata": {
        "colab": {
          "base_uri": "https://localhost:8080/"
        },
        "id": "wgxIuoCoZRKx",
        "outputId": "a6fb46bd-6872-4c35-e6cb-4ccd7450cfba"
      },
      "source": [
        "predictions_SVM = SVM.predict(Test_X_Tfidf)\n",
        "print(\"test if we dont use english train dataset\")\n",
        "print(classification_report( Test_Y_google, predictions_SVM))"
      ],
      "execution_count": null,
      "outputs": [
        {
          "output_type": "stream",
          "text": [
            "test if we dont use english train dataset\n",
            "              precision    recall  f1-score   support\n",
            "\n",
            "           0       0.86      0.98      0.92      1792\n",
            "           1       0.12      0.01      0.02       288\n",
            "\n",
            "    accuracy                           0.85      2080\n",
            "   macro avg       0.49      0.50      0.47      2080\n",
            "weighted avg       0.76      0.85      0.79      2080\n",
            "\n"
          ],
          "name": "stdout"
        }
      ]
    },
    {
      "cell_type": "code",
      "metadata": {
        "id": "ExTLBD_HZYBc"
      },
      "source": [
        ""
      ],
      "execution_count": null,
      "outputs": []
    }
  ]
}