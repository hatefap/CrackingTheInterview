{
  "nbformat": 4,
  "nbformat_minor": 0,
  "metadata": {
    "colab": {
      "name": "mbert.ipynb",
      "provenance": [],
      "toc_visible": true,
      "mount_file_id": "1Gcg4ICwg5G86uefKA-OHASa9F_mRgLCl",
      "authorship_tag": "ABX9TyP4F+5Z6NNzMBJdnKkDF0zF",
      "include_colab_link": true
    },
    "kernelspec": {
      "name": "python3",
      "display_name": "Python 3"
    },
    "language_info": {
      "name": "python"
    },
    "accelerator": "GPU"
  },
  "cells": [
    {
      "cell_type": "markdown",
      "metadata": {
        "id": "view-in-github",
        "colab_type": "text"
      },
      "source": [
        "<a href=\"https://colab.research.google.com/github/hatefap/CrackingTheInterview/blob/master/mbert.ipynb\" target=\"_parent\"><img src=\"https://colab.research.google.com/assets/colab-badge.svg\" alt=\"Open In Colab\"/></a>"
      ]
    },
    {
      "cell_type": "code",
      "metadata": {
        "id": "6EZ4Z2QPQoNo"
      },
      "source": [
        "import numpy as np\n",
        "import pandas as pd\n",
        "import torch\n",
        "import torch.nn as nn\n",
        "import re\n",
        "from sklearn.model_selection import train_test_split\n",
        "from sklearn.metrics import classification_report"
      ],
      "execution_count": null,
      "outputs": []
    },
    {
      "cell_type": "code",
      "metadata": {
        "colab": {
          "base_uri": "https://localhost:8080/",
          "height": 543
        },
        "id": "xvGibmLKQ72J",
        "outputId": "f65aed3d-36d8-4c77-9375-6671e7527e82"
      },
      "source": [
        "farsi_path = \"drive/MyDrive/final_final.csv\"\n",
        "english_path = \"drive/MyDrive/my_final_english_hate.csv\"\n",
        "eng = pd.read_csv(english_path)\n",
        "farsi = pd.read_csv(farsi_path)\n",
        "farsi.head()"
      ],
      "execution_count": null,
      "outputs": [
        {
          "output_type": "execute_result",
          "data": {
            "text/html": [
              "<div>\n",
              "<style scoped>\n",
              "    .dataframe tbody tr th:only-of-type {\n",
              "        vertical-align: middle;\n",
              "    }\n",
              "\n",
              "    .dataframe tbody tr th {\n",
              "        vertical-align: top;\n",
              "    }\n",
              "\n",
              "    .dataframe thead th {\n",
              "        text-align: right;\n",
              "    }\n",
              "</style>\n",
              "<table border=\"1\" class=\"dataframe\">\n",
              "  <thead>\n",
              "    <tr style=\"text-align: right;\">\n",
              "      <th></th>\n",
              "      <th>id</th>\n",
              "      <th>text</th>\n",
              "      <th>ref1</th>\n",
              "      <th>ref2</th>\n",
              "      <th>link</th>\n",
              "      <th>norm_text</th>\n",
              "      <th>google</th>\n",
              "      <th>mbart</th>\n",
              "      <th>ref3</th>\n",
              "    </tr>\n",
              "  </thead>\n",
              "  <tbody>\n",
              "    <tr>\n",
              "      <th>0</th>\n",
              "      <td>0</td>\n",
              "      <td>بچه های عزیز این کشتزار منو بلاک کرده یکی که د...</td>\n",
              "      <td>1.0</td>\n",
              "      <td>0.0</td>\n",
              "      <td>https://twitter.com/DrErovay/status/1249849840...</td>\n",
              "      <td>بچه‌های عزیز این کشتزار منو بلاک کرده یکی که د...</td>\n",
              "      <td>Children's Menu block the field of view of one...</td>\n",
              "      <td>My dear children, I've been blocked on this fa...</td>\n",
              "      <td>1.0</td>\n",
              "    </tr>\n",
              "    <tr>\n",
              "      <th>1</th>\n",
              "      <td>1</td>\n",
              "      <td>سیاسیون محترم از  نمایندگان گرفته تا  شهردارا...</td>\n",
              "      <td>0.0</td>\n",
              "      <td>0.0</td>\n",
              "      <td>https://twitter.com/atefeh heidari/status/1007...</td>\n",
              "      <td>سیاسیون محترم از نمایندگان گرفته تا شهرداران ...</td>\n",
              "      <td>Distinguished delegates politicians to munici...</td>\n",
              "      <td>From respectable politicians to elected offici...</td>\n",
              "      <td>0.0</td>\n",
              "    </tr>\n",
              "    <tr>\n",
              "      <th>2</th>\n",
              "      <td>2</td>\n",
              "      <td>با اعدام مخالفم \\n\\nکاش راهکاری برای نابودی و ...</td>\n",
              "      <td>1.0</td>\n",
              "      <td>0.0</td>\n",
              "      <td>https://twitter.com/fariborz c/status/10124857...</td>\n",
              "      <td>با اعدام مخالفم \\n\\nکاش راهکاری برای نابودی و ...</td>\n",
              "      <td>I disagree with execution\\n\\nIf only way to an...</td>\n",
              "      <td>With the execution of my opponent, I wish ther...</td>\n",
              "      <td>1.0</td>\n",
              "    </tr>\n",
              "    <tr>\n",
              "      <th>3</th>\n",
              "      <td>3</td>\n",
              "      <td>دونوع آدم داریم : یکی اونکه هیچی به کیرش نیست ...</td>\n",
              "      <td>1.0</td>\n",
              "      <td>0.0</td>\n",
              "      <td>https://twitter.com/llil ili lill/status/10190...</td>\n",
              "      <td>دونوع آدم داریم: یکی اونکه هیچی به کیرش نیست و...</td>\n",
              "      <td>There are two types of people: one Avnkh nothi...</td>\n",
              "      <td>There are two types of people: There's the one...</td>\n",
              "      <td>0.0</td>\n",
              "    </tr>\n",
              "    <tr>\n",
              "      <th>4</th>\n",
              "      <td>4</td>\n",
              "      <td>هيچ زنداني بدتر از ،دختر بودن، نيست....</td>\n",
              "      <td>1.0</td>\n",
              "      <td>0.0</td>\n",
              "      <td>https://twitter.com/virgoOoOol/status/10233572...</td>\n",
              "      <td>هیچ زندانی بدتر از، دختر بودن، نیست ….</td>\n",
              "      <td>No prisoners worse, the girl is not ....</td>\n",
              "      <td>There is no prison worse than being a girl...</td>\n",
              "      <td>0.0</td>\n",
              "    </tr>\n",
              "  </tbody>\n",
              "</table>\n",
              "</div>"
            ],
            "text/plain": [
              "   id  ... ref3\n",
              "0   0  ...  1.0\n",
              "1   1  ...  0.0\n",
              "2   2  ...  1.0\n",
              "3   3  ...  0.0\n",
              "4   4  ...  0.0\n",
              "\n",
              "[5 rows x 9 columns]"
            ]
          },
          "metadata": {
            "tags": []
          },
          "execution_count": 3
        }
      ]
    },
    {
      "cell_type": "code",
      "metadata": {
        "colab": {
          "base_uri": "https://localhost:8080/",
          "height": 204
        },
        "id": "gzupaUC6RBzQ",
        "outputId": "7c3cfabf-0c31-4bf3-fe21-8df7a5138d5c"
      },
      "source": [
        "eng.head()"
      ],
      "execution_count": null,
      "outputs": [
        {
          "output_type": "execute_result",
          "data": {
            "text/html": [
              "<div>\n",
              "<style scoped>\n",
              "    .dataframe tbody tr th:only-of-type {\n",
              "        vertical-align: middle;\n",
              "    }\n",
              "\n",
              "    .dataframe tbody tr th {\n",
              "        vertical-align: top;\n",
              "    }\n",
              "\n",
              "    .dataframe thead th {\n",
              "        text-align: right;\n",
              "    }\n",
              "</style>\n",
              "<table border=\"1\" class=\"dataframe\">\n",
              "  <thead>\n",
              "    <tr style=\"text-align: right;\">\n",
              "      <th></th>\n",
              "      <th>Unnamed: 0</th>\n",
              "      <th>tweet</th>\n",
              "      <th>class</th>\n",
              "    </tr>\n",
              "  </thead>\n",
              "  <tbody>\n",
              "    <tr>\n",
              "      <th>0</th>\n",
              "      <td>0</td>\n",
              "      <td>\"@USER @USER @USER queer\" gaywad</td>\n",
              "      <td>1</td>\n",
              "    </tr>\n",
              "    <tr>\n",
              "      <th>1</th>\n",
              "      <td>1</td>\n",
              "      <td>\"@USER @USER alsarabsss\" hes a beaner smh you ...</td>\n",
              "      <td>1</td>\n",
              "    </tr>\n",
              "    <tr>\n",
              "      <th>2</th>\n",
              "      <td>2</td>\n",
              "      <td>\"@USER @USER you're fucking gay, blacklisted h...</td>\n",
              "      <td>1</td>\n",
              "    </tr>\n",
              "    <tr>\n",
              "      <th>3</th>\n",
              "      <td>3</td>\n",
              "      <td>\"@USER LMFAOOOO I HATE BLACK PEOPLE https://t....</td>\n",
              "      <td>1</td>\n",
              "    </tr>\n",
              "    <tr>\n",
              "      <th>4</th>\n",
              "      <td>4</td>\n",
              "      <td>\"@USER \"At least I'm not a nigger\" http://t.co...</td>\n",
              "      <td>1</td>\n",
              "    </tr>\n",
              "  </tbody>\n",
              "</table>\n",
              "</div>"
            ],
            "text/plain": [
              "   Unnamed: 0                                              tweet  class\n",
              "0           0                   \"@USER @USER @USER queer\" gaywad      1\n",
              "1           1  \"@USER @USER alsarabsss\" hes a beaner smh you ...      1\n",
              "2           2  \"@USER @USER you're fucking gay, blacklisted h...      1\n",
              "3           3  \"@USER LMFAOOOO I HATE BLACK PEOPLE https://t....      1\n",
              "4           4  \"@USER \"At least I'm not a nigger\" http://t.co...      1"
            ]
          },
          "metadata": {
            "tags": []
          },
          "execution_count": 4
        }
      ]
    },
    {
      "cell_type": "code",
      "metadata": {
        "id": "Asje2o9YR63I"
      },
      "source": [
        "eng = eng.drop(\"Unnamed: 0\", axis=1)"
      ],
      "execution_count": null,
      "outputs": []
    },
    {
      "cell_type": "code",
      "metadata": {
        "colab": {
          "base_uri": "https://localhost:8080/",
          "height": 204
        },
        "id": "DZfpGOIpR9Io",
        "outputId": "ca314bba-c345-410d-fe80-ac8c9f2983be"
      },
      "source": [
        "farsi = farsi[['norm_text', 'ref3']]\n",
        "farsi.columns = ['tweet', 'class']\n",
        "farsi.head()"
      ],
      "execution_count": null,
      "outputs": [
        {
          "output_type": "execute_result",
          "data": {
            "text/html": [
              "<div>\n",
              "<style scoped>\n",
              "    .dataframe tbody tr th:only-of-type {\n",
              "        vertical-align: middle;\n",
              "    }\n",
              "\n",
              "    .dataframe tbody tr th {\n",
              "        vertical-align: top;\n",
              "    }\n",
              "\n",
              "    .dataframe thead th {\n",
              "        text-align: right;\n",
              "    }\n",
              "</style>\n",
              "<table border=\"1\" class=\"dataframe\">\n",
              "  <thead>\n",
              "    <tr style=\"text-align: right;\">\n",
              "      <th></th>\n",
              "      <th>tweet</th>\n",
              "      <th>class</th>\n",
              "    </tr>\n",
              "  </thead>\n",
              "  <tbody>\n",
              "    <tr>\n",
              "      <th>0</th>\n",
              "      <td>بچه‌های عزیز این کشتزار منو بلاک کرده یکی که د...</td>\n",
              "      <td>1.0</td>\n",
              "    </tr>\n",
              "    <tr>\n",
              "      <th>1</th>\n",
              "      <td>سیاسیون محترم از نمایندگان گرفته تا شهرداران ...</td>\n",
              "      <td>0.0</td>\n",
              "    </tr>\n",
              "    <tr>\n",
              "      <th>2</th>\n",
              "      <td>با اعدام مخالفم \\n\\nکاش راهکاری برای نابودی و ...</td>\n",
              "      <td>1.0</td>\n",
              "    </tr>\n",
              "    <tr>\n",
              "      <th>3</th>\n",
              "      <td>دونوع آدم داریم: یکی اونکه هیچی به کیرش نیست و...</td>\n",
              "      <td>0.0</td>\n",
              "    </tr>\n",
              "    <tr>\n",
              "      <th>4</th>\n",
              "      <td>هیچ زندانی بدتر از، دختر بودن، نیست ….</td>\n",
              "      <td>0.0</td>\n",
              "    </tr>\n",
              "  </tbody>\n",
              "</table>\n",
              "</div>"
            ],
            "text/plain": [
              "                                               tweet  class\n",
              "0  بچه‌های عزیز این کشتزار منو بلاک کرده یکی که د...    1.0\n",
              "1   سیاسیون محترم از نمایندگان گرفته تا شهرداران ...    0.0\n",
              "2  با اعدام مخالفم \\n\\nکاش راهکاری برای نابودی و ...    1.0\n",
              "3  دونوع آدم داریم: یکی اونکه هیچی به کیرش نیست و...    0.0\n",
              "4             هیچ زندانی بدتر از، دختر بودن، نیست ….    0.0"
            ]
          },
          "metadata": {
            "tags": []
          },
          "execution_count": 6
        }
      ]
    },
    {
      "cell_type": "code",
      "metadata": {
        "colab": {
          "base_uri": "https://localhost:8080/",
          "height": 204
        },
        "id": "OHwPUbW0R_R1",
        "outputId": "bf76c351-89e5-446d-90c7-59cd3d3cc979"
      },
      "source": [
        "farsi = farsi.dropna()\n",
        "farsi.tail()"
      ],
      "execution_count": null,
      "outputs": [
        {
          "output_type": "execute_result",
          "data": {
            "text/html": [
              "<div>\n",
              "<style scoped>\n",
              "    .dataframe tbody tr th:only-of-type {\n",
              "        vertical-align: middle;\n",
              "    }\n",
              "\n",
              "    .dataframe tbody tr th {\n",
              "        vertical-align: top;\n",
              "    }\n",
              "\n",
              "    .dataframe thead th {\n",
              "        text-align: right;\n",
              "    }\n",
              "</style>\n",
              "<table border=\"1\" class=\"dataframe\">\n",
              "  <thead>\n",
              "    <tr style=\"text-align: right;\">\n",
              "      <th></th>\n",
              "      <th>tweet</th>\n",
              "      <th>class</th>\n",
              "    </tr>\n",
              "  </thead>\n",
              "  <tbody>\n",
              "    <tr>\n",
              "      <th>5195</th>\n",
              "      <td>من ایشون میشناسم تو اینستام پیج داره تا جایی ک...</td>\n",
              "      <td>0.0</td>\n",
              "    </tr>\n",
              "    <tr>\n",
              "      <th>5196</th>\n",
              "      <td>پسرا، هم جنسا، چرا دختر هرچی بددهن باشه و کصشع...</td>\n",
              "      <td>0.0</td>\n",
              "    </tr>\n",
              "    <tr>\n",
              "      <th>5197</th>\n",
              "      <td>هدایت و بازداشت شده است. \\nامارات سیاست سکوت ر...</td>\n",
              "      <td>0.0</td>\n",
              "    </tr>\n",
              "    <tr>\n",
              "      <th>5198</th>\n",
              "      <td>عزیزان، کسی گفته کاربران توئیتر مستجاب الدعوه‌...</td>\n",
              "      <td>0.0</td>\n",
              "    </tr>\n",
              "    <tr>\n",
              "      <th>5199</th>\n",
              "      <td>میگن هیچ چیزی بدون دلیل نیست\\nهمه چی دست به دس...</td>\n",
              "      <td>0.0</td>\n",
              "    </tr>\n",
              "  </tbody>\n",
              "</table>\n",
              "</div>"
            ],
            "text/plain": [
              "                                                  tweet  class\n",
              "5195  من ایشون میشناسم تو اینستام پیج داره تا جایی ک...    0.0\n",
              "5196  پسرا، هم جنسا، چرا دختر هرچی بددهن باشه و کصشع...    0.0\n",
              "5197  هدایت و بازداشت شده است. \\nامارات سیاست سکوت ر...    0.0\n",
              "5198  عزیزان، کسی گفته کاربران توئیتر مستجاب الدعوه‌...    0.0\n",
              "5199  میگن هیچ چیزی بدون دلیل نیست\\nهمه چی دست به دس...    0.0"
            ]
          },
          "metadata": {
            "tags": []
          },
          "execution_count": 7
        }
      ]
    },
    {
      "cell_type": "code",
      "metadata": {
        "id": "vfA3xpt5SDnW"
      },
      "source": [
        "def deEmojify(row):\n",
        "    text = row.tweet\n",
        "    regrex_pattern = re.compile(pattern = \"[\"\n",
        "        u\"\\U0001F600-\\U0001F64F\"  # emoticons\n",
        "        u\"\\U0001F300-\\U0001F5FF\"  # symbols & pictographs\n",
        "        u\"\\U0001F680-\\U0001F6FF\"  # transport & map symbols\n",
        "        u\"\\U0001F1E0-\\U0001F1FF\"  # flags (iOS)\n",
        "                           \"]+\", flags = re.UNICODE)\n",
        "    return regrex_pattern.sub(r'',text)"
      ],
      "execution_count": null,
      "outputs": []
    },
    {
      "cell_type": "code",
      "metadata": {
        "id": "2netn3cxSHUF"
      },
      "source": [
        "eng['tweet'] = eng.apply(deEmojify, axis=1)"
      ],
      "execution_count": null,
      "outputs": []
    },
    {
      "cell_type": "code",
      "metadata": {
        "id": "nlQJ_eCmSKZI"
      },
      "source": [
        "eng = eng.sample(frac=1).reset_index(drop=True)"
      ],
      "execution_count": null,
      "outputs": []
    },
    {
      "cell_type": "code",
      "metadata": {
        "id": "DG59dh07SNRU"
      },
      "source": [
        ""
      ],
      "execution_count": null,
      "outputs": []
    }
  ]
}